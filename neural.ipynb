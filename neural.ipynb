{
 "cells": [
  {
   "cell_type": "code",
   "execution_count": 1,
   "metadata": {},
   "outputs": [],
   "source": [
    "import os\n",
    "import itertools\n",
    "\n",
    "import numpy as np\n",
    "import wandb\n",
    "import seaborn as sn\n",
    "\n",
    "import utils\n",
    "from naive_model import NaiveModel\n",
    "import encoding\n",
    "\n",
    "NUM_EMBEDDING = 2000"
   ]
  },
  {
   "cell_type": "code",
   "execution_count": 2,
   "metadata": {
    "pycharm": {
     "name": "#%%\n"
    }
   },
   "outputs": [],
   "source": [
    "import torch\n",
    "\n",
    "import torch.nn as nn\n",
    "assert torch.cuda.is_available()\n",
    "\n",
    "def to_device(d):\n",
    "    if hasattr(d, 'cuda'):\n",
    "        return d.cuda()\n",
    "    return {k: v.cuda() for k, v in d.items()}\n",
    "\n",
    "class Model(nn.Module):\n",
    "    def __init__(self, units, combinations=encoding.NAMES):\n",
    "        super().__init__()\n",
    "        self.units = units\n",
    "\n",
    "        self.embed = nn.Embedding(num_embeddings=NUM_EMBEDDING, embedding_dim=units)\n",
    "        self.lstm = nn.LSTM(input_size=units, hidden_size=units, num_layers=1, batch_first=True, bidirectional=True)\n",
    "\n",
    "        self.tasks = {}\n",
    "        for combination in combinations:\n",
    "            out = nn.Linear(in_features=units, out_features=encoding.class_size(combination))\n",
    "            self.tasks[combination] = out\n",
    "            setattr(self, 'x'.join(combination), out)\n",
    "\n",
    "    def forward(self, x):\n",
    "        embeds = self.embed(x)\n",
    "\n",
    "        lstm_out, (h_n, c_n) = self.lstm(embeds)\n",
    "        left, right = torch.chunk(h_n, 2, dim=0)\n",
    "        merge = torch.squeeze(left + right)\n",
    "\n",
    "        outputs = { combination: f(merge) for combination, f in self.tasks.items() }\n",
    "        return outputs\n"
   ]
  },
  {
   "cell_type": "code",
   "execution_count": 3,
   "metadata": {
    "pycharm": {
     "name": "#%%\n"
    }
   },
   "outputs": [
    {
     "name": "stdout",
     "output_type": "stream",
     "text": [
      "Model(\n",
      "  (embed): Embedding(2000, 100)\n",
      "  (lstm): LSTM(100, 100, batch_first=True, bidirectional=True)\n",
      "  (BxT): Linear(in_features=100, out_features=28, bias=True)\n",
      ")\n",
      "('B', 'T')\n",
      "v=tensor([[-0.0859, -0.2237, -0.1789,  0.2127, -0.1810,  0.0110, -0.2306,  0.2161,\n",
      "          0.1873,  0.0856, -0.2968,  0.0109,  0.0547,  0.1172,  0.2727, -0.0527,\n",
      "         -0.1465,  0.1861, -0.1416,  0.2334, -0.3289,  0.1478, -0.1295, -0.1113,\n",
      "         -0.1698, -0.0929, -0.2468,  0.2675],\n",
      "        [-0.1443, -0.0158,  0.0617,  0.2430, -0.2969,  0.0045, -0.2208, -0.0239,\n",
      "          0.2190, -0.0652, -0.3013, -0.1919, -0.0387, -0.0984,  0.2926, -0.0926,\n",
      "         -0.1417, -0.1280,  0.0831,  0.2554, -0.3005,  0.2697, -0.2298, -0.0811,\n",
      "         -0.0923, -0.1898, -0.0565,  0.0399]])\n",
      "c_labels=tensor([ 6., 20.])\n",
      "labels={'B': tensor([3., 5.]), 'T': tensor([2., 4.])}\n",
      "\n"
     ]
    }
   ],
   "source": [
    "import functools\n",
    "import operator as op\n",
    "\n",
    "def sanity():\n",
    "    model = Model(100, combinations=[('B', 'T')])\n",
    "    print(model)\n",
    "    with torch.no_grad():\n",
    "        verbs = encoding.wordlist2numpy([\"אתאקלם\", \"יכפיל\"])\n",
    "        labels = {'B': torch.Tensor([3, 5]), 'T': torch.Tensor([2, 4])}\n",
    "        verbs = torch.from_numpy(verbs).to(torch.int64)\n",
    "        tag_scores = model(verbs)\n",
    "        for combination in tag_scores:\n",
    "            print(combination)\n",
    "            v = tag_scores[combination]\n",
    "            c_labels = functools.reduce(op.mul, [labels[k] for k in combination])\n",
    "            print(f'{v=}')\n",
    "            print(f'{c_labels=}')\n",
    "            print(f'{labels=}')\n",
    "            print()\n",
    "\n",
    "sanity()"
   ]
  },
  {
   "cell_type": "code",
   "execution_count": 4,
   "metadata": {},
   "outputs": [],
   "source": [
    "import concrete\n",
    "\n",
    "def load_dataset(file_pat):\n",
    "    *features_train, verbs_train = concrete.load_dataset(f'{file_pat}_train.tsv')\n",
    "    *features_test, verbs_test = concrete.load_dataset(f'{file_pat}_test.tsv')\n",
    "    return ((encoding.wordlist2numpy(verbs_train), encoding.list_of_lists_to_category(features_train)),\n",
    "            (encoding.wordlist2numpy(verbs_test) , encoding.list_of_lists_to_category(features_test )))\n",
    "\n",
    "def load_dataset_split(filename, split):\n",
    "    *features_train, verbs_train = concrete.load_dataset(filename)\n",
    "    features_test = [t[-split:] for t in features_train]\n",
    "    verbs_test = verbs_train[-split:]\n",
    "    del verbs_train[-split:]\n",
    "    for t in features_train:\n",
    "        del t[-split:]\n",
    "    return ((encoding.wordlist2numpy(verbs_train), encoding.list_of_lists_to_category(features_train)),\n",
    "            (encoding.wordlist2numpy(verbs_test ), encoding.list_of_lists_to_category(features_test )))\n"
   ]
  },
  {
   "cell_type": "code",
   "execution_count": 19,
   "metadata": {
    "collapsed": false,
    "jupyter": {
     "outputs_hidden": false
    },
    "pycharm": {
     "name": "#%%\n"
    }
   },
   "outputs": [],
   "source": [
    "BATCH_SIZE = 128\n",
    "\n",
    "def batch(a):\n",
    "    ub = a.shape[0] // BATCH_SIZE * BATCH_SIZE\n",
    "    return to_device(torch.from_numpy(a[:ub]).to(torch.int64)).split(BATCH_SIZE)\n",
    "\n",
    "def ravel_multi_index(ys, combinations):\n",
    "    nsamples = len(next(iter(ys.values())))\n",
    "    return {combination: np.array([\n",
    "        np.ravel_multi_index(tuple(ys[k][i] for k in combination), encoding.combined_shape(combination))\n",
    "        for i in range(nsamples)\n",
    "    ]) for combination in combinations}\n",
    "\n",
    "def batch_all_ys(ys):\n",
    "    res = []\n",
    "    m = {k: batch(ys[k]) for k in ys}\n",
    "    nbatches = len(next(iter(m.values())))\n",
    "    for i in range(nbatches):\n",
    "        res.append({k: m[k][i] for k in ys})\n",
    "    return res\n",
    "\n",
    "def fit(model, train, test, *, epochs,  runsize, criterion, optimizer, phases, teacher):\n",
    "    x_train, y_train = train\n",
    "    x_test, y_test = test\n",
    "    data = {\n",
    "        'train': (batch(x_train), batch_all_ys(y_train)),\n",
    "        'test':  (batch(x_test ), batch_all_ys(y_test ))\n",
    "    }\n",
    "\n",
    "    stats = utils.Stats(model.tasks.keys(), runsize)\n",
    "    \n",
    "    for epoch in range(epochs):\n",
    "        stats.epoch_start()\n",
    "        \n",
    "        for phase in phases:\n",
    "            if phase == 'train':\n",
    "                model.train()\n",
    "            else:\n",
    "                model.eval()\n",
    "\n",
    "            stats.phase_start(phase, batches_in_phase=len(data[phase][0]))\n",
    "\n",
    "            for inputs, labels in zip(*data[phase]):\n",
    "                stats.batch_start()\n",
    "                \n",
    "                if phase == 'train':\n",
    "                    outputs = model(inputs)\n",
    "                else:\n",
    "                    with torch.no_grad():\n",
    "                        outputs = model(inputs)\n",
    "\n",
    "                if teacher is not None:\n",
    "                    pseudo_labels = teacher(inputs)\n",
    "                    losses = {k: criterion(outputs[k].double(), pseudo_labels[k]) for k in outputs}\n",
    "                else:\n",
    "                    losses = {combination: criterion(output.double(), labels[combination])\n",
    "                              for combination, output in outputs.items()}\n",
    "                \n",
    "                if phase == 'train' and isinstance(criterion, nn.CrossEntropyLoss):\n",
    "                    stats.assert_reasonable_initial(losses)\n",
    "                \n",
    "                loss = sum(losses.values())\n",
    "\n",
    "                if phase == 'train':\n",
    "                    optimizer.zero_grad()\n",
    "                    loss.backward()\n",
    "                    optimizer.step()\n",
    "                \n",
    "                stats.update(loss=loss.item(),\n",
    "                             batch_size=inputs.size(0),\n",
    "                             d={k: (outputs[k], labels[k].detach()) for k in outputs})\n",
    "                \n",
    "                stats.batch_end()\n",
    "            stats.phase_end()\n",
    "        stats.epoch_end()\n",
    "    return stats\n",
    "\n",
    "@torch.no_grad()\n",
    "def predict(model, *verbs):\n",
    "    model.eval()\n",
    "    verbs = encoding.wordlist2numpy(verbs)\n",
    "    verbs = to_device(torch.from_numpy(verbs).to(torch.int64))\n",
    "    outputs = model(verbs)\n",
    "    res = {}\n",
    "    # FIX: assumes no overlaps\n",
    "    for combination, v in outputs.items():\n",
    "        combined_index = torch.argmax(v).cpu().data.numpy()\n",
    "        indices = np.unravel_index(combined_index, encoding.combined_shape(combination))\n",
    "        for k, i in zip(combination, indices):\n",
    "            assert k not in res, \"Overlapping classes are not handled\"\n",
    "            res[k] = encoding.from_category(k, i)\n",
    "    if all(r in res for r in ['R1', 'R2', 'R3', 'R4']):\n",
    "        res['R'] = ''.join(res[k] for k in ['R1', 'R2', 'R3', 'R4']).replace('.', '')\n",
    "    return res\n",
    "    "
   ]
  },
  {
   "cell_type": "code",
   "execution_count": 22,
   "metadata": {},
   "outputs": [],
   "source": [
    "arity = '3'\n",
    "gen = 'all'\n",
    "artifact_name = f'{gen}_{arity}_shuffled'\n",
    "filename = f'synthetic/{artifact_name}.tsv'  # all_verbs_shuffled\n",
    "test_size = 5000\n",
    "\n",
    "artifact = wandb.Artifact(artifact_name, type='dataset')\n",
    "artifact.add_file(filename)\n",
    "\n",
    "(train_x, pre_train_y), (test_x, pre_test_y) = load_dataset_split(filename, split=test_size)"
   ]
  },
  {
   "cell_type": "code",
   "execution_count": 8,
   "metadata": {},
   "outputs": [],
   "source": [
    "def naive_config(filename):\n",
    "    return {\n",
    "        'model': NaiveModel.learn_from_file(filename),\n",
    "        'phases': ['test'],\n",
    "        'criterion': nn.CrossEntropyLoss(),\n",
    "        'optimizer': None\n",
    "    }\n",
    "\n",
    "def teacher_config(train):\n",
    "    res = standard_config()\n",
    "    res['teacher'] = NaiveModel.learn_from_data(train)\n",
    "    res['criterion'] = nn.BCEWithLogitsLoss()  # BCELoss: works, but total loss is nan\n",
    "    return res\n",
    "\n",
    "\n",
    "def standard_config(model, lr):\n",
    "    optimizer = torch.optim.Adam(model.parameters(), lr=lr)\n",
    "    return {\n",
    "        'model': model,\n",
    "        'criterion': nn.CrossEntropyLoss(),\n",
    "        'optimizer': optimizer,\n",
    "        'phases': ['train', 'test'],\n",
    "        'teacher': None\n",
    "    }"
   ]
  },
  {
   "cell_type": "code",
   "execution_count": null,
   "metadata": {
    "pycharm": {
     "name": "#%%\n"
    },
    "scrolled": true
   },
   "outputs": [
    {
     "name": "stdout",
     "output_type": "stream",
     "text": [
      "env: WANDB_SILENT=true\n",
      "env: WANDB_MODE=dryrun\n"
     ]
    },
    {
     "data": {
      "text/html": [
       "\n",
       "            Using <a href=\"https://wandb.com\" target=\"_blank\">Weights & Biases</a> in dryrun mode. Not logging results to the cloud.<br/>\n",
       "            Call wandb.login() to authenticate this machine.<br/>\n",
       "        "
      ],
      "text/plain": [
       "<IPython.core.display.HTML object>"
      ]
     },
     "metadata": {},
     "output_type": "display_data"
    },
    {
     "name": "stdout",
     "output_type": "stream",
     "text": [
      "{'optimizer': 'adam', 'batch_size': 128, 'epochs': 1, 'runsize': 64, 'test_size': 5000, 'units': 400, 'lr': 0.0008}\n",
      " 1  3904/ 5470 B_acc: 0.830 T_acc: 0.923 R1xR2_acc: 0.815 R4_acc: 0.982 Loss: 0.9652\r"
     ]
    }
   ],
   "source": [
    "%env WANDB_SILENT true\n",
    "%env WANDB_MODE dryrun\n",
    "\n",
    "config = {\n",
    "    'optimizer': 'adam',\n",
    "    'batch_size': BATCH_SIZE,\n",
    "    'epochs': 1,\n",
    "    'runsize': 8192 // BATCH_SIZE,\n",
    "    'test_size': test_size,\n",
    "}\n",
    "# group = \n",
    "\n",
    "def experiment(combinations):\n",
    "    train_y = ravel_multi_index(pre_train_y, combinations)\n",
    "    test_y = ravel_multi_index(pre_test_y, combinations)\n",
    "    train = (train_x, train_y)\n",
    "    test = (test_x, test_y)\n",
    "    \n",
    "    units = 400\n",
    "    lr = 8e-4\n",
    "\n",
    "    config.update({\n",
    "        'units': units,\n",
    "        'lr': lr,\n",
    "    })\n",
    "    names_str = '+'.join('x'.join(combination) for combination in combinations)\n",
    "    run = wandb.init(project=\"rootem\",\n",
    "                     group=f'joint-{gen}-{arity}',  # f'lr_units_grid_search-{arity}-{wandb.util.generate_id()}',\n",
    "                     name=f'joint{gen}-{arity}-{names_str}',  # f'{gen}-{arity}-{lr:.0e}',# f'{arity}-batch_{BATCH_SIZE}', # f'all-{arity}-lr_{lr:.0e}-units_{units}',\n",
    "                     tags=[gen, arity, 'synthetic', 'shuffle', 'no_prefix'],\n",
    "                     config=config)\n",
    "\n",
    "    run.use_artifact(artifact)\n",
    "\n",
    "    wandb.config.update(config, allow_val_change=True)\n",
    "\n",
    "    print(config)\n",
    "    \n",
    "    model = to_device(Model(units=units, combinations=combinations))\n",
    "    if isinstance(model, nn.Module):\n",
    "        wandb.watch(model)\n",
    "        \n",
    "    stats = fit(train=train,\n",
    "        test=test,\n",
    "        epochs=config['epochs'],\n",
    "        runsize=config['runsize'],\n",
    "        **standard_config(model, lr)\n",
    "    )\n",
    "    # wandb.save(f\"simple_{arity}.h5\")\n",
    "    return model, stats\n",
    "\n",
    "model, stats = experiment([('B',), ('T',), ('R1', 'R2'), ('R4',)])"
   ]
  },
  {
   "cell_type": "code",
   "execution_count": null,
   "metadata": {},
   "outputs": [],
   "source": [
    "k = 'R1'\n",
    "labels = [x[::-1] for x in CLASSES[k]]\n",
    "ax = sn.heatmap(stats.confusion[k], xticklabels=labels, yticklabels=labels, square=True, robust=True, cmap=\"cividis\")"
   ]
  },
  {
   "cell_type": "code",
   "execution_count": null,
   "metadata": {},
   "outputs": [],
   "source": [
    "ax = sn.heatmap(stats.confusion_logprobs[k], xticklabels=labels, yticklabels=labels, square=True, robust=True, cmap=\"cividis\")"
   ]
  },
  {
   "cell_type": "code",
   "execution_count": 29,
   "metadata": {},
   "outputs": [
    {
     "name": "stdout",
     "output_type": "stream",
     "text": [
      "{'B': 'פעל', 'T': 'עבר', 'R1': 'ס', 'R2': 'ב', 'R4': 'ס'}\n",
      "{'B': 'פעל', 'T': 'עבר', 'R1': 'מ', 'R2': 'ק', 'R4': 'ד'}\n",
      "{'B': 'פיעל', 'T': 'עתיד', 'R1': 'מ', 'R2': 'ז', 'R4': 'ר'}\n",
      "{'B': 'פעל', 'T': 'עבר', 'R1': 'כ', 'R2': 'ר', 'R4': 'ד'}\n"
     ]
    }
   ],
   "source": [
    "print(predict(model, 'סבסו'))\n",
    "print(predict(model, 'מקדו'))\n",
    "print(predict(model, 'נמזר'))\n",
    "print(predict(model, 'כרדו'))"
   ]
  },
  {
   "cell_type": "code",
   "execution_count": 21,
   "metadata": {},
   "outputs": [
    {
     "name": "stdout",
     "output_type": "stream",
     "text": [
      "{'B': 'הפעיל', 'T': 'עבר'}\n",
      "{'B': 'פיעל', 'T': 'עבר'}\n",
      "{'B': 'פיעל', 'T': 'עבר'}\n",
      "{'B': 'פיעל', 'T': 'עבר'}\n"
     ]
    }
   ],
   "source": [
    "print(predict(model, 'הבריל'))\n",
    "print(predict(model, 'חגוו'))\n",
    "print(predict(model, 'עגו'))\n",
    "print(predict(model, 'צירלל'))"
   ]
  },
  {
   "cell_type": "code",
   "execution_count": null,
   "metadata": {},
   "outputs": [],
   "source": [
    "print(predict(model, \"השטקרפתי\"))"
   ]
  },
  {
   "cell_type": "code",
   "execution_count": null,
   "metadata": {},
   "outputs": [],
   "source": [
    "print(predict(model, \"ישסו\"))"
   ]
  },
  {
   "cell_type": "code",
   "execution_count": null,
   "metadata": {},
   "outputs": [],
   "source": [
    "import importlib\n",
    "import encoding\n",
    "import naive_model\n",
    "import utils\n",
    "encoding = importlib.reload(encoding)\n",
    "naive_model = importlib.reload(naive_model)\n",
    "utils = importlib.reload(utils)\n",
    "wandb = importlib.reload(wandb)\n",
    "Stats = utils.Stats\n",
    "NaiveModel = naive_model.NaiveModel"
   ]
  },
  {
   "cell_type": "code",
   "execution_count": null,
   "metadata": {},
   "outputs": [],
   "source": [
    "batch_all_ys(test_y)"
   ]
  },
  {
   "cell_type": "code",
   "execution_count": null,
   "metadata": {},
   "outputs": [],
   "source": [
    "test_y[('B', 'T')].shape"
   ]
  },
  {
   "cell_type": "code",
   "execution_count": null,
   "metadata": {},
   "outputs": [],
   "source": [
    "pre_test_y['B'].shape"
   ]
  },
  {
   "cell_type": "code",
   "execution_count": null,
   "metadata": {},
   "outputs": [],
   "source": []
  },
  {
   "cell_type": "code",
   "execution_count": null,
   "metadata": {},
   "outputs": [],
   "source": []
  },
  {
   "cell_type": "code",
   "execution_count": null,
   "metadata": {},
   "outputs": [],
   "source": []
  },
  {
   "cell_type": "code",
   "execution_count": null,
   "metadata": {},
   "outputs": [],
   "source": [
    "def nonempty_powerset(seq):\n",
    "    return itertools.chain.from_iterable(itertools.combinations(seq, r) for r in range(1, len(seq)+1))\n",
    "\n",
    "def tensor_outer_product(a, b, c):\n",
    "    return torch.einsum('bi,bj,bk->bijk', a, b, c)\n"
   ]
  }
 ],
 "metadata": {
  "kernelspec": {
   "display_name": "Python 3.8.2 64-bit",
   "language": "python",
   "name": "python38264bit9bb923b013d04c19b7222e7ae44d4e24"
  },
  "language_info": {
   "codemirror_mode": {
    "name": "ipython",
    "version": 3
   },
   "file_extension": ".py",
   "mimetype": "text/x-python",
   "name": "python",
   "nbconvert_exporter": "python",
   "pygments_lexer": "ipython3",
   "version": "3.8.2"
  }
 },
 "nbformat": 4,
 "nbformat_minor": 4
}
