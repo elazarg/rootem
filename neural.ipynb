{
 "cells": [
  {
   "cell_type": "code",
   "execution_count": 1,
   "metadata": {},
   "outputs": [],
   "source": [
    "import os\n",
    "\n",
    "import numpy as np\n",
    "\n",
    "import wandb\n",
    "\n",
    "import utils\n",
    "\n",
    "os.environ['WANDB_SILENT'] = 'true'\n",
    "\n",
    "NUM_EMBEDDING = 2000\n",
    "def word2numpy(txt):\n",
    "    return np.array([ord(c) for c in txt])\n",
    "\n",
    "def wordlist2numpy(lines):\n",
    "    return utils.pad_sequences([word2numpy(line) for line in lines],\n",
    "                               maxlen=12, dtype=int, value=0)\n",
    "\n",
    "RADICALS = ['.'] + list('אבגדהוזחטיכלמנסעפצקרשת') + [\"ג'\", \"ז'\", \"צ'\", 'שׂ']\n",
    "\n",
    "BINYAN = 'פעל נפעל פיעל פועל הפעיל הופעל התפעל'.split()\n",
    "TENSE = 'עבר הווה עתיד ציווי'.split()\n",
    "VOICE = 'ראשון שני שלישי'.split()\n",
    "GENDER = 'זכר נקבה'.split()\n",
    "PLURAL = 'יחיד רבים'.split()\n",
    "\n",
    "NAMES = ['B', 'T', 'V', 'G', 'P', 'R1', 'R2', 'R3', 'R4']\n",
    "FEATURES = {\n",
    "    'B': BINYAN,\n",
    "    'T': TENSE,\n",
    "    'V': VOICE,\n",
    "    'G': GENDER,\n",
    "    'P': PLURAL,\n",
    "    'R1': RADICALS,\n",
    "    'R2': RADICALS,\n",
    "    'R3': RADICALS,\n",
    "    'R4': RADICALS,\n",
    "}\n",
    "\n",
    "def to_category(name, b):\n",
    "    return FEATURES[name].index(b)\n",
    "\n",
    "def from_category(name, index):\n",
    "    return FEATURES[name][index]\n",
    "\n",
    "def list_to_category(name, bs):\n",
    "    return np.array([to_category(name, b) for b in bs])\n",
    "\n",
    "def list_from_category(name, indexes):\n",
    "    return [from_category(name, index) for index in indexes]\n",
    "\n",
    "def list_of_lists_to_category(items):\n",
    "    return { name: list_to_category(name, item)\n",
    "             for name, item in zip(NAMES, items) }"
   ]
  },
  {
   "cell_type": "code",
   "execution_count": 2,
   "metadata": {
    "collapsed": false,
    "jupyter": {
     "outputs_hidden": false
    },
    "pycharm": {
     "name": "#%%\n"
    }
   },
   "outputs": [],
   "source": [
    "import torch\n",
    "\n",
    "import torch.nn as nn\n",
    "assert torch.cuda.is_available()\n",
    "\n",
    "def to_device(d):\n",
    "    if hasattr(d, 'cuda'):\n",
    "        return d.cuda()\n",
    "    return {k: v.cuda() for k, v in d.items()}\n",
    "\n",
    "class Model(nn.Module):\n",
    "    def __init__(self, units):\n",
    "        super().__init__()\n",
    "        self.units = units\n",
    "\n",
    "        self.embed = nn.Embedding(num_embeddings=NUM_EMBEDDING, embedding_dim=units)\n",
    "        self.lstm1 = nn.LSTM(input_size=units, hidden_size=units, num_layers=1, batch_first=True, bidirectional=True)\n",
    "\n",
    "        self.binyan = nn.Linear(in_features=units, out_features=len(BINYAN))\n",
    "        self.tense = nn.Linear(in_features=units, out_features=len(TENSE))\n",
    "        self.voice = nn.Linear(in_features=units, out_features=len(VOICE))\n",
    "        self.gender = nn.Linear(in_features=units, out_features=len(GENDER))\n",
    "        self.plural = nn.Linear(in_features=units, out_features=len(PLURAL))\n",
    "\n",
    "        self.r1 = nn.Linear(in_features=units, out_features=len(RADICALS))\n",
    "        self.r2 = nn.Linear(in_features=units, out_features=len(RADICALS))\n",
    "        self.r3 = nn.Linear(in_features=units, out_features=len(RADICALS))\n",
    "        self.r4 = nn.Linear(in_features=units, out_features=len(RADICALS))\n",
    "\n",
    "        self.features = {\n",
    "            'B': self.binyan,\n",
    "            'T': self.tense,\n",
    "            'V': self.voice,\n",
    "            'G': self.gender,\n",
    "            'P': self.plural,\n",
    "\n",
    "            'R1': self.r1,\n",
    "            'R2': self.r2,\n",
    "            'R3': self.r3,\n",
    "            'R4': self.r4,\n",
    "        }\n",
    "\n",
    "    def forward(self, x):\n",
    "        embeds = self.embed(x)\n",
    "\n",
    "        lstm_out, (h_n, c_n) = self.lstm1(embeds)\n",
    "        left, right = torch.chunk(h_n, 2, dim=0)\n",
    "        merge = torch.squeeze(left + right)\n",
    "\n",
    "        outputs = { k: f(merge) for k, f in self.features.items() }\n",
    "        return outputs\n"
   ]
  },
  {
   "cell_type": "code",
   "execution_count": 3,
   "metadata": {
    "collapsed": false,
    "jupyter": {
     "outputs_hidden": false
    },
    "pycharm": {
     "name": "#%%\n"
    }
   },
   "outputs": [],
   "source": [
    "\n",
    "def sanity():\n",
    "    model = create_model(100)\n",
    "    with torch.no_grad():\n",
    "        verbs = wordlist2numpy([\"כשאתאקלם\"])\n",
    "        verbs = to_device(torch.from_numpy(verbs).to(torch.int64))\n",
    "        tag_scores = model(verbs)\n",
    "        for k in NAMES:\n",
    "            print(k)\n",
    "            v = nn.Softmax()(tag_scores[k]).cpu().detach().numpy()\n",
    "            print(v)\n",
    "            print(f'{np.mean(v)=}')\n",
    "            print(f'{-np.log(1/len(v))=}')\n",
    "            print()\n",
    "\n",
    "# sanity()"
   ]
  },
  {
   "cell_type": "code",
   "execution_count": 4,
   "metadata": {},
   "outputs": [],
   "source": [
    "import concrete\n",
    "\n",
    "def load_dataset(file_pat):\n",
    "    *features_train, verbs_train = concrete.load_dataset(f'{file_pat}_train.tsv')\n",
    "    *features_test, verbs_test = concrete.load_dataset(f'{file_pat}_test.tsv')\n",
    "    return ((wordlist2numpy(verbs_train), list_of_lists_to_category(features_train)),\n",
    "            (wordlist2numpy(verbs_test), list_of_lists_to_category(features_test)))\n",
    "\n",
    "def load_dataset_split(filename, split):\n",
    "    *features_train, verbs_train = concrete.load_dataset(filename)\n",
    "    features_test = [t[-split:] for t in features_train]\n",
    "    verbs_test = verbs_train[-split:]\n",
    "    del verbs_train[-split:]\n",
    "    for t in features_train:\n",
    "        del t[-split:]\n",
    "    return ((wordlist2numpy(verbs_train), list_of_lists_to_category(features_train)),\n",
    "            (wordlist2numpy(verbs_test), list_of_lists_to_category(features_test)))\n"
   ]
  },
  {
   "cell_type": "code",
   "execution_count": 5,
   "metadata": {
    "collapsed": false,
    "jupyter": {
     "outputs_hidden": false
    },
    "pycharm": {
     "name": "#%%\n"
    }
   },
   "outputs": [],
   "source": [
    "BATCH_SIZE = 64\n",
    "\n",
    "def batch(a):\n",
    "    ub = a.shape[0] // BATCH_SIZE * BATCH_SIZE\n",
    "    return to_device(torch.from_numpy(a[:ub]).to(torch.int64)).split(BATCH_SIZE)\n",
    "\n",
    "def batch_all_ys(ys):\n",
    "    res = []\n",
    "    m = {k: batch(ys[k]) for k in NAMES}\n",
    "    nbatches = len(m['B'])\n",
    "    for i in range(nbatches):\n",
    "        res.append({k: m[k][i] for k in NAMES})\n",
    "    return res\n",
    "\n",
    "def callback(phase, epoch, batch, total, running_corrects, running_divisor, running_loss):\n",
    "    mean_loss = np.mean(running_loss)\n",
    "    accuracies = {k: running_corrects[k] / running_divisor for k in running_corrects}\n",
    "    \n",
    "    print(\"{:2} {:5}/{:5}\".format(epoch, batch, total), end=' ')\n",
    "    for k in accuracies:\n",
    "        print(\"{}_acc: {:.3f}\".format(k, accuracies[k]), end=' ')\n",
    "    print(\"Loss: {:.4f}\".format(mean_loss), end='\\r')\n",
    "\n",
    "    pref = \"train/\" if phase == 'train' else \"val/\"\n",
    "    wandb.log({'phase': phase,\n",
    "               'epoch': epoch,\n",
    "               # 'batch': batch,\n",
    "               f\"{pref}Loss\": mean_loss,\n",
    "               **{f\"{pref}Accuracy_{k}\": accuracies[k] for k in accuracies}})\n",
    "\n",
    "def fit(model, x_train, y_train, x_test, y_test, *, epochs, criterion, optimizer, runsize, train_only=False):\n",
    "    \n",
    "    data = {\n",
    "        'train': (batch(x_train), batch_all_ys(y_train)),\n",
    "        'test': (batch(x_test), batch_all_ys(y_test))\n",
    "    }\n",
    "    \n",
    "    initial = True\n",
    "    \n",
    "    for epoch in range(epochs):\n",
    "        for phase in ['train', 'test']:\n",
    "            if train_only and phase != 'train':\n",
    "                continue\n",
    "\n",
    "            if phase == 'train':\n",
    "                model.train()\n",
    "            else:\n",
    "                model.eval()\n",
    "\n",
    "            total = len(data[phase][0])\n",
    "\n",
    "            running_corrects = {k: 0.0 for k in NAMES}\n",
    "            running_divisor = 0\n",
    "            running_loss = []\n",
    "\n",
    "            for i, (inputs, labels) in enumerate(zip(*data[phase]), 1):\n",
    "                \n",
    "                if phase == 'train':\n",
    "                    outputs = model(inputs)\n",
    "                else:\n",
    "                    with torch.no_grad():\n",
    "                        outputs = model(inputs)\n",
    "\n",
    "                losses = {k: criterion(outputs[k], labels[k]) for k in outputs}\n",
    "                if initial:\n",
    "                    expected_losses = {k: -np.log(1/len(FEATURES[k])) for k in outputs}\n",
    "                    # print(*(f'{k}: {v.item():.4f}' for k, v in losses.items()))\n",
    "                    # print(*(f'{k}: {v:.4f}' for k, v in expected_losses.items()))\n",
    "                    assert all(abs(1 - losses[k] / expected_losses[k]) < 0.1\n",
    "                               for k in losses)\n",
    "                    initial = False\n",
    "                loss = sum(losses.values())\n",
    "\n",
    "                if phase == 'train':\n",
    "                    optimizer.zero_grad()\n",
    "                    loss.backward()\n",
    "                    optimizer.step()\n",
    "                    \n",
    "                running_loss.append(loss.item())\n",
    "                \n",
    "                running_divisor += inputs.size(0)\n",
    "                for k in outputs:\n",
    "                    running_corrects[k] += torch.sum(torch.argmax(outputs[k], dim=1) == labels[k].detach())\n",
    "                \n",
    "                if phase == 'train' and i % runsize == 0:\n",
    "                    callback(phase, epoch, i, total, running_corrects, running_divisor, running_loss)\n",
    "                    running_corrects = {k: 0.0 for k in NAMES}\n",
    "                    running_divisor = 0.0\n",
    "                    running_loss = []\n",
    "                    \n",
    "            if phase != 'train':\n",
    "                callback(phase, epoch, i, total, running_corrects, running_divisor, running_loss)\n",
    "                \n",
    "            print()\n",
    "\n",
    "@torch.no_grad()\n",
    "def predict(model, *verbs):\n",
    "    model.eval()\n",
    "    verbs = wordlist2numpy(verbs)\n",
    "    verbs = to_device(torch.from_numpy(verbs).to(torch.int64))\n",
    "    outputs = model(verbs)\n",
    "    res = {k: from_category(k, torch.argmax(v))\n",
    "              for k, v in outputs.items()}\n",
    "    res['R'] = ''.join(res[k] for k in ['R1', 'R2', 'R3', 'R4']).replace('.', '')\n",
    "    return res\n",
    "    "
   ]
  },
  {
   "cell_type": "code",
   "execution_count": 9,
   "metadata": {},
   "outputs": [],
   "source": [
    "arity = '3'\n",
    "artifact_name = f'all_{arity}_shuffled'\n",
    "filename = f'synthetic/{artifact_name}.tsv'  # all_verbs_shuffled\n",
    "test_size = 5000\n",
    "\n",
    "artifact = wandb.Artifact(artifact_name, type='dataset')\n",
    "artifact.add_file(filename)\n",
    "\n",
    "train, test = load_dataset_split(filename, split=test_size)"
   ]
  },
  {
   "cell_type": "code",
   "execution_count": 10,
   "metadata": {
    "pycharm": {
     "name": "#%%\n"
    }
   },
   "outputs": [
    {
     "data": {
      "text/html": [
       "\n",
       "                Logging results to <a href=\"https://wandb.com\" target=\"_blank\">Weights & Biases</a> <a href=\"https://docs.wandb.com/integrations/jupyter.html\" target=\"_blank\">(Documentation)</a>.<br/>\n",
       "                Project page: <a href=\"https://app.wandb.ai/elazarg/rootem\" target=\"_blank\">https://app.wandb.ai/elazarg/rootem</a><br/>\n",
       "                Run page: <a href=\"https://app.wandb.ai/elazarg/rootem/runs/2ql82smr\" target=\"_blank\">https://app.wandb.ai/elazarg/rootem/runs/2ql82smr</a><br/>\n",
       "            "
      ],
      "text/plain": [
       "<IPython.core.display.HTML object>"
      ]
     },
     "metadata": {},
     "output_type": "display_data"
    },
    {
     "name": "stdout",
     "output_type": "stream",
     "text": [
      "{'optimizer': 'adam', 'batch_size': 64, 'epochs': 1, 'runsize': 128, 'test_size': 5000, 'units': 400, 'lr': 0.0008}\n",
      " 0 10496/10547 B_acc: 0.829 T_acc: 0.921 V_acc: 0.688 G_acc: 0.800 P_acc: 0.979 R1_acc: 0.975 R2_acc: 0.818 R3_acc: 1.000 R4_acc: 0.983 Loss: 1.9435\n",
      " 0    78/   78 B_acc: 0.829 T_acc: 0.923 V_acc: 0.689 G_acc: 0.790 P_acc: 0.977 R1_acc: 0.973 R2_acc: 0.814 R3_acc: 1.000 R4_acc: 0.984 Loss: 1.9558\n"
     ]
    },
    {
     "data": {
      "text/plain": [
       "[]"
      ]
     },
     "execution_count": 10,
     "metadata": {},
     "output_type": "execute_result"
    }
   ],
   "source": [
    "config = {\n",
    "    'optimizer': 'adam',\n",
    "    'batch_size': BATCH_SIZE,\n",
    "    'epochs': 1,\n",
    "    'runsize': 128,\n",
    "    'test_size': test_size,\n",
    "}\n",
    "# group = f'lr_units_grid_search-{arity}-{wandb.util.generate_id()}'\n",
    "\n",
    "units = 400\n",
    "lr = 8e-4\n",
    "\n",
    "config.update({\n",
    "    'units': units,\n",
    "    'lr': lr,\n",
    "})\n",
    "\n",
    "run = wandb.init(project=\"rootem\",\n",
    "                 # group=group,\n",
    "                 name=f'all-{arity}-lr_{lr:.0e}-units_{units}',\n",
    "                 tags=['all', arity, 'synthetic', 'shuffle', 'no_prefix'],\n",
    "                 config=config)\n",
    "\n",
    "run.use_artifact(artifact)\n",
    "\n",
    "wandb.config.update(config, allow_val_change=True)\n",
    "\n",
    "model = to_device(Model(units=config['units']))\n",
    "wandb.watch(model)\n",
    "\n",
    "print(config)\n",
    "fit(model,\n",
    "    *train,\n",
    "    *test,\n",
    "    epochs=config['epochs'],\n",
    "    criterion=nn.CrossEntropyLoss(),\n",
    "    optimizer=torch.optim.Adam(model.parameters(), lr=config['lr']),\n",
    "    runsize=config['runsize'],\n",
    "    train_only=False,\n",
    ")\n",
    "\n",
    "wandb.save(f\"simple_{arity}.h5\")"
   ]
  },
  {
   "cell_type": "code",
   "execution_count": null,
   "metadata": {},
   "outputs": [],
   "source": [
    "print(predict(model, 'סבסו'))\n",
    "print(predict(model, 'מקדו'))\n",
    "print(predict(model, 'נמזר'))\n",
    "print(predict(model, 'כרדו'))"
   ]
  },
  {
   "cell_type": "code",
   "execution_count": null,
   "metadata": {},
   "outputs": [],
   "source": [
    "print(predict(model, 'הבריל'))\n",
    "print(predict(model, 'חגוו'))\n",
    "print(predict(model, 'עגו'))\n",
    "print(predict(model, 'צירלל'))"
   ]
  },
  {
   "cell_type": "code",
   "execution_count": null,
   "metadata": {},
   "outputs": [],
   "source": [
    "print(predict(model, \"השטקרפתי\"))"
   ]
  },
  {
   "cell_type": "code",
   "execution_count": null,
   "metadata": {},
   "outputs": [],
   "source": [
    "print(predict(model, \"ישצו\"))"
   ]
  },
  {
   "cell_type": "code",
   "execution_count": null,
   "metadata": {},
   "outputs": [],
   "source": [
    "print(f'{1e-4:.0e}')"
   ]
  },
  {
   "cell_type": "code",
   "execution_count": 24,
   "metadata": {},
   "outputs": [],
   "source": []
  },
  {
   "cell_type": "code",
   "execution_count": null,
   "metadata": {},
   "outputs": [],
   "source": []
  }
 ],
 "metadata": {
  "kernelspec": {
   "display_name": "Python 3.8.2 64-bit",
   "language": "python",
   "name": "python38264bit9bb923b013d04c19b7222e7ae44d4e24"
  },
  "language_info": {
   "codemirror_mode": {
    "name": "ipython",
    "version": 3
   },
   "file_extension": ".py",
   "mimetype": "text/x-python",
   "name": "python",
   "nbconvert_exporter": "python",
   "pygments_lexer": "ipython3",
   "version": "3.8.2"
  }
 },
 "nbformat": 4,
 "nbformat_minor": 4
}
