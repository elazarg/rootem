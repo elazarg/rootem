{
 "cells": [
  {
   "cell_type": "code",
   "execution_count": 1,
   "metadata": {},
   "outputs": [],
   "source": [
    "import numpy as np\n",
    "\n",
    "import utils\n",
    "\n",
    "NUM_EMBEDDING = 2000\n",
    "def word2numpy(txt):\n",
    "    return np.array([ord(c) for c in txt])\n",
    "\n",
    "def wordlist2numpy(lines):\n",
    "    return utils.pad_sequences([word2numpy(line) for line in lines],\n",
    "                               maxlen=12, dtype=int, value=0)\n",
    "\n",
    "ALL_BINYAN = 'פעל נפעל פיעל פועל הפעיל הופעל התפעל'.split()\n",
    "BINYAN_SIZE = len(ALL_BINYAN)\n",
    "\n",
    "def binyan_to_category(b):\n",
    "    return ALL_BINYAN.index(b)\n",
    "\n",
    "\n",
    "def binyan_list_to_category(bs):\n",
    "    return np.array([binyan_to_category(b) for b in bs])"
   ]
  },
  {
   "cell_type": "code",
   "execution_count": 8,
   "metadata": {
    "collapsed": false,
    "jupyter": {
     "outputs_hidden": false
    },
    "pycharm": {
     "name": "#%%\n"
    }
   },
   "outputs": [],
   "source": [
    "import torch\n",
    "\n",
    "import torch.nn as nn\n",
    "assert torch.cuda.is_available()\n",
    "\n",
    "\n",
    "class Model(nn.Module):\n",
    "    def __init__(self, UNITS):\n",
    "        super().__init__()\n",
    "        self.units = UNITS\n",
    "\n",
    "        self.embed = nn.Embedding(num_embeddings=NUM_EMBEDDING, embedding_dim=UNITS)\n",
    "        self.lstm1 = nn.LSTM(input_size=UNITS, hidden_size=UNITS, num_layers=1, batch_first=True, bidirectional=True)\n",
    "\n",
    "        self.binyan = nn.Linear(in_features=UNITS, out_features=BINYAN_SIZE)\n",
    "\n",
    "    def forward(self, x):\n",
    "        embeds = self.embed(x)\n",
    "\n",
    "        lstm_out, (h_n, c_n) = self.lstm1(embeds)\n",
    "        left, right = torch.chunk(h_n, 2, dim=0)\n",
    "        merge = torch.squeeze(left + right)\n",
    "\n",
    "        binyan = self.binyan(merge)\n",
    "        return { 'B': binyan }\n",
    "\n",
    "model = Model(UNITS=125)\n",
    "criterion = nn.CrossEntropyLoss()  # add ignore_index for root\n",
    "optimizer = torch.optim.Adam(model.parameters(), lr=2e-3)\n",
    "\n",
    "def to_device(d):\n",
    "    if hasattr(d, 'cuda'):\n",
    "        return d.cuda()\n",
    "    return {k: v.cuda() for k, v in d.items()}\n",
    "\n",
    "model = to_device(model)"
   ]
  },
  {
   "cell_type": "code",
   "execution_count": 3,
   "metadata": {
    "collapsed": false,
    "jupyter": {
     "outputs_hidden": false
    },
    "pycharm": {
     "name": "#%%\n"
    }
   },
   "outputs": [
    {
     "name": "stdout",
     "output_type": "stream",
     "text": [
      "[[1497 1491 1506 1514 1497    0    0    0    0    0    0    0]\n",
      " [1492 1514 1488 1508 1505    0    0    0    0    0    0    0]\n",
      " [1497 1488 1489 1491    0    0    0    0    0    0    0    0]]\n",
      "[0 6 2]\n",
      "tag_scores[\"B\"].shape=torch.Size([3, 7])\n",
      "np.argmax(tag_scores['B'].cpu(), axis=1).shape=torch.Size([3])\n",
      "expected.shape=(3,)\n"
     ]
    }
   ],
   "source": [
    "\n",
    "wordlist = ['ידעתי', 'התאפס', 'יאבד']\n",
    "binyanlist = ['פעל', 'התפעל', 'פיעל']\n",
    "print(wordlist2numpy(wordlist))\n",
    "print(binyan_list_to_category(binyanlist))\n",
    "\n",
    "def sanity():\n",
    "    with torch.no_grad():\n",
    "        numpy_inp = wordlist2numpy(wordlist)\n",
    "        inputs = to_device(torch.from_numpy(numpy_inp).to(torch.int64))\n",
    "        tag_scores = model(inputs)\n",
    "        expected = binyan_list_to_category(binyanlist)\n",
    "        print(f'{tag_scores[\"B\"].shape=}')\n",
    "        print(f\"{np.argmax(tag_scores['B'].cpu(), axis=1).shape=}\")\n",
    "        print(f\"{expected.shape=}\")\n",
    "\n",
    "sanity()"
   ]
  },
  {
   "cell_type": "code",
   "execution_count": 12,
   "metadata": {
    "collapsed": false,
    "jupyter": {
     "outputs_hidden": false
    },
    "pycharm": {
     "name": "#%%\n"
    }
   },
   "outputs": [],
   "source": [
    "BATCH_SIZE = 32\n",
    "\n",
    "def batch(a):\n",
    "    ub = a.shape[0] // BATCH_SIZE * BATCH_SIZE\n",
    "    return torch.from_numpy(a[:ub]).to(torch.int64).split(BATCH_SIZE)\n",
    "\n",
    "def batch_all_y(y):\n",
    "    return [{'B': b } for b in batch(y)]\n",
    "\n",
    "def accuracy(output, ybatch):\n",
    "    n = (ybatch != 0).sum()\n",
    "    c = np.argmax(output, axis=1)\n",
    "    return ((c == ybatch) & (c != 0)).sum() / n\n",
    "\n",
    "def fit(x_train, y_train, epoch):\n",
    "    x_all = batch(x_train)\n",
    "    y_all = batch_all_y(y_train)\n",
    "\n",
    "    total = len(x_all)\n",
    "    accs = {'B': [] }\n",
    "    for i, (x, y) in enumerate(zip(x_all, y_all)):\n",
    "\n",
    "        x = to_device(x)\n",
    "\n",
    "        optimizer.zero_grad()\n",
    "        outputs = model(x)\n",
    "\n",
    "        outputs = to_device(outputs)\n",
    "\n",
    "        y = to_device(y)\n",
    "        sub_losses = {k: criterion(outputs[k], y[k]) for k in outputs}\n",
    "        loss = sum(sub_losses.values())\n",
    "        loss.backward()\n",
    "\n",
    "        optimizer.step()\n",
    "\n",
    "        outputs = {k: v.cpu().data.numpy() for k, v in outputs.items()}\n",
    "        y = {k: v.cpu().data.numpy() for k, v in y.items()}\n",
    "\n",
    "        for k in outputs:\n",
    "            accs[k].append(accuracy(outputs[k], y[k]))\n",
    "\n",
    "        if i % 10 == 0:\n",
    "            print(\"{} {:4}/{}\".format(epoch, i, total), end=' ')\n",
    "            for k in accs:\n",
    "                print(\"{}_acc: {:.4f}\".format(k, np.mean(accs[k])), end=' ')\n",
    "            print(\"Loss: {:.4f}\".format(loss.item()), end='\\r')\n",
    "            accs = {'B': [] }\n",
    "    print()\n",
    "\n",
    "def validate(x_valid, y_valid):\n",
    "    x_all = batch(x_valid)\n",
    "    y_all = batch_all_y(y_valid)\n",
    "\n",
    "    with torch.no_grad():\n",
    "        accs = {'B': [] }\n",
    "        losses = []\n",
    "        for i, (x, y) in enumerate(zip(x_all, y_all)):\n",
    "            x = to_device(x)\n",
    "\n",
    "            outputs = to_device(model(x))\n",
    "\n",
    "            y = to_device(y)\n",
    "\n",
    "            sub_losses = {k: criterion(outputs[k], y[k]) for k in outputs}\n",
    "            loss = sum(sub_losses.values())\n",
    "\n",
    "            outputs = {k: v.cpu().data.numpy() for k, v in outputs.items()}\n",
    "            y = {k: v.cpu().data.numpy() for k, v in y.items()}\n",
    "\n",
    "            for k in outputs:\n",
    "                accs[k].append(accuracy(outputs[k], y[k]))\n",
    "            losses.append(loss.item())\n",
    "        print(\"  \", end=\"\")\n",
    "        for k in accs:\n",
    "            print(\"{}_acc: {:.4f}\".format(k, np.mean(accs[k])), end=' ')\n",
    "        print(\"Loss: {:.4f}\".format(np.mean(losses)))\n",
    "\n",
    "def run_experiment(train, valid, epochs):\n",
    "    train_x, train_y = wordlist2numpy(train[0]), binyan_list_to_category(train[1])\n",
    "    valid_x, valid_y = wordlist2numpy(valid[0]), binyan_list_to_category(valid[1])\n",
    "    for e in range(epochs):\n",
    "        fit(train_x, train_y, epoch=e)\n",
    "        validate(valid_x, valid_y)\n"
   ]
  },
  {
   "cell_type": "code",
   "execution_count": 7,
   "metadata": {
    "collapsed": false,
    "jupyter": {
     "outputs_hidden": false
    },
    "pycharm": {
     "name": "#%%\n"
    }
   },
   "outputs": [],
   "source": [
    "import concrete\n",
    "\n",
    "train = concrete.load_dataset('random_train.tsv')\n",
    "valid = concrete.load_dataset('random_validate.tsv')"
   ]
  },
  {
   "cell_type": "code",
   "execution_count": null,
   "metadata": {
    "collapsed": false,
    "jupyter": {
     "outputs_hidden": false
    },
    "pycharm": {
     "name": "#%%\n"
    }
   },
   "outputs": [
    {
     "name": "stdout",
     "output_type": "stream",
     "text": [
      "0 3120/3125 B_acc: 0.9262 Loss: 0.3707Loss: 0.1014\n",
      "  B_acc: 0.8751 Loss: 0.3237\n",
      "1 3120/3125 B_acc: 0.9247 Loss: 0.3918\n",
      "  B_acc: 0.8708 Loss: 0.3314\n",
      "2 3120/3125 B_acc: 0.9374 Loss: 0.3293 B_acc: 0.9107 Loss: 0.1390Loss: 0.1943Loss: 0.2345Loss: 0.3047 B_acc: 0.9254 Loss: 0.1920Loss: 0.1126Loss: 0.4120Loss: 0.1769\n",
      "  B_acc: 0.8717 Loss: 0.3345\n",
      "3 3120/3125 B_acc: 0.9478 Loss: 0.3183Loss: 0.2125Loss: 0.2019 B_acc: 0.9186 Loss: 0.3154 B_acc: 0.9001 Loss: 0.1637\n",
      "  B_acc: 0.8668 Loss: 0.3433\n",
      "4 1560/3125 B_acc: 0.9092 Loss: 0.0991 B_acc: 0.9178 Loss: 0.1406Loss: 0.2077 B_acc: 0.9206 Loss: 0.2320 B_acc: 0.9006 Loss: 0.1789\r"
     ]
    }
   ],
   "source": [
    "run_experiment(train, valid, 10)\n",
    "\n"
   ]
  }
 ],
 "metadata": {
  "kernelspec": {
   "display_name": "Python 3.8.2 64-bit",
   "language": "python",
   "name": "python38264bit9bb923b013d04c19b7222e7ae44d4e24"
  },
  "language_info": {
   "codemirror_mode": {
    "name": "ipython",
    "version": 3
   },
   "file_extension": ".py",
   "mimetype": "text/x-python",
   "name": "python",
   "nbconvert_exporter": "python",
   "pygments_lexer": "ipython3",
   "version": "3.8.2"
  }
 },
 "nbformat": 4,
 "nbformat_minor": 4
}
