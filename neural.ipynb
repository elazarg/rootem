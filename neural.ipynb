{
 "cells": [
  {
   "cell_type": "code",
   "execution_count": 1,
   "metadata": {},
   "outputs": [],
   "source": [
    "%load_ext autoreload\n",
    "%autoreload 2"
   ]
  },
  {
   "cell_type": "code",
   "execution_count": 2,
   "metadata": {},
   "outputs": [],
   "source": [
    "import numpy as np\n",
    "import wandb\n",
    "import torch\n",
    "import torch.nn as nn\n",
    "\n",
    "import utils\n",
    "from naive_model import NaiveModel\n",
    "import encoding"
   ]
  },
  {
   "cell_type": "code",
   "execution_count": 3,
   "metadata": {
    "pycharm": {
     "name": "#%%\n"
    }
   },
   "outputs": [],
   "source": [
    "NUM_EMBEDDING = 2000\n",
    "\n",
    "assert torch.cuda.is_available()\n",
    "torch.backends.cudnn.benchmark = True\n",
    "torch.set_default_tensor_type('torch.cuda.FloatTensor')\n",
    "\n",
    "def to_device(d):\n",
    "    if hasattr(d, 'cuda'):\n",
    "        return d.cuda()\n",
    "    return {k: v.cuda() for k, v in d.items()}\n",
    "\n",
    "class Model(nn.Module):\n",
    "    def __init__(self, units, combinations=encoding.NAMES):\n",
    "        super().__init__()\n",
    "        self.units = units\n",
    "\n",
    "        self.embed = nn.Embedding(num_embeddings=NUM_EMBEDDING, embedding_dim=units)\n",
    "        self.lstm = nn.LSTM(input_size=units, hidden_size=units, num_layers=1, batch_first=True, bidirectional=True)\n",
    "\n",
    "        self.tasks = {}\n",
    "        for combination in combinations:\n",
    "            out = nn.Linear(in_features=units, out_features=encoding.class_size(combination))\n",
    "            self.tasks[combination] = out\n",
    "            setattr(self, encoding.class_name(combination), out)\n",
    "\n",
    "    def forward(self, x):\n",
    "        embeds = self.embed(x)\n",
    "\n",
    "        lstm_out, (h_n, c_n) = self.lstm(embeds)\n",
    "        left, right = torch.chunk(h_n, 2, dim=0)\n",
    "        merge = torch.squeeze(left + right)\n",
    "\n",
    "        outputs = { combination: f(merge) for combination, f in self.tasks.items() }\n",
    "        return outputs\n"
   ]
  },
  {
   "cell_type": "code",
   "execution_count": 4,
   "metadata": {
    "pycharm": {
     "name": "#%%\n"
    }
   },
   "outputs": [
    {
     "name": "stdout",
     "output_type": "stream",
     "text": [
      "Model(\n",
      "  (embed): Embedding(2000, 100)\n",
      "  (lstm): LSTM(100, 100, batch_first=True, bidirectional=True)\n",
      "  (BxT): Linear(in_features=100, out_features=28, bias=True)\n",
      ")\n",
      "('B', 'T')\n",
      "v=tensor([[-1.1145e-02, -2.1850e-02, -1.0326e-01, -3.6377e-02,  5.9284e-02,\n",
      "         -3.2209e-03,  4.0498e-02, -1.4735e-01, -6.6154e-02, -2.4741e-02,\n",
      "         -2.4274e-02, -1.2280e-01,  1.6434e-01,  3.2711e-02, -1.1328e-01,\n",
      "          7.5939e-02, -1.4824e-01, -1.6729e-01, -1.1893e-01,  7.0057e-02,\n",
      "         -1.0119e-01,  7.2321e-02, -4.6535e-02,  6.9934e-02, -1.5001e-01,\n",
      "         -2.7894e-01, -1.1560e-02,  1.5289e-01],\n",
      "        [-1.1771e-01,  1.1270e-01, -1.1776e-01,  5.1567e-02, -1.5437e-01,\n",
      "         -1.2678e-01, -2.7054e-02,  3.7978e-03, -1.8110e-04,  2.6344e-02,\n",
      "         -1.6779e-01, -4.6006e-02,  1.1209e-01,  1.6043e-01,  1.2202e-01,\n",
      "         -2.8303e-02, -5.5611e-02, -6.9056e-02,  2.2200e-03,  3.4607e-02,\n",
      "          1.4692e-02,  2.7360e-02,  4.0473e-02,  1.1863e-01, -9.5719e-02,\n",
      "         -2.6245e-01, -5.5231e-02,  3.2200e-01]])\n",
      "labels={'B': tensor([3., 5.]), 'T': tensor([2., 4.])}\n",
      "\n"
     ]
    }
   ],
   "source": [
    "def sanity():\n",
    "    model = to_device(Model(100, combinations=[('B', 'T')]))\n",
    "    print(model)\n",
    "    with torch.no_grad():\n",
    "        verbs = encoding.wordlist2numpy([\"אתאקלם\", \"יכפיל\"])\n",
    "        labels = {'B': torch.Tensor([3, 5]), 'T': torch.Tensor([2, 4])}\n",
    "        verbs = to_device(torch.from_numpy(verbs).to(torch.int64))\n",
    "        tag_scores = model(verbs)\n",
    "        for combination in tag_scores:\n",
    "            print(combination)\n",
    "            v = tag_scores[combination]\n",
    "            print(f'{v=}')\n",
    "            print(f'{labels=}')\n",
    "            print()\n",
    "\n",
    "sanity()"
   ]
  },
  {
   "cell_type": "code",
   "execution_count": 12,
   "metadata": {
    "collapsed": false,
    "jupyter": {
     "outputs_hidden": false
    },
    "pycharm": {
     "name": "#%%\n"
    }
   },
   "outputs": [],
   "source": [
    "BATCH_SIZE = 128\n",
    "\n",
    "def fit(model, train, test, *, epochs,  runsize, criterion, optimizer, phases, teacher):\n",
    "    x_train, y_train = utils.batch_xy(train, BATCH_SIZE)\n",
    "    x_test, y_test = utils.batch_xy(test, BATCH_SIZE)\n",
    "    x = {'train': x_train, 'test': x_test}\n",
    "    y = {'train': y_train, 'test': y_test}\n",
    "\n",
    "    stats = utils.Stats(model.tasks.keys(), runsize)\n",
    "    \n",
    "    for epoch in range(epochs):\n",
    "        stats.epoch_start()\n",
    "        \n",
    "        for phase in phases:\n",
    "            model.train(mode=phase == 'train')\n",
    "\n",
    "            stats.phase_start(phase, batches_in_phase=len(x[phase]))\n",
    "\n",
    "            for inputs, labels in zip(x[phase], y[phase]):\n",
    "                stats.batch_start()\n",
    "\n",
    "                inputs = to_device(inputs)\n",
    "                labels = to_device(labels)\n",
    "                \n",
    "                with utils.conditional_grad(phase=='train'):\n",
    "                    outputs = model(inputs)\n",
    "\n",
    "                if teacher is not None:\n",
    "                    pseudo_labels = teacher(inputs)\n",
    "                    losses = {k: criterion(outputs[k].double(), pseudo_labels[k]) for k in outputs}\n",
    "                else:\n",
    "                    losses = {combination: criterion(output.double(), labels[combination])\n",
    "                              for combination, output in outputs.items()}\n",
    "                \n",
    "                if phase == 'train':\n",
    "                    stats.assert_reasonable_initial(losses, nn.CrossEntropyLoss)\n",
    "                \n",
    "                loss = sum(losses.values())\n",
    "\n",
    "                if phase == 'train':\n",
    "                    optimizer.zero_grad()\n",
    "                    loss.backward()\n",
    "                    optimizer.step()\n",
    "                \n",
    "                stats.update(loss=loss.item(),\n",
    "                             batch_size=inputs.size(0),\n",
    "                             d={k: (outputs[k], labels[k]) for k in outputs})\n",
    "                \n",
    "                stats.batch_end()\n",
    "            stats.phase_end()\n",
    "        stats.epoch_end()\n",
    "    return stats\n",
    "\n",
    "@torch.no_grad()\n",
    "def predict(model, *verbs):\n",
    "    model.eval()\n",
    "    verbs = encoding.wordlist2numpy(verbs)\n",
    "    verbs = to_device(torch.from_numpy(verbs).to(torch.int64))\n",
    "    outputs = model(verbs)\n",
    "    res = {}\n",
    "    # FIX: assumes no overlaps\n",
    "    for combination, v in outputs.items():\n",
    "        combined_index = torch.argmax(v).cpu().data.numpy()\n",
    "        indices = np.unravel_index(combined_index, encoding.combined_shape(combination))\n",
    "        if isinstance(combination, str):\n",
    "            combination = tuple([combination])\n",
    "        for k, i in zip(combination, indices):\n",
    "            # assert k not in res, \"Overlapping classes are not handled\"\n",
    "            s = k\n",
    "            if k in res:\n",
    "                s += \"'\"\n",
    "            res[s] = encoding.from_category(k, i)\n",
    "    if all(r in res for r in ['R1', 'R2', 'R3', 'R4']):\n",
    "        res['R'] = ''.join(res[k] for k in ['R1', 'R2', 'R3', 'R4']).replace('.', '')\n",
    "    return res"
   ]
  },
  {
   "cell_type": "code",
   "execution_count": 9,
   "metadata": {},
   "outputs": [],
   "source": [
    "torch.manual_seed(0)\n",
    "np.random.seed(0)\n",
    "\n",
    "arity = '3'\n",
    "gen = 'all'\n",
    "artifact_name = f'{gen}_{arity}_shufroot'\n",
    "filename = f'synthetic/{artifact_name}.tsv'  # all_verbs_shuffled\n",
    "test_size = 5000\n",
    "\n",
    "artifact = wandb.Artifact(artifact_name, type='dataset')\n",
    "artifact.add_file(filename)\n",
    "\n",
    "(train_x, pre_train_y), (test_x, pre_test_y) = encoding.load_dataset_split(filename, split=test_size)\n",
    "\n",
    "utils.shuffle_in_unison([train_x, *pre_train_y.values()])"
   ]
  },
  {
   "cell_type": "code",
   "execution_count": 7,
   "metadata": {},
   "outputs": [],
   "source": [
    "def naive_config(filename):\n",
    "    return {\n",
    "        'model': NaiveModel.learn_from_file(filename),\n",
    "        'phases': ['test'],\n",
    "        'criterion': nn.CrossEntropyLoss(),\n",
    "        'optimizer': None\n",
    "    }\n",
    "\n",
    "def standard_config(model, lr):\n",
    "    optimizer = torch.optim.Adam(model.parameters(), lr=lr)\n",
    "    return {\n",
    "        'model': model,\n",
    "        'criterion': nn.CrossEntropyLoss(),\n",
    "        'optimizer': optimizer,\n",
    "        'phases': ['train', 'test'],\n",
    "        'teacher': None\n",
    "    }\n",
    "\n",
    "def teacher_config(train, model, lr):\n",
    "    res = standard_config(model, lr)\n",
    "    res['teacher'] = NaiveModel.learn_from_data(train)\n",
    "    res['criterion'] = nn.BCEWithLogitsLoss()  # BCELoss: works, but total loss is nan\n",
    "    return res"
   ]
  },
  {
   "cell_type": "code",
   "execution_count": 14,
   "metadata": {
    "pycharm": {
     "name": "#%%\n"
    },
    "scrolled": true
   },
   "outputs": [
    {
     "name": "stdout",
     "output_type": "stream",
     "text": [
      "env: WANDB_SILENT=true\n",
      "env: WANDB_MODE=run\n"
     ]
    },
    {
     "data": {
      "text/html": [
       "\n",
       "                Logging results to <a href=\"https://wandb.com\" target=\"_blank\">Weights & Biases</a> <a href=\"https://docs.wandb.com/integrations/jupyter.html\" target=\"_blank\">(Documentation)</a>.<br/>\n",
       "                Project page: <a href=\"https://app.wandb.ai/elazarg/rootem\" target=\"_blank\">https://app.wandb.ai/elazarg/rootem</a><br/>\n",
       "                Run page: <a href=\"https://app.wandb.ai/elazarg/rootem/runs/lottjvmf\" target=\"_blank\">https://app.wandb.ai/elazarg/rootem/runs/lottjvmf</a><br/>\n",
       "            "
      ],
      "text/plain": [
       "<IPython.core.display.HTML object>"
      ]
     },
     "metadata": {},
     "output_type": "display_data"
    },
    {
     "name": "stdout",
     "output_type": "stream",
     "text": [
      "{'optimizer': 'adam', 'batch_size': 128, 'epochs': 1, 'runsize': 128, 'test_size': 5000, 'units': 400, 'lr': 0.0008}\n",
      " 1  5376/ 5470 B_acc: 0.825 PxG_acc: 0.778 R1_acc: 0.972 R2_acc: 0.815 R4_acc: 0.984 P_acc: 0.980 G_acc: 0.788 Loss: 1.2006\n",
      " 1    39/   39 B_acc: 0.792 PxG_acc: 0.790 R1_acc: 0.920 R2_acc: 0.803 R4_acc: 0.936 P_acc: 0.981 G_acc: 0.801 Loss: 1.8084\n"
     ]
    }
   ],
   "source": [
    "%env WANDB_SILENT true\n",
    "%env WANDB_MODE run\n",
    "\n",
    "config = {\n",
    "    'optimizer': 'adam',\n",
    "    'batch_size': BATCH_SIZE,\n",
    "    'epochs': 1,\n",
    "    'runsize': 2 * 8192 // BATCH_SIZE,\n",
    "    'test_size': test_size,\n",
    "}\n",
    "\n",
    "def experiment(combinations):\n",
    "    torch.manual_seed(1)\n",
    "    np.random.seed(1)\n",
    "    train_y = utils.ravel_multi_index(pre_train_y, combinations)\n",
    "    test_y = utils.ravel_multi_index(pre_test_y, combinations)\n",
    "    train = (train_x, train_y)\n",
    "    test = (test_x, test_y)\n",
    "    \n",
    "    units = 400\n",
    "    lr = 8e-4\n",
    "\n",
    "    config.update({\n",
    "        'units': units,\n",
    "        'lr': lr,\n",
    "    })\n",
    "    names_str = '+'.join(encoding.class_name(combination) for combination in combinations)\n",
    "    run = wandb.init(project=\"rootem\",\n",
    "                     group=f'joint-{gen}-{arity}-noroot',  # f'lr_units_grid_search-{arity}-{wandb.util.generate_id()}',\n",
    "                     name=f'joint-{gen}-{arity}-{names_str}-noroot',  # f'{gen}-{arity}-{lr:.0e}',# f'{arity}-batch_{BATCH_SIZE}', # f'all-{arity}-lr_{lr:.0e}-units_{units}',\n",
    "                     tags=[gen, arity, 'synthetic', 'shuffle-root', 'no_prefix', 'shuffle', 'partitions'],\n",
    "                     config=config)\n",
    "    with run:\n",
    "        run.use_artifact(artifact)\n",
    "\n",
    "        wandb.config.update(config, allow_val_change=True)\n",
    "\n",
    "        print(config)\n",
    "\n",
    "        model = to_device(Model(units=units, combinations=combinations))\n",
    "        if isinstance(model, nn.Module):\n",
    "            wandb.watch(model)\n",
    "\n",
    "        stats = fit(train=train,\n",
    "            test=test,\n",
    "            epochs=config['epochs'],\n",
    "            runsize=config['runsize'],\n",
    "            **standard_config(model, lr)\n",
    "        )\n",
    "        wandb.save(f\"simple_{arity}.h5\")\n",
    "\n",
    "    return model, stats\n",
    "\n",
    "model, stats = experiment(['B', ('P', 'G'), 'R1', 'R2', 'R4'])"
   ]
  },
  {
   "cell_type": "code",
   "execution_count": 13,
   "metadata": {
    "pycharm": {
     "name": "#%%\n"
    }
   },
   "outputs": [
    {
     "name": "stdout",
     "output_type": "stream",
     "text": [
      "{'B': 'הפעיל', 'P': 'יחיד', 'G': 'נקבה', 'R1': 'ב', 'R2': 'ר', 'R4': 'ל'}\n",
      "{'B': 'פעל', 'P': 'רבים', 'G': 'זכר', 'R1': 'ח', 'R2': 'ג', 'R4': 'ג'}\n",
      "{'B': 'פעל', 'P': 'רבים', 'G': 'זכר', 'R1': 'ע', 'R2': 'ו', 'R4': 'ג'}\n",
      "{'B': 'פיעל', 'P': 'יחיד', 'G': 'זכר', 'R1': 'צ', 'R2': 'ר', 'R4': 'ל'}\n",
      "{'B': 'התפעל', 'P': 'יחיד', 'G': 'נקבה', 'R1': 'ש', 'R2': 'ק', 'R4': 'פ'}\n",
      "{'B': 'פעל', 'P': 'רבים', 'G': 'זכר', 'R1': 'ש', 'R2': 'ס', 'R4': 'י'}\n"
     ]
    }
   ],
   "source": [
    "def print_words(model):\n",
    "    print(predict(model, 'הבריל'))\n",
    "    print(predict(model, 'חגוו'))\n",
    "    print(predict(model, 'עגו'))\n",
    "    print(predict(model, 'צירלל'))\n",
    "    print(predict(model, \"השטקרפתי\"))\n",
    "    print(predict(model, \"ישסו\"))\n",
    "print_words(model)"
   ]
  },
  {
   "cell_type": "code",
   "execution_count": null,
   "metadata": {},
   "outputs": [],
   "source": []
  }
 ],
 "metadata": {
  "kernelspec": {
   "display_name": "Python 3.8.2 64-bit",
   "language": "python",
   "name": "python38264bit9bb923b013d04c19b7222e7ae44d4e24"
  },
  "language_info": {
   "codemirror_mode": {
    "name": "ipython",
    "version": 3
   },
   "file_extension": ".py",
   "mimetype": "text/x-python",
   "name": "python",
   "nbconvert_exporter": "python",
   "pygments_lexer": "ipython3",
   "version": "3.8.2"
  }
 },
 "nbformat": 4,
 "nbformat_minor": 4
}
