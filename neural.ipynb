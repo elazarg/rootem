{
 "cells": [
  {
   "cell_type": "code",
   "execution_count": 16,
   "metadata": {},
   "outputs": [],
   "source": [
    "import numpy as np\n",
    "\n",
    "import utils\n",
    "\n",
    "NUM_EMBEDDING = 2000\n",
    "def word2numpy(txt):\n",
    "    return np.array([ord(c) for c in txt])\n",
    "\n",
    "def wordlist2numpy(lines):\n",
    "    return utils.pad_sequences([word2numpy(line) for line in lines],\n",
    "                               maxlen=12, dtype=int, value=0)\n",
    "\n",
    "BINYAN = 'פעל נפעל פיעל פועל הפעיל הופעל התפעל'.split()\n",
    "TENSE = 'עבר הווה עתיד ציווי'.split()\n",
    "VOICE = 'ראשון שני שלישי'.split()\n",
    "GENDER = 'זכר נקבה'.split()\n",
    "PLURAL = 'יחיד רבים'.split()\n",
    "\n",
    "NAMES = 'BTVGP'\n",
    "FEATURES = {\n",
    "    'B': BINYAN,\n",
    "    'T': TENSE,\n",
    "    'V': VOICE,\n",
    "    'G': GENDER,\n",
    "    'P': PLURAL,\n",
    "}\n",
    "\n",
    "def to_category(name, b):\n",
    "    return FEATURES[name].index(b)\n",
    "\n",
    "def from_category(name, index):\n",
    "    return FEATURES[name][index]\n",
    "\n",
    "def list_to_category(name, bs):\n",
    "    return np.array([to_category(name, b) for b in bs])\n",
    "\n",
    "def list_from_category(name, indexes):\n",
    "    return [from_category(name, index) for index in indexes]\n",
    "\n",
    "def list_of_lists_to_category(items):\n",
    "    return { name: list_to_category(name, item)\n",
    "             for name, item in zip(NAMES, items) }"
   ]
  },
  {
   "cell_type": "code",
   "execution_count": 2,
   "metadata": {
    "collapsed": false,
    "jupyter": {
     "outputs_hidden": false
    },
    "pycharm": {
     "name": "#%%\n"
    }
   },
   "outputs": [],
   "source": [
    "import torch\n",
    "\n",
    "import torch.nn as nn\n",
    "assert torch.cuda.is_available()\n",
    "\n",
    "def to_device(d):\n",
    "    if hasattr(d, 'cuda'):\n",
    "        return d.cuda()\n",
    "    return {k: v.cuda() for k, v in d.items()}\n",
    "\n",
    "def create_model():\n",
    "    class Model(nn.Module):\n",
    "        def __init__(self, UNITS):\n",
    "            super().__init__()\n",
    "            self.units = UNITS\n",
    "\n",
    "            self.embed = nn.Embedding(num_embeddings=NUM_EMBEDDING, embedding_dim=UNITS)\n",
    "            self.lstm1 = nn.LSTM(input_size=UNITS, hidden_size=UNITS, num_layers=1, batch_first=True, bidirectional=True)\n",
    "\n",
    "            # {k: nn.Linear(in_features=UNITS, out_features=len(v)) for k, v in features.items()}\n",
    "            self.binyan = nn.Linear(in_features=UNITS, out_features=len(BINYAN))\n",
    "            self.tense = nn.Linear(in_features=UNITS, out_features=len(TENSE))\n",
    "            self.voice = nn.Linear(in_features=UNITS, out_features=len(VOICE))\n",
    "            self.gender = nn.Linear(in_features=UNITS, out_features=len(GENDER))\n",
    "            self.plural = nn.Linear(in_features=UNITS, out_features=len(PLURAL))\n",
    "\n",
    "            self.features = {\n",
    "                'B': self.binyan,\n",
    "                'T': self.tense,\n",
    "                'V': self.voice,\n",
    "                'G': self.gender,\n",
    "                'P': self.plural,\n",
    "            }\n",
    "\n",
    "        def forward(self, x):\n",
    "            embeds = self.embed(x)\n",
    "\n",
    "            lstm_out, (h_n, c_n) = self.lstm1(embeds)\n",
    "            left, right = torch.chunk(h_n, 2, dim=0)\n",
    "            merge = torch.squeeze(left + right)\n",
    "\n",
    "            outputs = { k: f(merge) for k, f in self.features.items() }\n",
    "            return outputs\n",
    "\n",
    "    model = Model(UNITS=300)\n",
    "\n",
    "    return to_device(model)\n"
   ]
  },
  {
   "cell_type": "code",
   "execution_count": null,
   "metadata": {
    "collapsed": false,
    "jupyter": {
     "outputs_hidden": false
    },
    "pycharm": {
     "name": "#%%\n"
    }
   },
   "outputs": [],
   "source": [
    "\n",
    "wordlist = ['ידעתי', 'התאפס', 'יאבד']\n",
    "binyanlist = ['פעל', 'התפעל', 'פיעל']\n",
    "\n",
    "def sanity():\n",
    "    with torch.no_grad():\n",
    "        numpy_inp = wordlist2numpy(wordlist)\n",
    "        inputs = to_device(torch.from_numpy(numpy_inp).to(torch.int64))\n",
    "        tag_scores = model(inputs)\n",
    "        expected = list_to_category(BINYAN, binyanlist)\n",
    "        print(f'{tag_scores[\"B\"].shape=}')\n",
    "        print(f\"{np.argmax(tag_scores['B'].cpu(), axis=1).shape=}\")\n",
    "        print(f\"{expected.shape=}\")\n",
    "\n",
    "sanity()"
   ]
  },
  {
   "cell_type": "code",
   "execution_count": 3,
   "metadata": {},
   "outputs": [],
   "source": [
    "import concrete\n",
    "\n",
    "def load_dataset(filename):\n",
    "    *features, verbs = concrete.load_dataset(filename)\n",
    "    return wordlist2numpy(verbs), list_of_lists_to_category(features)\n",
    "\n",
    "train = load_dataset('random_train.tsv')\n",
    "valid = load_dataset('random_validate.tsv')"
   ]
  },
  {
   "cell_type": "code",
   "execution_count": 14,
   "metadata": {
    "collapsed": false,
    "jupyter": {
     "outputs_hidden": false
    },
    "pycharm": {
     "name": "#%%\n"
    }
   },
   "outputs": [],
   "source": [
    "BATCH_SIZE = 64\n",
    "\n",
    "def batch(a):\n",
    "    ub = a.shape[0] // BATCH_SIZE * BATCH_SIZE\n",
    "    return torch.from_numpy(a[:ub]).to(torch.int64).split(BATCH_SIZE)\n",
    "\n",
    "def batch_all_ys(ys):\n",
    "    res = []\n",
    "    m = {k: batch(ys[k]) for k in NAMES}\n",
    "    nbatches = len(m['B'])\n",
    "    for i in range(nbatches):\n",
    "        res.append({k: m[k][i] for k in NAMES})\n",
    "    return res\n",
    "\n",
    "def accuracy(output, ybatch):\n",
    "    n = (ybatch != 0).sum()\n",
    "    c = np.argmax(output, axis=1)\n",
    "    return ((c == ybatch) & (c != 0)).sum() / n\n",
    "\n",
    "def fit(model, x_train, y_train, x_valid, y_valid, *, epochs, criterion, optimizer):\n",
    "    data = {\n",
    "        'train': (batch(x_train), batch_all_ys(y_train)),\n",
    "        'valid': (batch(x_train), batch_all_ys(y_train))\n",
    "    }\n",
    "\n",
    "    for epoch in range(epochs):\n",
    "        for phase in ['train', 'valid']:\n",
    "            total = len(data[phase][0])\n",
    "\n",
    "            accs = {k: [] for k in NAMES}\n",
    "            losses = []\n",
    "\n",
    "            for i, (inputs, labels) in enumerate(zip(*data[phase])):\n",
    "                if phase == 'train':\n",
    "                    model.train()\n",
    "                else:\n",
    "                    model.eval()\n",
    "\n",
    "                inputs = to_device(inputs)\n",
    "                outputs = model(inputs)\n",
    "                outputs = to_device(outputs)\n",
    "                labels = to_device(labels)\n",
    "\n",
    "                loss = sum(criterion(outputs[k], labels[k]) for k in outputs)\n",
    "\n",
    "                if phase == 'train':\n",
    "                    optimizer.zero_grad()\n",
    "                    loss.backward()\n",
    "                    optimizer.step()\n",
    "\n",
    "                outputs = {k: v.cpu().data.numpy() for k, v in outputs.items()}\n",
    "                labels = {k: v.cpu().data.numpy() for k, v in labels.items()}\n",
    "\n",
    "                for k in outputs:\n",
    "                    accs[k].append(accuracy(outputs[k], labels[k]))\n",
    "\n",
    "                losses.append(loss.item())\n",
    "                RUNSIZE = 100\n",
    "                if phase == 'valid' or i % RUNSIZE == RUNSIZE - 1:\n",
    "                    print(\"{} {:4}/{}\".format(epoch, i, total), end=' ')\n",
    "                    for k in accs:\n",
    "                        print(\"{}_acc: {:.4f}\".format(k, np.mean(accs[k])), end=' ')\n",
    "                    print(\"Loss: {:.4f}\".format(np.mean(losses)), end='\\r')\n",
    "                    accs = {k: [] for k in NAMES}\n",
    "                    losses = []\n",
    "            print()\n",
    "\n",
    "def predict(model, *verbs):\n",
    "    verbs = wordlist2numpy(verbs)\n",
    "    verbs = to_device(torch.from_numpy(verbs).to(torch.int64))\n",
    "    outputs = model(verbs)\n",
    "    return {k: from_category(k, torch.argmax(v))\n",
    "            for k, v in outputs.items()}\n",
    "    "
   ]
  },
  {
   "cell_type": "code",
   "execution_count": 22,
   "metadata": {},
   "outputs": [
    {
     "data": {
      "text/plain": [
       "{'B': 'התפעל', 'T': 'עבר', 'V': 'שלישי', 'G': 'זכר', 'P': 'יחיד'}"
      ]
     },
     "execution_count": 22,
     "metadata": {},
     "output_type": "execute_result"
    }
   ],
   "source": [
    "predict(model, 'השתרמט')"
   ]
  },
  {
   "cell_type": "code",
   "execution_count": 7,
   "metadata": {
    "collapsed": false,
    "jupyter": {
     "outputs_hidden": false
    },
    "pycharm": {
     "name": "#%%\n"
    }
   },
   "outputs": [
    {
     "name": "stdout",
     "output_type": "stream",
     "text": [
      "Model(\n",
      "  (embed): Embedding(2000, 300)\n",
      "  (lstm1): LSTM(300, 300, batch_first=True, bidirectional=True)\n",
      "  (binyan): Linear(in_features=300, out_features=7, bias=True)\n",
      "  (tense): Linear(in_features=300, out_features=4, bias=True)\n",
      "  (voice): Linear(in_features=300, out_features=3, bias=True)\n",
      "  (gender): Linear(in_features=300, out_features=2, bias=True)\n",
      "  (plural): Linear(in_features=300, out_features=2, bias=True)\n",
      ")\n",
      "0 1499/1562 B_acc: 0.8709 T_acc: 0.9308 V_acc: 0.6596 G_acc: 0.7993 P_acc: 0.9833 Loss: 1.4894\n",
      "0 1561/1562 B_acc: 0.8929 T_acc: 0.9556 V_acc: 0.6889 G_acc: 0.6400 P_acc: 1.0000 Loss: 1.6556T_acc: 0.9412 V_acc: 0.6889 G_acc: 0.8636 P_acc: 0.9677 Loss: 1.4120 B_acc: 0.8929 T_acc: 0.8696 V_acc: 0.5600 G_acc: 0.5600 P_acc: 1.0000 Loss: 1.8911 B_acc: 0.8571 T_acc: 0.9545 V_acc: 0.7907 G_acc: 0.6667 P_acc: 1.0000 Loss: 1.5347 P_acc: 1.0000 Loss: 1.2433 T_acc: 0.9167 V_acc: 0.6905 G_acc: 0.7586 P_acc: 0.9615 Loss: 1.4136\n",
      "1 1499/1562 B_acc: 0.8725 T_acc: 0.9328 V_acc: 0.6676 G_acc: 0.8165 P_acc: 0.9852 Loss: 1.3957\n",
      "1 1561/1562 B_acc: 0.8571 T_acc: 0.9333 V_acc: 0.6222 G_acc: 0.6800 P_acc: 1.0000 Loss: 1.5868 B_acc: 0.8519 T_acc: 0.8889 V_acc: 0.7174 G_acc: 0.8378 P_acc: 0.9706 Loss: 1.5378 B_acc: 0.9123 T_acc: 0.9362 V_acc: 0.6000 G_acc: 0.6757 P_acc: 1.0000 Loss: 1.3362 Loss: 1.3899P_acc: 1.0000 Loss: 1.3139 B_acc: 0.9091 T_acc: 0.8780 V_acc: 0.6818 G_acc: 0.7273 P_acc: 0.9412 Loss: 1.6254\n",
      "2 1499/1562 B_acc: 0.8737 T_acc: 0.9395 V_acc: 0.6778 G_acc: 0.8184 P_acc: 0.9866 Loss: 1.3476\n",
      "2 1561/1562 B_acc: 0.8750 T_acc: 0.9333 V_acc: 0.6889 G_acc: 0.6400 P_acc: 0.9667 Loss: 1.5026 B_acc: 0.9298 T_acc: 0.9535 V_acc: 0.7143 G_acc: 1.0000 P_acc: 1.0000 Loss: 1.1443T_acc: 0.9535 V_acc: 0.6750 G_acc: 0.7407 P_acc: 1.0000 Loss: 1.4275\n",
      "3 1499/1562 B_acc: 0.8792 T_acc: 0.9451 V_acc: 0.6851 G_acc: 0.8249 P_acc: 0.9859 Loss: 1.3051\n",
      "3 1561/1562 B_acc: 0.8571 T_acc: 0.9111 V_acc: 0.6889 G_acc: 0.7200 P_acc: 0.9667 Loss: 1.4123 G_acc: 0.7941 P_acc: 1.0000 Loss: 1.3052\n",
      "4 1499/1562 B_acc: 0.8891 T_acc: 0.9452 V_acc: 0.6946 G_acc: 0.8260 P_acc: 0.9871 Loss: 1.2624\n",
      "4 1561/1562 B_acc: 0.8929 T_acc: 0.9778 V_acc: 0.6667 G_acc: 0.6000 P_acc: 0.9667 Loss: 1.3876 P_acc: 1.0000 Loss: 1.2555 P_acc: 0.9714 Loss: 1.4147\n"
     ]
    }
   ],
   "source": [
    "model = create_model()\n",
    "\n",
    "print(model)\n",
    "fit(model,\n",
    "    *train,\n",
    "    *valid,\n",
    "    epochs=5,\n",
    "    criterion=nn.CrossEntropyLoss(),  # add ignore_index for root\n",
    "    optimizer=torch.optim.Adam(model.parameters(), lr=1e-3)\n",
    ")"
   ]
  },
  {
   "cell_type": "code",
   "execution_count": null,
   "metadata": {},
   "outputs": [],
   "source": [
    "len(train)"
   ]
  },
  {
   "cell_type": "raw",
   "metadata": {},
   "source": []
  }
 ],
 "metadata": {
  "kernelspec": {
   "display_name": "Python 3.8.2 64-bit",
   "language": "python",
   "name": "python38264bit9bb923b013d04c19b7222e7ae44d4e24"
  },
  "language_info": {
   "codemirror_mode": {
    "name": "ipython",
    "version": 3
   },
   "file_extension": ".py",
   "mimetype": "text/x-python",
   "name": "python",
   "nbconvert_exporter": "python",
   "pygments_lexer": "ipython3",
   "version": "3.8.2"
  }
 },
 "nbformat": 4,
 "nbformat_minor": 4
}
