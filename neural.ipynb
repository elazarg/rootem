{
 "cells": [
  {
   "cell_type": "code",
   "execution_count": 1,
   "metadata": {},
   "outputs": [],
   "source": [
    "import numpy as np\n",
    "\n",
    "import utils\n",
    "\n",
    "NUM_EMBEDDING = 2000\n",
    "def word2numpy(txt):\n",
    "    return np.array([ord(c) for c in txt])\n",
    "\n",
    "def wordlist2numpy(lines):\n",
    "    return utils.pad_sequences([word2numpy(line) for line in lines],\n",
    "                               maxlen=12, dtype=int, value=0)\n",
    "\n",
    "RADICALS = ['.'] + list('אבגדהוזחטיכלמנסעפצקרשת') + [\"ג'\", \"ז'\", \"צ'\", 'שׂ']\n",
    "\n",
    "BINYAN = 'פעל נפעל פיעל פועל הפעיל הופעל התפעל'.split()\n",
    "TENSE = 'עבר הווה עתיד ציווי'.split()\n",
    "VOICE = 'ראשון שני שלישי'.split()\n",
    "GENDER = 'זכר נקבה'.split()\n",
    "PLURAL = 'יחיד רבים'.split()\n",
    "\n",
    "NAMES = ['B', 'T', 'V', 'G', 'P', 'R1', 'R2', 'R3', 'R4']\n",
    "FEATURES = {\n",
    "    'B': BINYAN,\n",
    "    'T': TENSE,\n",
    "    'V': VOICE,\n",
    "    'G': GENDER,\n",
    "    'P': PLURAL,\n",
    "    'R1': RADICALS,\n",
    "    'R2': RADICALS,\n",
    "    'R3': RADICALS,\n",
    "    'R4': RADICALS,\n",
    "}\n",
    "\n",
    "def to_category(name, b):\n",
    "    return FEATURES[name].index(b)\n",
    "\n",
    "def from_category(name, index):\n",
    "    return FEATURES[name][index]\n",
    "\n",
    "def list_to_category(name, bs):\n",
    "    return np.array([to_category(name, b) for b in bs])\n",
    "\n",
    "def list_from_category(name, indexes):\n",
    "    return [from_category(name, index) for index in indexes]\n",
    "\n",
    "def list_of_lists_to_category(items):\n",
    "    return { name: list_to_category(name, item)\n",
    "             for name, item in zip(NAMES, items) }"
   ]
  },
  {
   "cell_type": "code",
   "execution_count": 323,
   "metadata": {
    "collapsed": false,
    "jupyter": {
     "outputs_hidden": false
    },
    "pycharm": {
     "name": "#%%\n"
    }
   },
   "outputs": [],
   "source": [
    "import torch\n",
    "\n",
    "import torch.nn as nn\n",
    "assert torch.cuda.is_available()\n",
    "\n",
    "def to_device(d):\n",
    "    if hasattr(d, 'cuda'):\n",
    "        return d.cuda()\n",
    "    return {k: v.cuda() for k, v in d.items()}\n",
    "\n",
    "def create_model(UNITS):\n",
    "    class Model(nn.Module):\n",
    "        def __init__(self, UNITS):\n",
    "            super().__init__()\n",
    "            self.units = UNITS\n",
    "\n",
    "            self.embed = nn.Embedding(num_embeddings=NUM_EMBEDDING, embedding_dim=UNITS)\n",
    "            self.lstm1 = nn.LSTM(input_size=UNITS, hidden_size=UNITS, num_layers=1, batch_first=True, bias=True, bidirectional=True)\n",
    "            \n",
    "            self.binyan = nn.Linear(in_features=UNITS, out_features=len(BINYAN))\n",
    "            self.tense = nn.Linear(in_features=UNITS, out_features=len(TENSE))\n",
    "            self.voice = nn.Linear(in_features=UNITS, out_features=len(VOICE))\n",
    "            self.gender = nn.Linear(in_features=UNITS, out_features=len(GENDER))\n",
    "            self.plural = nn.Linear(in_features=UNITS, out_features=len(PLURAL))\n",
    "            \n",
    "            self.r1 = nn.Linear(in_features=UNITS, out_features=len(RADICALS))\n",
    "            self.r2 = nn.Linear(in_features=UNITS, out_features=len(RADICALS))\n",
    "            self.r3 = nn.Linear(in_features=UNITS, out_features=len(RADICALS))\n",
    "            self.r4 = nn.Linear(in_features=UNITS, out_features=len(RADICALS))\n",
    "\n",
    "            self.features = {\n",
    "                'B': self.binyan,\n",
    "                'T': self.tense,\n",
    "                'V': self.voice,\n",
    "                'G': self.gender,\n",
    "                'P': self.plural,\n",
    "                \n",
    "                'R1': self.r1,\n",
    "                'R2': self.r2,\n",
    "                'R3': self.r3,\n",
    "                'R4': self.r4,\n",
    "            }\n",
    "\n",
    "        def forward(self, x):\n",
    "            embeds = self.embed(x)\n",
    "\n",
    "            lstm_out, (h_n, c_n) = self.lstm1(embeds)\n",
    "            left, right = torch.chunk(h_n, 2, dim=0)\n",
    "            merge = torch.squeeze(left + right)\n",
    "\n",
    "            outputs = { k: f(merge) for k, f in self.features.items() }\n",
    "            return outputs\n",
    "\n",
    "    model = Model(UNITS=UNITS)\n",
    "\n",
    "    return to_device(model)\n"
   ]
  },
  {
   "cell_type": "code",
   "execution_count": 76,
   "metadata": {
    "collapsed": false,
    "jupyter": {
     "outputs_hidden": false
    },
    "pycharm": {
     "name": "#%%\n"
    }
   },
   "outputs": [],
   "source": [
    "\n",
    "def sanity():\n",
    "    model = create_model(100)\n",
    "    with torch.no_grad():\n",
    "        verbs = wordlist2numpy([\"כשאתאקלם\"])\n",
    "        verbs = to_device(torch.from_numpy(verbs).to(torch.int64))\n",
    "        tag_scores = model(verbs)\n",
    "        for k in NAMES:\n",
    "            print(k)\n",
    "            v = nn.Softmax()(tag_scores[k]).cpu().detach().numpy()\n",
    "            print(v)\n",
    "            print(f'{np.mean(v)=}')\n",
    "            print(f'{-np.log(1/len(v))=}')\n",
    "            print()\n",
    "\n",
    "# sanity()"
   ]
  },
  {
   "cell_type": "code",
   "execution_count": 270,
   "metadata": {},
   "outputs": [],
   "source": [
    "import concrete\n",
    "\n",
    "def load_dataset(filename):\n",
    "    *features, verbs = concrete.load_dataset(filename)\n",
    "    return wordlist2numpy(verbs), list_of_lists_to_category(features)\n",
    "\n",
    "train = load_dataset('random_train_20K.tsv')\n",
    "valid = load_dataset('random_validate.tsv')"
   ]
  },
  {
   "cell_type": "code",
   "execution_count": 314,
   "metadata": {
    "collapsed": false,
    "jupyter": {
     "outputs_hidden": false
    },
    "pycharm": {
     "name": "#%%\n"
    }
   },
   "outputs": [],
   "source": [
    "BATCH_SIZE = 64\n",
    "\n",
    "def batch(a):\n",
    "    ub = a.shape[0] // BATCH_SIZE * BATCH_SIZE\n",
    "    return to_device(torch.from_numpy(a[:ub]).to(torch.int64)).split(BATCH_SIZE)\n",
    "\n",
    "def batch_all_ys(ys):\n",
    "    res = []\n",
    "    m = {k: batch(ys[k]) for k in NAMES}\n",
    "    nbatches = len(m['B'])\n",
    "    for i in range(nbatches):\n",
    "        res.append({k: m[k][i] for k in NAMES})\n",
    "    return res\n",
    "\n",
    "def callback(epoch, i, total, running_corrects, running_divisor, running_loss):\n",
    "    print(\"{:2} {:5}/{:5}\".format(epoch, i, total), end=' ')\n",
    "    for k in running_corrects:\n",
    "        print(\"{}_acc: {:.3f}\".format(k, running_corrects[k] / running_divisor), end=' ')\n",
    "    print(\"Loss: {:.4f}\".format(np.mean(running_loss)), end='\\r')\n",
    "\n",
    "def fit(model, x_train, y_train, x_valid, y_valid, *, epochs, criterion, optimizer, valid=True):\n",
    "    data = {\n",
    "        'train': (batch(x_train), batch_all_ys(y_train)),\n",
    "        'valid': (batch(x_valid), batch_all_ys(y_valid))\n",
    "    }\n",
    "    \n",
    "    initial = True\n",
    "    \n",
    "    for epoch in range(epochs):\n",
    "        for phase in ['train', 'valid']:\n",
    "            if not valid and phase == 'valid':\n",
    "                continue\n",
    "\n",
    "            if phase == 'train':\n",
    "                model.train()\n",
    "            else:\n",
    "                model.eval()\n",
    "\n",
    "            total = len(data[phase][0])\n",
    "\n",
    "            running_corrects = {k: 0.0 for k in NAMES}\n",
    "            running_divisor = 0\n",
    "            running_loss = []\n",
    "\n",
    "            for i, (inputs, labels) in enumerate(zip(*data[phase])):\n",
    "                \n",
    "                if phase == 'train':\n",
    "                    outputs = model(inputs)\n",
    "                else:\n",
    "                    with torch.no_grad():\n",
    "                        outputs = model(inputs)\n",
    "\n",
    "                losses = {k: criterion(outputs[k], labels[k]) for k in outputs}\n",
    "                if initial:\n",
    "                    expected_losses = {k: -np.log(1/len(FEATURES[k])) for k in outputs}\n",
    "                    # print(*(f'{k}: {v.item():.4f}' for k, v in losses.items()))\n",
    "                    # print(*(f'{k}: {v:.4f}' for k, v in expected_losses.items()))\n",
    "                    assert all(abs(1 - losses[k] / expected_losses[k]) < 0.1\n",
    "                               for k in losses)\n",
    "                    initial = False\n",
    "                loss = sum(losses.values())\n",
    "\n",
    "                if phase == 'train':\n",
    "                    optimizer.zero_grad()\n",
    "                    loss.backward()\n",
    "                    optimizer.step()\n",
    "                    \n",
    "                running_loss.append(loss.item())\n",
    "                \n",
    "                running_divisor += inputs.size(0)\n",
    "                for k in outputs:\n",
    "                    running_corrects[k] += torch.sum(torch.argmax(outputs[k], dim=1) == labels[k].detach())\n",
    "                \n",
    "                RUNSIZE = 100\n",
    "                \n",
    "                if phase != 'valid' and i % RUNSIZE == 0:\n",
    "                    callback(epoch, i, total, running_corrects, running_divisor, running_loss)\n",
    "                    running_corrects = {k: 0.0 for k in NAMES}\n",
    "                    running_divisor = 0.0\n",
    "                    running_loss = []\n",
    "                    \n",
    "            if phase == 'valid':\n",
    "                callback(epoch, i, total, running_corrects, running_divisor, running_loss)\n",
    "                \n",
    "            print()\n",
    "\n",
    "@torch.no_grad()\n",
    "def predict(model, *verbs):\n",
    "    model.eval()\n",
    "    verbs = wordlist2numpy(verbs)\n",
    "    verbs = to_device(torch.from_numpy(verbs).to(torch.int64))\n",
    "    outputs = model(verbs)\n",
    "    res = {k: from_category(k, torch.argmax(v))\n",
    "              for k, v in outputs.items()}\n",
    "    res['R'] = ''.join(res[k] for k in ['R1', 'R2', 'R3', 'R4']).replace('.', '')\n",
    "    return res\n",
    "    "
   ]
  },
  {
   "cell_type": "code",
   "execution_count": 324,
   "metadata": {
    "pycharm": {
     "name": "#%%\n"
    }
   },
   "outputs": [
    {
     "name": "stdout",
     "output_type": "stream",
     "text": [
      "Model(\n",
      "  (embed): Embedding(2000, 100)\n",
      "  (lstm1): LSTM(100, 100, batch_first=True, bidirectional=True)\n",
      "  (binyan): Linear(in_features=100, out_features=7, bias=False)\n",
      "  (tense): Linear(in_features=100, out_features=4, bias=False)\n",
      "  (voice): Linear(in_features=100, out_features=3, bias=False)\n",
      "  (gender): Linear(in_features=100, out_features=2, bias=False)\n",
      "  (plural): Linear(in_features=100, out_features=2, bias=False)\n",
      "  (r1): Linear(in_features=100, out_features=27, bias=True)\n",
      "  (r2): Linear(in_features=100, out_features=27, bias=True)\n",
      "  (r3): Linear(in_features=100, out_features=27, bias=True)\n",
      "  (r4): Linear(in_features=100, out_features=27, bias=True)\n",
      ")\n",
      " 0   300/  312 B_acc: 0.678 T_acc: 0.852 V_acc: 0.626 G_acc: 0.782 P_acc: 0.951 R1_acc: 0.838 R2_acc: 0.584 R3_acc: 0.873 R4_acc: 0.861 Loss: 5.37625\n",
      " 0   155/  156 B_acc: 0.715 T_acc: 0.869 V_acc: 0.631 G_acc: 0.797 P_acc: 0.962 R1_acc: 0.858 R2_acc: 0.620 R3_acc: 0.870 R4_acc: 0.890 Loss: 4.9150\n",
      " 1   300/  312 B_acc: 0.766 T_acc: 0.889 V_acc: 0.658 G_acc: 0.790 P_acc: 0.967 R1_acc: 0.904 R2_acc: 0.758 R3_acc: 0.930 R4_acc: 0.935 Loss: 3.7163\n",
      " 1   155/  156 B_acc: 0.769 T_acc: 0.891 V_acc: 0.653 G_acc: 0.796 P_acc: 0.965 R1_acc: 0.900 R2_acc: 0.758 R3_acc: 0.923 R4_acc: 0.930 Loss: 3.7100\n",
      " 2   300/  312 B_acc: 0.808 T_acc: 0.902 V_acc: 0.675 G_acc: 0.798 P_acc: 0.970 R1_acc: 0.925 R2_acc: 0.817 R3_acc: 0.954 R4_acc: 0.949 Loss: 3.0759\n",
      " 2   155/  156 B_acc: 0.799 T_acc: 0.905 V_acc: 0.666 G_acc: 0.797 P_acc: 0.974 R1_acc: 0.915 R2_acc: 0.797 R3_acc: 0.943 R4_acc: 0.942 Loss: 3.2216\n",
      " 3   300/  312 B_acc: 0.830 T_acc: 0.912 V_acc: 0.688 G_acc: 0.811 P_acc: 0.974 R1_acc: 0.937 R2_acc: 0.845 R3_acc: 0.968 R4_acc: 0.960 Loss: 2.7003\n",
      " 3   155/  156 B_acc: 0.803 T_acc: 0.908 V_acc: 0.668 G_acc: 0.799 P_acc: 0.976 R1_acc: 0.927 R2_acc: 0.822 R3_acc: 0.956 R4_acc: 0.949 Loss: 2.9731\n"
     ]
    }
   ],
   "source": [
    "model = create_model(UNITS=100)\n",
    "\n",
    "print(model)\n",
    "fit(model,\n",
    "    *train,\n",
    "    *valid,\n",
    "    epochs=4,\n",
    "    criterion=nn.CrossEntropyLoss(),\n",
    "    optimizer=torch.optim.Adam(model.parameters(), lr=3e-3),\n",
    "    valid=True\n",
    ")"
   ]
  },
  {
   "cell_type": "code",
   "execution_count": 265,
   "metadata": {},
   "outputs": [
    {
     "name": "stdout",
     "output_type": "stream",
     "text": [
      "{'B': 'פעל', 'T': 'עבר', 'V': 'שלישי', 'G': 'זכר', 'P': 'רבים', 'R1': 'ס', 'R2': 'ב', 'R3': '.', 'R4': 'ס', 'R': 'סבס'}\n",
      "{'B': 'פעל', 'T': 'עבר', 'V': 'שלישי', 'G': 'זכר', 'P': 'רבים', 'R1': 'מ', 'R2': 'ק', 'R3': '.', 'R4': 'ד', 'R': 'מקד'}\n",
      "{'B': 'נפעל', 'T': 'עתיד', 'V': 'ראשון', 'G': 'זכר', 'P': 'רבים', 'R1': 'מ', 'R2': 'ז', 'R3': '.', 'R4': 'ר', 'R': 'מזר'}\n",
      "{'B': 'פעל', 'T': 'עבר', 'V': 'שלישי', 'G': 'זכר', 'P': 'רבים', 'R1': 'כ', 'R2': 'ר', 'R3': '.', 'R4': 'ד', 'R': 'כרד'}\n"
     ]
    }
   ],
   "source": [
    "print(predict(model, 'סבסו'))\n",
    "print(predict(model, 'מקדו'))\n",
    "print(predict(model, 'נמזר'))\n",
    "print(predict(model, 'כרדו'))"
   ]
  },
  {
   "cell_type": "code",
   "execution_count": 266,
   "metadata": {},
   "outputs": [
    {
     "name": "stdout",
     "output_type": "stream",
     "text": [
      "{'B': 'הפעיל', 'T': 'עבר', 'V': 'שלישי', 'G': 'זכר', 'P': 'יחיד', 'R1': 'ב', 'R2': 'ר', 'R3': '.', 'R4': 'ל', 'R': 'ברל'}\n",
      "{'B': 'פעל', 'T': 'ציווי', 'V': 'שלישי', 'G': 'נקבה', 'P': 'רבים', 'R1': 'ח', 'R2': 'ג', 'R3': '.', 'R4': 'י', 'R': 'חגי'}\n",
      "{'B': 'פעל', 'T': 'עבר', 'V': 'שלישי', 'G': 'זכר', 'P': 'רבים', 'R1': 'ע', 'R2': 'י', 'R3': '.', 'R4': 'ג', 'R': 'עיג'}\n",
      "{'B': 'פיעל', 'T': 'עבר', 'V': 'שלישי', 'G': 'זכר', 'P': 'יחיד', 'R1': 'צ', 'R2': 'ר', 'R3': 'ל', 'R4': 'ל', 'R': 'צרלל'}\n"
     ]
    }
   ],
   "source": [
    "print(predict(model, 'הבריל'))\n",
    "print(predict(model, 'חגוו'))\n",
    "print(predict(model, 'עגו'))\n",
    "print(predict(model, 'צירלל'))"
   ]
  },
  {
   "cell_type": "code",
   "execution_count": 269,
   "metadata": {},
   "outputs": [
    {
     "name": "stdout",
     "output_type": "stream",
     "text": [
      "{'B': 'התפעל', 'T': 'עבר', 'V': 'ראשון', 'G': 'זכר', 'P': 'יחיד', 'R1': 'ש', 'R2': 'ק', 'R3': 'ש', 'R4': 'פ', 'R': 'שקשפ'}\n"
     ]
    }
   ],
   "source": [
    "print(predict(model, \"השטקרפתי\"))"
   ]
  },
  {
   "cell_type": "code",
   "execution_count": 268,
   "metadata": {},
   "outputs": [
    {
     "name": "stdout",
     "output_type": "stream",
     "text": [
      "{'B': 'הפעיל', 'T': 'עתיד', 'V': 'שלישי', 'G': 'זכר', 'P': 'רבים', 'R1': 'ש', 'R2': 'צ', 'R3': '.', 'R4': 'צ', 'R': 'שצצ'}\n"
     ]
    }
   ],
   "source": [
    "print(predict(model, \"ישצו\"))"
   ]
  },
  {
   "cell_type": "code",
   "execution_count": null,
   "metadata": {},
   "outputs": [],
   "source": []
  }
 ],
 "metadata": {
  "kernelspec": {
   "display_name": "Python 3.8.2 64-bit",
   "language": "python",
   "name": "python38264bit9bb923b013d04c19b7222e7ae44d4e24"
  },
  "language_info": {
   "codemirror_mode": {
    "name": "ipython",
    "version": 3
   },
   "file_extension": ".py",
   "mimetype": "text/x-python",
   "name": "python",
   "nbconvert_exporter": "python",
   "pygments_lexer": "ipython3",
   "version": "3.8.2"
  }
 },
 "nbformat": 4,
 "nbformat_minor": 4
}
