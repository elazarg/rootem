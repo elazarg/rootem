{
 "cells": [
  {
   "cell_type": "code",
   "execution_count": 1,
   "metadata": {},
   "outputs": [],
   "source": [
    "import numpy as np\n",
    "\n",
    "import utils\n",
    "\n",
    "NUM_EMBEDDING = 2000\n",
    "def word2numpy(txt):\n",
    "    return np.array([ord(c) for c in txt])\n",
    "\n",
    "def wordlist2numpy(lines):\n",
    "    return utils.pad_sequences([word2numpy(line) for line in lines],\n",
    "                               maxlen=12, dtype=int, value=0)\n",
    "\n",
    "BINYAN = 'פעל נפעל פיעל פועל הפעיל הופעל התפעל'.split()\n",
    "TENSE = 'עבר הווה עתיד ציווי'.split()\n",
    "VOICE = 'ראשון שני שלישי'.split()\n",
    "GENDER = 'זכר נקבה'.split()\n",
    "PLURAL = 'יחיד רבים'.split()\n",
    "\n",
    "NAMES = 'BTVGP'\n",
    "FEATURES = {\n",
    "    'B': BINYAN,\n",
    "    'T': TENSE,\n",
    "    'V': VOICE,\n",
    "    'G': GENDER,\n",
    "    'P': PLURAL,\n",
    "}\n",
    "\n",
    "def to_category(kind, b):\n",
    "    return kind.index(b)\n",
    "\n",
    "def from_category(kind, index):\n",
    "    return kind[index]\n",
    "\n",
    "def list_to_category(kind, bs):\n",
    "    return np.array([to_category(kind, b) for b in bs])\n",
    "\n",
    "def list_from_category(kind, indexes):\n",
    "    return [from_category(kind, index) for index in indexes]\n",
    "\n",
    "def list_of_lists_to_category(items):\n",
    "    return { name: list_to_category(FEATURES[name], item)\n",
    "             for name, item in zip(NAMES, items) }"
   ]
  },
  {
   "cell_type": "code",
   "execution_count": 2,
   "metadata": {
    "collapsed": false,
    "jupyter": {
     "outputs_hidden": false
    },
    "pycharm": {
     "name": "#%%\n"
    }
   },
   "outputs": [
    {
     "data": {
      "text/plain": [
       "Model(\n",
       "  (embed): Embedding(2000, 300)\n",
       "  (lstm1): LSTM(300, 300, batch_first=True, bidirectional=True)\n",
       "  (binyan): Linear(in_features=300, out_features=7, bias=True)\n",
       "  (tense): Linear(in_features=300, out_features=4, bias=True)\n",
       "  (voice): Linear(in_features=300, out_features=3, bias=True)\n",
       "  (gender): Linear(in_features=300, out_features=2, bias=True)\n",
       "  (plural): Linear(in_features=300, out_features=2, bias=True)\n",
       ")"
      ]
     },
     "execution_count": 2,
     "metadata": {},
     "output_type": "execute_result"
    }
   ],
   "source": [
    "import torch\n",
    "\n",
    "import torch.nn as nn\n",
    "assert torch.cuda.is_available()\n",
    "\n",
    "\n",
    "class Model(nn.Module):\n",
    "    def __init__(self, UNITS):\n",
    "        super().__init__()\n",
    "        self.units = UNITS\n",
    "\n",
    "        self.embed = nn.Embedding(num_embeddings=NUM_EMBEDDING, embedding_dim=UNITS)\n",
    "        self.lstm1 = nn.LSTM(input_size=UNITS, hidden_size=UNITS, num_layers=1, batch_first=True, bidirectional=True)\n",
    "\n",
    "        # {k: nn.Linear(in_features=UNITS, out_features=len(v)) for k, v in features.items()}\n",
    "        self.binyan = nn.Linear(in_features=UNITS, out_features=len(BINYAN))\n",
    "        self.tense = nn.Linear(in_features=UNITS, out_features=len(TENSE))\n",
    "        self.voice = nn.Linear(in_features=UNITS, out_features=len(VOICE))\n",
    "        self.gender = nn.Linear(in_features=UNITS, out_features=len(GENDER))\n",
    "        self.plural = nn.Linear(in_features=UNITS, out_features=len(PLURAL))\n",
    "        \n",
    "        self.features = {\n",
    "            'B': self.binyan,\n",
    "            'T': self.tense,\n",
    "            'V': self.voice,\n",
    "            'G': self.gender,\n",
    "            'P': self.plural,\n",
    "        }\n",
    "\n",
    "    def forward(self, x):\n",
    "        embeds = self.embed(x)\n",
    "\n",
    "        lstm_out, (h_n, c_n) = self.lstm1(embeds)\n",
    "        left, right = torch.chunk(h_n, 2, dim=0)\n",
    "        merge = torch.squeeze(left + right)\n",
    "\n",
    "        outputs = { k: f(merge) for k, f in self.features.items() }\n",
    "        return outputs\n",
    "\n",
    "model = Model(UNITS=300)\n",
    "criterion = nn.CrossEntropyLoss()  # add ignore_index for root\n",
    "optimizer = torch.optim.Adam(model.parameters(), lr=1e-3)\n",
    "\n",
    "def to_device(d):\n",
    "    if hasattr(d, 'cuda'):\n",
    "        return d.cuda()\n",
    "    return {k: v.cuda() for k, v in d.items()}\n",
    "\n",
    "model = to_device(model)\n",
    "model"
   ]
  },
  {
   "cell_type": "code",
   "execution_count": null,
   "metadata": {
    "collapsed": false,
    "jupyter": {
     "outputs_hidden": false
    },
    "pycharm": {
     "name": "#%%\n"
    }
   },
   "outputs": [],
   "source": [
    "\n",
    "wordlist = ['ידעתי', 'התאפס', 'יאבד']\n",
    "binyanlist = ['פעל', 'התפעל', 'פיעל']\n",
    "\n",
    "def sanity():\n",
    "    with torch.no_grad():\n",
    "        numpy_inp = wordlist2numpy(wordlist)\n",
    "        inputs = to_device(torch.from_numpy(numpy_inp).to(torch.int64))\n",
    "        tag_scores = model(inputs)\n",
    "        expected = list_to_category(BINYAN, binyanlist)\n",
    "        print(f'{tag_scores[\"B\"].shape=}')\n",
    "        print(f\"{np.argmax(tag_scores['B'].cpu(), axis=1).shape=}\")\n",
    "        print(f\"{expected.shape=}\")\n",
    "\n",
    "sanity()"
   ]
  },
  {
   "cell_type": "code",
   "execution_count": 9,
   "metadata": {
    "collapsed": false,
    "jupyter": {
     "outputs_hidden": false
    },
    "pycharm": {
     "name": "#%%\n"
    }
   },
   "outputs": [],
   "source": [
    "BATCH_SIZE = 32\n",
    "\n",
    "def batch(a):\n",
    "    ub = a.shape[0] // BATCH_SIZE * BATCH_SIZE\n",
    "    return torch.from_numpy(a[:ub]).to(torch.int64).split(BATCH_SIZE)\n",
    "\n",
    "def batch_all_ys(ys):\n",
    "    res = []\n",
    "    m = {k: batch(ys[k]) for k in NAMES}\n",
    "    nbatches = len(m['B'])\n",
    "    for i in range(nbatches):\n",
    "        res.append({k: m[k][i] for k in NAMES})\n",
    "    return res\n",
    "\n",
    "def accuracy(output, ybatch):\n",
    "    n = (ybatch != 0).sum()\n",
    "    c = np.argmax(output, axis=1)\n",
    "    return ((c == ybatch) & (c != 0)).sum() / n\n",
    "\n",
    "def fit(x_train, y_train, epoch):\n",
    "    x_all = batch(x_train)\n",
    "    y_all = batch_all_ys(y_train)\n",
    "\n",
    "    total = len(x_all)\n",
    "    accs = {k: [] for k in NAMES}\n",
    "    for i, (x, y) in enumerate(zip(x_all, y_all)):\n",
    "\n",
    "        x = to_device(x)\n",
    "\n",
    "        optimizer.zero_grad()\n",
    "        outputs = model(x)\n",
    "\n",
    "        outputs = to_device(outputs)\n",
    "\n",
    "        y = to_device(y)\n",
    "        sub_losses = {k: criterion(outputs[k], y[k]) for k in outputs}\n",
    "        loss = sum(sub_losses.values())\n",
    "        loss.backward()\n",
    "\n",
    "        optimizer.step()\n",
    "\n",
    "        outputs = {k: v.cpu().data.numpy() for k, v in outputs.items()}\n",
    "        y = {k: v.cpu().data.numpy() for k, v in y.items()}\n",
    "\n",
    "        for k in outputs:\n",
    "            accs[k].append(accuracy(outputs[k], y[k]))\n",
    "\n",
    "        if i % 10 == 0:\n",
    "            print(\"{} {:4}/{}\".format(epoch, i, total), end=' ')\n",
    "            for k in accs:\n",
    "                print(\"{}_acc: {:.4f}\".format(k, np.mean(accs[k])), end=' ')\n",
    "            print(\"Loss: {:.4f}\".format(loss.item()), end='\\r')\n",
    "        accs = {k: [] for k in NAMES}\n",
    "    print()\n",
    "\n",
    "def validate(x_valid, y_valid):\n",
    "    x_all = batch(x_valid)\n",
    "    y_all = batch_all_ys(y_valid)\n",
    "\n",
    "    with torch.no_grad():\n",
    "        accs = {k: [] for k in NAMES}\n",
    "        losses = []\n",
    "        for i, (x, y) in enumerate(zip(x_all, y_all)):\n",
    "            x = to_device(x)\n",
    "\n",
    "            outputs = to_device(model(x))\n",
    "\n",
    "            y = to_device(y)\n",
    "\n",
    "            sub_losses = {k: criterion(outputs[k], y[k]) for k in outputs}\n",
    "            loss = sum(sub_losses.values())\n",
    "\n",
    "            outputs = {k: v.cpu().data.numpy() for k, v in outputs.items()}\n",
    "            y = {k: v.cpu().data.numpy() for k, v in y.items()}\n",
    "\n",
    "            for k in outputs:\n",
    "                accs[k].append(accuracy(outputs[k], y[k]))\n",
    "            losses.append(loss.item())\n",
    "        print(\"  \", end=\"\")\n",
    "        for k in accs:\n",
    "            print(\"{}_acc: {:.4f}\".format(k, np.mean(accs[k])), end=' ')\n",
    "        print(\"Loss: {:.4f}\".format(np.mean(losses)))\n",
    "\n",
    "def run_experiment(train, valid, epochs):\n",
    "    train_x, train_y = train\n",
    "    valid_x, valid_y = valid\n",
    "    for e in range(epochs):\n",
    "        fit(train_x, train_y, epoch=e)\n",
    "        validate(valid_x, valid_y)\n",
    "\n",
    "def load_dataset(filename):\n",
    "    *features, verbs = concrete.load_dataset(filename)\n",
    "    return wordlist2numpy(verbs), list_of_lists_to_category(features)"
   ]
  },
  {
   "cell_type": "code",
   "execution_count": 16,
   "metadata": {
    "collapsed": false,
    "jupyter": {
     "outputs_hidden": false
    },
    "pycharm": {
     "name": "#%%\n"
    }
   },
   "outputs": [],
   "source": [
    "import concrete\n",
    "\n",
    "train = load_dataset('random_train.tsv')\n",
    "valid = load_dataset('random_validate.tsv')"
   ]
  },
  {
   "cell_type": "code",
   "execution_count": 18,
   "metadata": {
    "collapsed": false,
    "jupyter": {
     "outputs_hidden": false
    },
    "pycharm": {
     "name": "#%%\n"
    }
   },
   "outputs": [
    {
     "name": "stdout",
     "output_type": "stream",
     "text": [
      "0 3120/3125 B_acc: 0.8276 T_acc: 0.9000 V_acc: 0.6957 G_acc: 0.5000 P_acc: 1.0000 Loss: 2.0012\n",
      "  B_acc: 0.8743 T_acc: 0.9329 V_acc: 0.6641 G_acc: 0.7219 P_acc: 0.9866 Loss: 1.5000\n",
      "1 3120/3125 B_acc: 0.8276 T_acc: 0.8500 V_acc: 0.6957 G_acc: 0.6250 P_acc: 0.9286 Loss: 1.7442\n",
      "  B_acc: 0.8723 T_acc: 0.9336 V_acc: 0.6701 G_acc: 0.7319 P_acc: 0.9846 Loss: 1.4603\n",
      "2 3120/3125 B_acc: 0.8276 T_acc: 0.8500 V_acc: 0.7391 G_acc: 0.4375 P_acc: 0.9286 Loss: 1.9011\n",
      "  B_acc: 0.8714 T_acc: 0.9305 V_acc: 0.6741 G_acc: 0.7551 P_acc: 0.9850 Loss: 1.4413\n",
      "3 3120/3125 B_acc: 0.8276 T_acc: 0.9000 V_acc: 0.6957 G_acc: 0.4375 P_acc: 1.0000 Loss: 1.8278 B_acc: 0.8929 T_acc: 1.0000 V_acc: 0.6364 G_acc: 0.8125 P_acc: 1.0000 Loss: 1.1379\n",
      "  B_acc: 0.8768 T_acc: 0.9383 V_acc: 0.6663 G_acc: 0.7501 P_acc: 0.9818 Loss: 1.4170\n",
      "4 3120/3125 B_acc: 0.8966 T_acc: 0.8500 V_acc: 0.7391 G_acc: 0.6250 P_acc: 1.0000 Loss: 1.5464\n",
      "  B_acc: 0.8726 T_acc: 0.9359 V_acc: 0.6785 G_acc: 0.7503 P_acc: 0.9846 Loss: 1.4136\n"
     ]
    }
   ],
   "source": [
    "run_experiment(train, valid, 5)"
   ]
  },
  {
   "cell_type": "code",
   "execution_count": 17,
   "metadata": {},
   "outputs": [
    {
     "data": {
      "text/plain": [
       "10000"
      ]
     },
     "execution_count": 17,
     "metadata": {},
     "output_type": "execute_result"
    }
   ],
   "source": [
    "len(valid[0])"
   ]
  },
  {
   "cell_type": "raw",
   "metadata": {},
   "source": []
  }
 ],
 "metadata": {
  "kernelspec": {
   "display_name": "Python 3.8.2 64-bit",
   "language": "python",
   "name": "python38264bit9bb923b013d04c19b7222e7ae44d4e24"
  },
  "language_info": {
   "codemirror_mode": {
    "name": "ipython",
    "version": 3
   },
   "file_extension": ".py",
   "mimetype": "text/x-python",
   "name": "python",
   "nbconvert_exporter": "python",
   "pygments_lexer": "ipython3",
   "version": "3.8.2"
  }
 },
 "nbformat": 4,
 "nbformat_minor": 4
}
