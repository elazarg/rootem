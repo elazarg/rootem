{
 "cells": [
  {
   "cell_type": "code",
   "execution_count": 1,
   "metadata": {},
   "outputs": [],
   "source": [
    "%load_ext autoreload\n",
    "%autoreload 2"
   ]
  },
  {
   "cell_type": "code",
   "execution_count": 2,
   "metadata": {},
   "outputs": [
    {
     "name": "stderr",
     "output_type": "stream",
     "text": [
      "c:\\users\\elaza\\appdata\\local\\programs\\python\\python38\\lib\\site-packages\\pytorch_lightning\\utilities\\distributed.py:37: UserWarning: Unsupported `ReduceOp` for distributed computing.\n",
      "  warnings.warn(*args, **kwargs)\n"
     ]
    }
   ],
   "source": [
    "import numpy as np\n",
    "import wandb\n",
    "import torch\n",
    "import torch.nn as nn\n",
    "from torch.nn import functional as F\n",
    "\n",
    "import pytorch_lightning as pl\n",
    "\n",
    "import utils\n",
    "import ud\n",
    "import neural"
   ]
  },
  {
   "cell_type": "code",
   "execution_count": 10,
   "metadata": {},
   "outputs": [],
   "source": [
    "class ConlluDataModule(pl.LightningDataModule):\n",
    "\n",
    "    def __init__(self, train_filename, test_filename, batch_size=32, validation_size=500):\n",
    "        # TODO: use dev set instead of splitting validation\n",
    "        super().__init__()\n",
    "        SENTENCE_MAXLEN = 30\n",
    "        WORD_MAXLEN = 25\n",
    "        self.validation_size = validation_size\n",
    "        self.batch_size = batch_size\n",
    "        \n",
    "        train_data_x, train_data_y = ud.load_dataset(train_filename, ud.parse_opnlp, SENTENCE_MAXLEN, WORD_MAXLEN)\n",
    "        self.data_train_full = torch.utils.data.TensorDataset(torch.Tensor(train_data_x), *[torch.Tensor(y).to(torch.int64) for y in train_data_y])\n",
    "        \n",
    "        test_data_x, test_data_y = ud.load_dataset(test_filename, ud.parse_opnlp, SENTENCE_MAXLEN, WORD_MAXLEN)\n",
    "        self.data_test = torch.utils.data.TensorDataset(torch.Tensor(test_data_x), *[torch.Tensor(y).to(torch.int64) for y in test_data_y])\n",
    "\n",
    "    def prepare_data(self):\n",
    "        # No state assignment here\n",
    "        pass\n",
    "\n",
    "    def setup(self, stage=None):\n",
    "        if stage == 'fit' or stage is None:\n",
    "            self.data_val, self.data_train = torch.utils.data.random_split(self.data_train_full, [self.validation_size, len(self.data_train_full) - self.validation_size])\n",
    "            self.dims = tuple(self.data_train[0][0].shape)\n",
    "\n",
    "        if stage == 'test' or stage is None:\n",
    "            self.dims = tuple(self.data_test[0][0].shape)\n",
    "\n",
    "    def train_dataloader(self):\n",
    "        return torch.utils.data.DataLoader(self.data_train, batch_size=self.batch_size)\n",
    "\n",
    "    def val_dataloader(self):\n",
    "        return torch.utils.data.DataLoader(self.data_val, batch_size=self.batch_size)\n",
    "\n",
    "    def test_dataloader(self):\n",
    "        return torch.utils.data.DataLoader(self.data_test, batch_size=self.batch_size)"
   ]
  },
  {
   "cell_type": "code",
   "execution_count": 9,
   "metadata": {},
   "outputs": [],
   "source": [
    "NUM_EMBEDDING = 2000\n",
    "\n",
    "\n",
    "class SentenceModel(neural.UdModel):\n",
    "\n",
    "    def __init__(self, label_map, units=400, learning_rate=2e-3):\n",
    "        super().__init__()\n",
    "        self.save_hyperparameters()\n",
    "        \n",
    "        self.units = units\n",
    "\n",
    "        self.embed = nn.Embedding(num_embeddings=NUM_EMBEDDING, embedding_dim=units)\n",
    "        \n",
    "        self.char_lstm = neural.SumSharedBiLSTM(units)\n",
    "        \n",
    "        self.word_lstm = neural.SumBiLSTM(units)\n",
    "        \n",
    "        self.norm = nn.BatchNorm1d(units, affine=False)\n",
    "        \n",
    "        self.tasks = nn.ModuleDict([(label_name, nn.Linear(in_features=units, out_features=class_size))\n",
    "                                     for label_name, class_size in label_map.items()])\n",
    "\n",
    "    def forward(self, x):\n",
    "        BATCH_SIZE, SENT_MAXLEN, WORD_MAXLEN = x.shape\n",
    "        \n",
    "        x = x.to(torch.int64)\n",
    "        # x: (BATCH_SIZE, SENT_MAXLEN, WORD_MAXLEN)\n",
    "        \n",
    "        # Step 0: character embedding \n",
    "        \n",
    "        x = x.reshape(BATCH_SIZE * SENT_MAXLEN, WORD_MAXLEN)\n",
    "        # x: (BATCH_SIZE * SENT_MAXLEN, WORD_MAXLEN)\n",
    "\n",
    "        embeds = self.embed(x)\n",
    "        # embeds: (BATCH_SIZE * SENT_MAXLEN, WORD_MAXLEN, UNITS)\n",
    "        \n",
    "        embeds = embeds.permute([1, 0, 2])\n",
    "        # x: (WORD_MAXLEN, BATCH_SIZE * SENT_MAXLEN, UNITS)\n",
    "\n",
    "        \n",
    "        # STEP 1: character-level lstm -> word embedding\n",
    "        \n",
    "        _, char_hidden = self.char_lstm(embeds)\n",
    "        # char_hidden: (BATCH_SIZE * SENT_MAXLEN, UNITS)\n",
    "        char_hidden = self.norm(char_hidden)\n",
    "        \n",
    "        char_hidden = char_hidden.reshape(BATCH_SIZE, SENT_MAXLEN, -1)\n",
    "        # char_hidden: (BATCH_SIZE, SENT_MAXLEN, UNITS)\n",
    "        \n",
    "        char_hidden = char_hidden.permute([1, 0, 2])\n",
    "        # char_hidden: (SENT_MAXLEN, BATCH_SIZE, UNITS)\n",
    "\n",
    "        # STEP 2: sequence tagging using word-level lstm\n",
    "    \n",
    "        word_lstm_out, _ = self.word_lstm(char_hidden)\n",
    "        # word_lstm_out: (SENT_MAXLEN, BATCH_SIZE, UNITS)\n",
    "        \n",
    "        word_lstm_out = word_lstm_out.permute([1, 0, 2])\n",
    "        # word_lstm_out: (BATCH_SIZE, SENT_MAXLEN, UNITS)\n",
    "        \n",
    "        char_hidden = char_hidden.permute([1, 0, 2])\n",
    "        # char_hidden: (BATCH_SIZE, SENT_MAXLEN, UNITS)\n",
    "        \n",
    "        summed = word_lstm_out + char_hidden\n",
    "        # summed: (BATCH_SIZE, SENT_MAXLEN, UNITS)\n",
    "        \n",
    "        return {name: linear(summed).permute([0, 2, 1])\n",
    "                for name, linear in self.tasks.items()}\n",
    "  \n",
    "    def configure_optimizers(self):\n",
    "        optimizer = torch.optim.Adam(self.parameters(), lr=self.hparams.learning_rate)\n",
    "#         scheduler = torch.optim.lr_scheduler.MultiStepLR(optimizer, [1, 2], gamma=0.3)\n",
    "        return [optimizer] #, [scheduler]\n"
   ]
  },
  {
   "cell_type": "code",
   "execution_count": 5,
   "metadata": {},
   "outputs": [],
   "source": [
    "dataset = ConlluDataModule(\n",
    "    f'../Hebrew_UD/he_htb-ud-train.conllu',\n",
    "    f'../Hebrew_UD/he_htb-ud-dev.conllu',\n",
    "    batch_size=32,\n",
    "    validation_size=500)"
   ]
  },
  {
   "cell_type": "code",
   "execution_count": 6,
   "metadata": {},
   "outputs": [],
   "source": [
    "dataset.setup()"
   ]
  },
  {
   "cell_type": "code",
   "execution_count": 11,
   "metadata": {},
   "outputs": [
    {
     "name": "stderr",
     "output_type": "stream",
     "text": [
      "GPU available: True, used: True\n",
      "TPU available: False, using: 0 TPU cores\n",
      "CUDA_VISIBLE_DEVICES: [0]\n"
     ]
    },
    {
     "data": {
      "text/html": [
       "\n",
       "                Logging results to <a href=\"https://wandb.com\" target=\"_blank\">Weights & Biases</a> <a href=\"https://docs.wandb.com/integrations/jupyter.html\" target=\"_blank\">(Documentation)</a>.<br/>\n",
       "                Project page: <a href=\"https://app.wandb.ai/elazarg/rootem\" target=\"_blank\">https://app.wandb.ai/elazarg/rootem</a><br/>\n",
       "                Run page: <a href=\"https://app.wandb.ai/elazarg/rootem/runs/1bc095nb\" target=\"_blank\">https://app.wandb.ai/elazarg/rootem/runs/1bc095nb</a><br/>\n",
       "            "
      ],
      "text/plain": [
       "<IPython.core.display.HTML object>"
      ]
     },
     "metadata": {},
     "output_type": "display_data"
    },
    {
     "name": "stderr",
     "output_type": "stream",
     "text": [
      "\n",
      "  | Name      | Type            | Params\n",
      "----------------------------------------------\n",
      "0 | embed     | Embedding       | 800 K \n",
      "1 | char_lstm | SumSharedBiLSTM | 2 M   \n",
      "2 | word_lstm | SumBiLSTM       | 2 M   \n",
      "3 | norm      | BatchNorm1d     | 0     \n",
      "4 | tasks     | ModuleDict      | 87 K  \n"
     ]
    },
    {
     "data": {
      "application/vnd.jupyter.widget-view+json": {
       "model_id": "",
       "version_major": 2,
       "version_minor": 0
      },
      "text/plain": [
       "HBox(children=(FloatProgress(value=1.0, bar_style='info', description='Validation sanity check', layout=Layout…"
      ]
     },
     "metadata": {},
     "output_type": "display_data"
    },
    {
     "data": {
      "application/vnd.jupyter.widget-view+json": {
       "model_id": "8172e17c334741a59a53acac98ab4bc6",
       "version_major": 2,
       "version_minor": 0
      },
      "text/plain": [
       "HBox(children=(FloatProgress(value=1.0, bar_style='info', description='Training', layout=Layout(flex='2'), max…"
      ]
     },
     "metadata": {},
     "output_type": "display_data"
    },
    {
     "data": {
      "application/vnd.jupyter.widget-view+json": {
       "model_id": "",
       "version_major": 2,
       "version_minor": 0
      },
      "text/plain": [
       "HBox(children=(FloatProgress(value=1.0, bar_style='info', description='Validating', layout=Layout(flex='2'), m…"
      ]
     },
     "metadata": {},
     "output_type": "display_data"
    },
    {
     "data": {
      "application/vnd.jupyter.widget-view+json": {
       "model_id": "",
       "version_major": 2,
       "version_minor": 0
      },
      "text/plain": [
       "HBox(children=(FloatProgress(value=1.0, bar_style='info', description='Validating', layout=Layout(flex='2'), m…"
      ]
     },
     "metadata": {},
     "output_type": "display_data"
    },
    {
     "data": {
      "application/vnd.jupyter.widget-view+json": {
       "model_id": "",
       "version_major": 2,
       "version_minor": 0
      },
      "text/plain": [
       "HBox(children=(FloatProgress(value=1.0, bar_style='info', description='Validating', layout=Layout(flex='2'), m…"
      ]
     },
     "metadata": {},
     "output_type": "display_data"
    },
    {
     "data": {
      "application/vnd.jupyter.widget-view+json": {
       "model_id": "",
       "version_major": 2,
       "version_minor": 0
      },
      "text/plain": [
       "HBox(children=(FloatProgress(value=1.0, bar_style='info', description='Validating', layout=Layout(flex='2'), m…"
      ]
     },
     "metadata": {},
     "output_type": "display_data"
    },
    {
     "data": {
      "application/vnd.jupyter.widget-view+json": {
       "model_id": "",
       "version_major": 2,
       "version_minor": 0
      },
      "text/plain": [
       "HBox(children=(FloatProgress(value=1.0, bar_style='info', description='Validating', layout=Layout(flex='2'), m…"
      ]
     },
     "metadata": {},
     "output_type": "display_data"
    },
    {
     "data": {
      "application/vnd.jupyter.widget-view+json": {
       "model_id": "",
       "version_major": 2,
       "version_minor": 0
      },
      "text/plain": [
       "HBox(children=(FloatProgress(value=1.0, bar_style='info', description='Validating', layout=Layout(flex='2'), m…"
      ]
     },
     "metadata": {},
     "output_type": "display_data"
    },
    {
     "data": {
      "application/vnd.jupyter.widget-view+json": {
       "model_id": "",
       "version_major": 2,
       "version_minor": 0
      },
      "text/plain": [
       "HBox(children=(FloatProgress(value=1.0, bar_style='info', description='Validating', layout=Layout(flex='2'), m…"
      ]
     },
     "metadata": {},
     "output_type": "display_data"
    },
    {
     "data": {
      "application/vnd.jupyter.widget-view+json": {
       "model_id": "",
       "version_major": 2,
       "version_minor": 0
      },
      "text/plain": [
       "HBox(children=(FloatProgress(value=1.0, bar_style='info', description='Validating', layout=Layout(flex='2'), m…"
      ]
     },
     "metadata": {},
     "output_type": "display_data"
    },
    {
     "data": {
      "application/vnd.jupyter.widget-view+json": {
       "model_id": "",
       "version_major": 2,
       "version_minor": 0
      },
      "text/plain": [
       "HBox(children=(FloatProgress(value=1.0, bar_style='info', description='Validating', layout=Layout(flex='2'), m…"
      ]
     },
     "metadata": {},
     "output_type": "display_data"
    },
    {
     "data": {
      "application/vnd.jupyter.widget-view+json": {
       "model_id": "",
       "version_major": 2,
       "version_minor": 0
      },
      "text/plain": [
       "HBox(children=(FloatProgress(value=1.0, bar_style='info', description='Validating', layout=Layout(flex='2'), m…"
      ]
     },
     "metadata": {},
     "output_type": "display_data"
    },
    {
     "data": {
      "application/vnd.jupyter.widget-view+json": {
       "model_id": "",
       "version_major": 2,
       "version_minor": 0
      },
      "text/plain": [
       "HBox(children=(FloatProgress(value=1.0, bar_style='info', description='Validating', layout=Layout(flex='2'), m…"
      ]
     },
     "metadata": {},
     "output_type": "display_data"
    },
    {
     "data": {
      "application/vnd.jupyter.widget-view+json": {
       "model_id": "",
       "version_major": 2,
       "version_minor": 0
      },
      "text/plain": [
       "HBox(children=(FloatProgress(value=1.0, bar_style='info', description='Validating', layout=Layout(flex='2'), m…"
      ]
     },
     "metadata": {},
     "output_type": "display_data"
    },
    {
     "data": {
      "application/vnd.jupyter.widget-view+json": {
       "model_id": "",
       "version_major": 2,
       "version_minor": 0
      },
      "text/plain": [
       "HBox(children=(FloatProgress(value=1.0, bar_style='info', description='Validating', layout=Layout(flex='2'), m…"
      ]
     },
     "metadata": {},
     "output_type": "display_data"
    },
    {
     "data": {
      "application/vnd.jupyter.widget-view+json": {
       "model_id": "",
       "version_major": 2,
       "version_minor": 0
      },
      "text/plain": [
       "HBox(children=(FloatProgress(value=1.0, bar_style='info', description='Validating', layout=Layout(flex='2'), m…"
      ]
     },
     "metadata": {},
     "output_type": "display_data"
    },
    {
     "data": {
      "application/vnd.jupyter.widget-view+json": {
       "model_id": "",
       "version_major": 2,
       "version_minor": 0
      },
      "text/plain": [
       "HBox(children=(FloatProgress(value=1.0, bar_style='info', description='Validating', layout=Layout(flex='2'), m…"
      ]
     },
     "metadata": {},
     "output_type": "display_data"
    },
    {
     "data": {
      "application/vnd.jupyter.widget-view+json": {
       "model_id": "",
       "version_major": 2,
       "version_minor": 0
      },
      "text/plain": [
       "HBox(children=(FloatProgress(value=1.0, bar_style='info', description='Validating', layout=Layout(flex='2'), m…"
      ]
     },
     "metadata": {},
     "output_type": "display_data"
    },
    {
     "data": {
      "application/vnd.jupyter.widget-view+json": {
       "model_id": "",
       "version_major": 2,
       "version_minor": 0
      },
      "text/plain": [
       "HBox(children=(FloatProgress(value=1.0, bar_style='info', description='Validating', layout=Layout(flex='2'), m…"
      ]
     },
     "metadata": {},
     "output_type": "display_data"
    },
    {
     "data": {
      "application/vnd.jupyter.widget-view+json": {
       "model_id": "",
       "version_major": 2,
       "version_minor": 0
      },
      "text/plain": [
       "HBox(children=(FloatProgress(value=1.0, bar_style='info', description='Validating', layout=Layout(flex='2'), m…"
      ]
     },
     "metadata": {},
     "output_type": "display_data"
    },
    {
     "data": {
      "application/vnd.jupyter.widget-view+json": {
       "model_id": "",
       "version_major": 2,
       "version_minor": 0
      },
      "text/plain": [
       "HBox(children=(FloatProgress(value=1.0, bar_style='info', description='Validating', layout=Layout(flex='2'), m…"
      ]
     },
     "metadata": {},
     "output_type": "display_data"
    },
    {
     "data": {
      "application/vnd.jupyter.widget-view+json": {
       "model_id": "",
       "version_major": 2,
       "version_minor": 0
      },
      "text/plain": [
       "HBox(children=(FloatProgress(value=1.0, bar_style='info', description='Validating', layout=Layout(flex='2'), m…"
      ]
     },
     "metadata": {},
     "output_type": "display_data"
    },
    {
     "data": {
      "application/vnd.jupyter.widget-view+json": {
       "model_id": "",
       "version_major": 2,
       "version_minor": 0
      },
      "text/plain": [
       "HBox(children=(FloatProgress(value=1.0, bar_style='info', description='Validating', layout=Layout(flex='2'), m…"
      ]
     },
     "metadata": {},
     "output_type": "display_data"
    },
    {
     "data": {
      "application/vnd.jupyter.widget-view+json": {
       "model_id": "",
       "version_major": 2,
       "version_minor": 0
      },
      "text/plain": [
       "HBox(children=(FloatProgress(value=1.0, bar_style='info', description='Validating', layout=Layout(flex='2'), m…"
      ]
     },
     "metadata": {},
     "output_type": "display_data"
    },
    {
     "data": {
      "application/vnd.jupyter.widget-view+json": {
       "model_id": "",
       "version_major": 2,
       "version_minor": 0
      },
      "text/plain": [
       "HBox(children=(FloatProgress(value=1.0, bar_style='info', description='Validating', layout=Layout(flex='2'), m…"
      ]
     },
     "metadata": {},
     "output_type": "display_data"
    },
    {
     "data": {
      "application/vnd.jupyter.widget-view+json": {
       "model_id": "",
       "version_major": 2,
       "version_minor": 0
      },
      "text/plain": [
       "HBox(children=(FloatProgress(value=1.0, bar_style='info', description='Validating', layout=Layout(flex='2'), m…"
      ]
     },
     "metadata": {},
     "output_type": "display_data"
    },
    {
     "data": {
      "application/vnd.jupyter.widget-view+json": {
       "model_id": "",
       "version_major": 2,
       "version_minor": 0
      },
      "text/plain": [
       "HBox(children=(FloatProgress(value=1.0, bar_style='info', description='Validating', layout=Layout(flex='2'), m…"
      ]
     },
     "metadata": {},
     "output_type": "display_data"
    },
    {
     "data": {
      "application/vnd.jupyter.widget-view+json": {
       "model_id": "",
       "version_major": 2,
       "version_minor": 0
      },
      "text/plain": [
       "HBox(children=(FloatProgress(value=1.0, bar_style='info', description='Validating', layout=Layout(flex='2'), m…"
      ]
     },
     "metadata": {},
     "output_type": "display_data"
    },
    {
     "data": {
      "application/vnd.jupyter.widget-view+json": {
       "model_id": "",
       "version_major": 2,
       "version_minor": 0
      },
      "text/plain": [
       "HBox(children=(FloatProgress(value=1.0, bar_style='info', description='Validating', layout=Layout(flex='2'), m…"
      ]
     },
     "metadata": {},
     "output_type": "display_data"
    },
    {
     "data": {
      "application/vnd.jupyter.widget-view+json": {
       "model_id": "",
       "version_major": 2,
       "version_minor": 0
      },
      "text/plain": [
       "HBox(children=(FloatProgress(value=1.0, bar_style='info', description='Validating', layout=Layout(flex='2'), m…"
      ]
     },
     "metadata": {},
     "output_type": "display_data"
    },
    {
     "data": {
      "application/vnd.jupyter.widget-view+json": {
       "model_id": "",
       "version_major": 2,
       "version_minor": 0
      },
      "text/plain": [
       "HBox(children=(FloatProgress(value=1.0, bar_style='info', description='Validating', layout=Layout(flex='2'), m…"
      ]
     },
     "metadata": {},
     "output_type": "display_data"
    },
    {
     "data": {
      "application/vnd.jupyter.widget-view+json": {
       "model_id": "",
       "version_major": 2,
       "version_minor": 0
      },
      "text/plain": [
       "HBox(children=(FloatProgress(value=1.0, bar_style='info', description='Validating', layout=Layout(flex='2'), m…"
      ]
     },
     "metadata": {},
     "output_type": "display_data"
    },
    {
     "data": {
      "application/vnd.jupyter.widget-view+json": {
       "model_id": "",
       "version_major": 2,
       "version_minor": 0
      },
      "text/plain": [
       "HBox(children=(FloatProgress(value=1.0, bar_style='info', description='Validating', layout=Layout(flex='2'), m…"
      ]
     },
     "metadata": {},
     "output_type": "display_data"
    },
    {
     "data": {
      "application/vnd.jupyter.widget-view+json": {
       "model_id": "",
       "version_major": 2,
       "version_minor": 0
      },
      "text/plain": [
       "HBox(children=(FloatProgress(value=1.0, bar_style='info', description='Validating', layout=Layout(flex='2'), m…"
      ]
     },
     "metadata": {},
     "output_type": "display_data"
    },
    {
     "data": {
      "application/vnd.jupyter.widget-view+json": {
       "model_id": "",
       "version_major": 2,
       "version_minor": 0
      },
      "text/plain": [
       "HBox(children=(FloatProgress(value=1.0, bar_style='info', description='Validating', layout=Layout(flex='2'), m…"
      ]
     },
     "metadata": {},
     "output_type": "display_data"
    },
    {
     "data": {
      "application/vnd.jupyter.widget-view+json": {
       "model_id": "",
       "version_major": 2,
       "version_minor": 0
      },
      "text/plain": [
       "HBox(children=(FloatProgress(value=1.0, bar_style='info', description='Validating', layout=Layout(flex='2'), m…"
      ]
     },
     "metadata": {},
     "output_type": "display_data"
    },
    {
     "data": {
      "application/vnd.jupyter.widget-view+json": {
       "model_id": "",
       "version_major": 2,
       "version_minor": 0
      },
      "text/plain": [
       "HBox(children=(FloatProgress(value=1.0, bar_style='info', description='Validating', layout=Layout(flex='2'), m…"
      ]
     },
     "metadata": {},
     "output_type": "display_data"
    },
    {
     "data": {
      "application/vnd.jupyter.widget-view+json": {
       "model_id": "",
       "version_major": 2,
       "version_minor": 0
      },
      "text/plain": [
       "HBox(children=(FloatProgress(value=1.0, bar_style='info', description='Validating', layout=Layout(flex='2'), m…"
      ]
     },
     "metadata": {},
     "output_type": "display_data"
    },
    {
     "data": {
      "application/vnd.jupyter.widget-view+json": {
       "model_id": "",
       "version_major": 2,
       "version_minor": 0
      },
      "text/plain": [
       "HBox(children=(FloatProgress(value=1.0, bar_style='info', description='Validating', layout=Layout(flex='2'), m…"
      ]
     },
     "metadata": {},
     "output_type": "display_data"
    },
    {
     "data": {
      "application/vnd.jupyter.widget-view+json": {
       "model_id": "",
       "version_major": 2,
       "version_minor": 0
      },
      "text/plain": [
       "HBox(children=(FloatProgress(value=1.0, bar_style='info', description='Validating', layout=Layout(flex='2'), m…"
      ]
     },
     "metadata": {},
     "output_type": "display_data"
    },
    {
     "data": {
      "application/vnd.jupyter.widget-view+json": {
       "model_id": "",
       "version_major": 2,
       "version_minor": 0
      },
      "text/plain": [
       "HBox(children=(FloatProgress(value=1.0, bar_style='info', description='Validating', layout=Layout(flex='2'), m…"
      ]
     },
     "metadata": {},
     "output_type": "display_data"
    },
    {
     "data": {
      "application/vnd.jupyter.widget-view+json": {
       "model_id": "",
       "version_major": 2,
       "version_minor": 0
      },
      "text/plain": [
       "HBox(children=(FloatProgress(value=1.0, bar_style='info', description='Validating', layout=Layout(flex='2'), m…"
      ]
     },
     "metadata": {},
     "output_type": "display_data"
    },
    {
     "data": {
      "application/vnd.jupyter.widget-view+json": {
       "model_id": "",
       "version_major": 2,
       "version_minor": 0
      },
      "text/plain": [
       "HBox(children=(FloatProgress(value=1.0, bar_style='info', description='Validating', layout=Layout(flex='2'), m…"
      ]
     },
     "metadata": {},
     "output_type": "display_data"
    },
    {
     "data": {
      "application/vnd.jupyter.widget-view+json": {
       "model_id": "",
       "version_major": 2,
       "version_minor": 0
      },
      "text/plain": [
       "HBox(children=(FloatProgress(value=1.0, bar_style='info', description='Validating', layout=Layout(flex='2'), m…"
      ]
     },
     "metadata": {},
     "output_type": "display_data"
    },
    {
     "data": {
      "application/vnd.jupyter.widget-view+json": {
       "model_id": "",
       "version_major": 2,
       "version_minor": 0
      },
      "text/plain": [
       "HBox(children=(FloatProgress(value=1.0, bar_style='info', description='Validating', layout=Layout(flex='2'), m…"
      ]
     },
     "metadata": {},
     "output_type": "display_data"
    },
    {
     "data": {
      "application/vnd.jupyter.widget-view+json": {
       "model_id": "",
       "version_major": 2,
       "version_minor": 0
      },
      "text/plain": [
       "HBox(children=(FloatProgress(value=1.0, bar_style='info', description='Validating', layout=Layout(flex='2'), m…"
      ]
     },
     "metadata": {},
     "output_type": "display_data"
    },
    {
     "data": {
      "application/vnd.jupyter.widget-view+json": {
       "model_id": "",
       "version_major": 2,
       "version_minor": 0
      },
      "text/plain": [
       "HBox(children=(FloatProgress(value=1.0, bar_style='info', description='Validating', layout=Layout(flex='2'), m…"
      ]
     },
     "metadata": {},
     "output_type": "display_data"
    },
    {
     "data": {
      "application/vnd.jupyter.widget-view+json": {
       "model_id": "",
       "version_major": 2,
       "version_minor": 0
      },
      "text/plain": [
       "HBox(children=(FloatProgress(value=1.0, bar_style='info', description='Validating', layout=Layout(flex='2'), m…"
      ]
     },
     "metadata": {},
     "output_type": "display_data"
    },
    {
     "data": {
      "application/vnd.jupyter.widget-view+json": {
       "model_id": "",
       "version_major": 2,
       "version_minor": 0
      },
      "text/plain": [
       "HBox(children=(FloatProgress(value=1.0, bar_style='info', description='Validating', layout=Layout(flex='2'), m…"
      ]
     },
     "metadata": {},
     "output_type": "display_data"
    },
    {
     "data": {
      "application/vnd.jupyter.widget-view+json": {
       "model_id": "",
       "version_major": 2,
       "version_minor": 0
      },
      "text/plain": [
       "HBox(children=(FloatProgress(value=1.0, bar_style='info', description='Validating', layout=Layout(flex='2'), m…"
      ]
     },
     "metadata": {},
     "output_type": "display_data"
    },
    {
     "data": {
      "application/vnd.jupyter.widget-view+json": {
       "model_id": "",
       "version_major": 2,
       "version_minor": 0
      },
      "text/plain": [
       "HBox(children=(FloatProgress(value=1.0, bar_style='info', description='Validating', layout=Layout(flex='2'), m…"
      ]
     },
     "metadata": {},
     "output_type": "display_data"
    },
    {
     "data": {
      "application/vnd.jupyter.widget-view+json": {
       "model_id": "",
       "version_major": 2,
       "version_minor": 0
      },
      "text/plain": [
       "HBox(children=(FloatProgress(value=1.0, bar_style='info', description='Validating', layout=Layout(flex='2'), m…"
      ]
     },
     "metadata": {},
     "output_type": "display_data"
    },
    {
     "name": "stderr",
     "output_type": "stream",
     "text": [
      "Saving latest checkpoint..\n"
     ]
    },
    {
     "name": "stdout",
     "output_type": "stream",
     "text": [
      "\n"
     ]
    },
    {
     "data": {
      "text/plain": [
       "1"
      ]
     },
     "execution_count": 11,
     "metadata": {},
     "output_type": "execute_result"
    }
   ],
   "source": [
    "# for i in range(30):\n",
    "\n",
    "model = SentenceModel(ud.Token.label_map(), units=400, learning_rate=0.8e-3)\n",
    "# model.char_lstm.load_state_dict(torch.load('models/verbs_sumsharedlstm.pth'))\n",
    "wandb_logger = pl.loggers.WandbLogger(project='rootem', group='ud-real', name=f'dotted-alternating')\n",
    "trainer = pl.Trainer(gpus=1, max_epochs=50, logger=wandb_logger)\n",
    "trainer.fit(model, dataset)"
   ]
  },
  {
   "cell_type": "code",
   "execution_count": null,
   "metadata": {},
   "outputs": [],
   "source": [
    "sent = 'רציתי לעשות דברים אז הלכתי לאכול פיצה. לא שבעתי. אני אמשיך לכתוב אם תורידי את המים'.split()\n",
    "text = torch.Tensor([[utils.encode_word(word, 11) for word in sent]] * 2)  # .cuda()"
   ]
  },
  {
   "cell_type": "code",
   "execution_count": null,
   "metadata": {},
   "outputs": [],
   "source": [
    "res = [[ud.Token.decode_label(label, idx) for idx in value.argmax(1)[0]]\n",
    "        for label, value in model(text).items()]\n",
    "indices = [9, 14, -6, -7, -8, -9]\n",
    "print('Token', *[ud.Token.labels()[3:][i][:7] for i in indices], sep='\\t')\n",
    "for item in zip(sent, *res):\n",
    "#     if item[14] == 'VERB':\n",
    "        print(item[0], *[item[i] for i in indices], sep='\\t')\n",
    "#     else:\n",
    "#         print(item[0])\n"
   ]
  },
  {
   "cell_type": "code",
   "execution_count": 12,
   "metadata": {},
   "outputs": [
    {
     "name": "stdout",
     "output_type": "stream",
     "text": [
      "עַשְׂרוֹת\u0000\u0000\u0000\u0000\u0000\u0000\u0000\u0000\u0000\u0000\u0000\tNUM\tPAAL\tעשר\n",
      "אֲנָשִׁים\u0000\u0000\u0000\u0000\u0000\u0000\u0000\u0000\u0000\u0000\u0000\tNOUN\tNIFAL\tאוש\n",
      "מַגִּיעִים\u0000\u0000\u0000\u0000\u0000\u0000\u0000\u0000\u0000\u0000\tVERB\tHIFIL\tנגע\n",
      "מִתְאִילַנְד\u0000\u0000\u0000\u0000\u0000\u0000\u0000\u0000\tADV\tHITPAEL\tאעד\n",
      "לְיִשְׂרָאֵל\u0000\u0000\u0000\u0000\u0000\u0000\u0000\u0000\tPROPN\tNIFAL\tשאל\n",
      "כְּשֶׁהֵם\u0000\u0000\u0000\u0000\u0000\u0000\u0000\u0000\u0000\u0000\u0000\tPRON\tPAAL\tכהמ\n",
      "נִרְשָׁמִים\u0000\u0000\u0000\u0000\u0000\u0000\u0000\u0000\u0000\tVERB\tNIFAL\tרשמ\n",
      "כְּמִתְנַדְּבִים,\u0000\u0000\u0000\tNOUN\tHITPAEL\tנבב\n",
      "אַךְ\u0000\u0000\u0000\u0000\u0000\u0000\u0000\u0000\u0000\u0000\u0000\u0000\u0000\u0000\u0000\u0000\tCCONJ\tPAAL\tאככ\n",
      "לְמַעֲשֶׂה\u0000\u0000\u0000\u0000\u0000\u0000\u0000\u0000\u0000\u0000\tADV\tPIEL\tעשי\n",
      "מְשֻׁמְּשִׁים\u0000\u0000\u0000\u0000\u0000\u0000\u0000\tVERB\tPIEL\tשמש\n",
      "עוֹבְדִים\u0000\u0000\u0000\u0000\u0000\u0000\u0000\u0000\u0000\u0000\u0000\tNOUN\tPAAL\tעבד\n",
      "שְׂכִירִים\u0000\u0000\u0000\u0000\u0000\u0000\u0000\u0000\u0000\u0000\tNOUN\tPAAL\tשכר\n",
      "זוֹלִים.\u0000\u0000\u0000\u0000\u0000\u0000\u0000\u0000\u0000\u0000\u0000\u0000\tADJ\tPAAL\tזלי\n",
      "\n",
      "תּוֹפָעָה\u0000\u0000\u0000\u0000\u0000\u0000\u0000\u0000\u0000\u0000\u0000\tNOUN\tPUAL\tתפע\n",
      "זוֹ\u0000\u0000\u0000\u0000\u0000\u0000\u0000\u0000\u0000\u0000\u0000\u0000\u0000\u0000\u0000\u0000\u0000\tPRON\tPAAL\tזוז\n",
      "הִתְבָּרְרָה\u0000\u0000\u0000\u0000\u0000\u0000\u0000\u0000\tVERB\tHITPAEL\tברר\n",
      "אֶתְמוֹל\u0000\u0000\u0000\u0000\u0000\u0000\u0000\u0000\u0000\u0000\u0000\u0000\tADV\tPAAL\tתמל\n",
      "בְּוַועֲדַת\u0000\u0000\u0000\u0000\u0000\u0000\u0000\u0000\u0000\tNOUN\tPIEL\tבעת\n",
      "הָעֲבוֹדָה\u0000\u0000\u0000\u0000\u0000\u0000\u0000\u0000\u0000\u0000\tNOUN\tPAAL\tעבד\n",
      "וְהָרְוָוחָה\u0000\u0000\u0000\u0000\u0000\u0000\u0000\u0000\tNOUN\tPAAL\tרוח\n",
      "שֶׁל\u0000\u0000\u0000\u0000\u0000\u0000\u0000\u0000\u0000\u0000\u0000\u0000\u0000\u0000\u0000\u0000\tADP\tPAAL\tשלל\n",
      "הַכְּנֶסֶת,\u0000\u0000\u0000\u0000\u0000\u0000\u0000\u0000\u0000\tPROPN\tHIFIL\tכנס\n",
      "שֶׁדָּנָה\u0000\u0000\u0000\u0000\u0000\u0000\u0000\u0000\u0000\u0000\u0000\tVERB\tPAAL\tדונ\n",
      "בְּנוֹשֵׂא\u0000\u0000\u0000\u0000\u0000\u0000\u0000\u0000\u0000\u0000\tNOUN\tPAAL\tנשא\n",
      "הָעֲסָקַת\u0000\u0000\u0000\u0000\u0000\u0000\u0000\u0000\u0000\u0000\u0000\tNOUN\tPAAL\tעסק\n",
      "עוֹבְדִים\u0000\u0000\u0000\u0000\u0000\u0000\u0000\u0000\u0000\u0000\u0000\tNOUN\tPAAL\tעבד\n",
      "זָרִים.\u0000\u0000\u0000\u0000\u0000\u0000\u0000\u0000\u0000\u0000\u0000\u0000\u0000\tADJ\tPAAL\tזרר\n",
      "\n",
      "יוֹ\"ר\u0000\u0000\u0000\u0000\u0000\u0000\u0000\u0000\u0000\u0000\u0000\u0000\u0000\u0000\u0000\tNOUN\tHUFAL\tיוי\n",
      "הַוַּועֲדָה,\u0000\u0000\u0000\u0000\u0000\u0000\u0000\u0000\tNOUN\tHUFAL\tעעד\n",
      "חַ\"כּ\u0000\u0000\u0000\u0000\u0000\u0000\u0000\u0000\u0000\u0000\u0000\u0000\u0000\u0000\u0000\tNOUN\tPAAL\tחוכ\n",
      "אוֹרָה\u0000\u0000\u0000\u0000\u0000\u0000\u0000\u0000\u0000\u0000\u0000\u0000\u0000\u0000\tPROPN\tPAAL\tארי\n",
      "נָמִיר\u0000\u0000\u0000\u0000\u0000\u0000\u0000\u0000\u0000\u0000\u0000\u0000\u0000\u0000\tPROPN\tHIFIL\tנור\n",
      "(מַעֲרָךְ),\u0000\u0000\u0000\u0000\u0000\u0000\u0000\u0000\u0000\tPROPN\tPIEL\tערעכ\n",
      "טַעֲנָה\u0000\u0000\u0000\u0000\u0000\u0000\u0000\u0000\u0000\u0000\u0000\u0000\u0000\tVERB\tPAAL\tטענ\n",
      "כִּי\u0000\u0000\u0000\u0000\u0000\u0000\u0000\u0000\u0000\u0000\u0000\u0000\u0000\u0000\u0000\u0000\tSCONJ\tPAAL\tכעי\n",
      "\"מְבִיאִים\u0000\u0000\u0000\u0000\u0000\u0000\u0000\u0000\u0000\u0000\tNOUN\tHIFIL\tבוא\n",
      "עוֹבְדִים\u0000\u0000\u0000\u0000\u0000\u0000\u0000\u0000\u0000\u0000\u0000\tNOUN\tPAAL\tעבד\n",
      "זָרִים\u0000\u0000\u0000\u0000\u0000\u0000\u0000\u0000\u0000\u0000\u0000\u0000\u0000\u0000\tADJ\tPAAL\tזרר\n",
      "לְיִשְׂרָאֵל\u0000\u0000\u0000\u0000\u0000\u0000\u0000\u0000\tPROPN\tPIEL\tשאל\n",
      "עַל\u0000\u0000\u0000\u0000\u0000\u0000\u0000\u0000\u0000\u0000\u0000\u0000\u0000\u0000\u0000\u0000\u0000\tADP\tPAAL\tעלל\n",
      "תֶּקֶּן\u0000\u0000\u0000\u0000\u0000\u0000\u0000\u0000\u0000\u0000\u0000\u0000\u0000\tNOUN\tPAAL\tקקנ\n",
      "שֶׁל\u0000\u0000\u0000\u0000\u0000\u0000\u0000\u0000\u0000\u0000\u0000\u0000\u0000\u0000\u0000\u0000\tADP\tPAAL\tשלל\n",
      "מִתְנַדְּבִים\u0000\u0000\u0000\u0000\u0000\u0000\u0000\tNOUN\tHITPAEL\tנדב\n",
      "מִתְאִילַנְד,\u0000\u0000\u0000\u0000\u0000\u0000\u0000\tADV\tHITPAEL\tאעמד\n",
      "רַק\u0000\u0000\u0000\u0000\u0000\u0000\u0000\u0000\u0000\u0000\u0000\u0000\u0000\u0000\u0000\u0000\u0000\tADV\tPAAL\tרקק\n",
      "כְּדֵי\u0000\u0000\u0000\u0000\u0000\u0000\u0000\u0000\u0000\u0000\u0000\u0000\u0000\u0000\tADP\tPAAL\tכדי\n",
      "לֹא\u0000\u0000\u0000\u0000\u0000\u0000\u0000\u0000\u0000\u0000\u0000\u0000\u0000\u0000\u0000\u0000\u0000\tADV\tPAAL\tיאא\n",
      "לְשַׁלֵּם\u0000\u0000\u0000\u0000\u0000\u0000\u0000\u0000\u0000\u0000\u0000\tVERB\tPIEL\tשלמ\n",
      "לָהֶם\u0000\u0000\u0000\u0000\u0000\u0000\u0000\u0000\u0000\u0000\u0000\u0000\u0000\u0000\u0000\tPRON\tPAAL\tלומ\n",
      "שְׂכַר\u0000\u0000\u0000\u0000\u0000\u0000\u0000\u0000\u0000\u0000\u0000\u0000\u0000\u0000\tNOUN\tPAAL\tשכר\n",
      "מִינִימוּם.\u0000\u0000\u0000\u0000\u0000\u0000\u0000\u0000\u0000\tNOUN\tPUAL\tמומ\n",
      "\n",
      "מִצַּד\u0000\u0000\u0000\u0000\u0000\u0000\u0000\u0000\u0000\u0000\u0000\u0000\u0000\u0000\tNOUN\tPIEL\tמצד\n",
      "אֶחָד\u0000\u0000\u0000\u0000\u0000\u0000\u0000\u0000\u0000\u0000\u0000\u0000\u0000\u0000\u0000\tNUM\tPAAL\tחחד\n",
      "רוֹצֶה\u0000\u0000\u0000\u0000\u0000\u0000\u0000\u0000\u0000\u0000\u0000\u0000\u0000\u0000\tVERB\tPAAL\tרצי\n",
      "הָאוֹצָר\u0000\u0000\u0000\u0000\u0000\u0000\u0000\u0000\u0000\u0000\u0000\u0000\tNOUN\tPAAL\tאצר\n",
      "לְהוֹרִיד\u0000\u0000\u0000\u0000\u0000\u0000\u0000\u0000\u0000\u0000\u0000\tVERB\tHIFIL\tירד\n",
      "אֶת\u0000\u0000\u0000\u0000\u0000\u0000\u0000\u0000\u0000\u0000\u0000\u0000\u0000\u0000\u0000\u0000\u0000\tADP\tPAAL\tאמת\n",
      "שָׂכָר\u0000\u0000\u0000\u0000\u0000\u0000\u0000\u0000\u0000\u0000\u0000\u0000\u0000\u0000\tNOUN\tPAAL\tשכר\n",
      "הַמִּינִימוּם,\u0000\u0000\u0000\u0000\u0000\u0000\tNOUN\tHIFIL\tמומ\n",
      "וּמִצַּד\u0000\u0000\u0000\u0000\u0000\u0000\u0000\u0000\u0000\u0000\u0000\u0000\tNOUN\tPAAL\tמצד\n",
      "שֵׁנִי\u0000\u0000\u0000\u0000\u0000\u0000\u0000\u0000\u0000\u0000\u0000\u0000\u0000\u0000\tNUM\tPIEL\tשוי\n",
      "מַתִּיר\u0000\u0000\u0000\u0000\u0000\u0000\u0000\u0000\u0000\u0000\u0000\u0000\u0000\tNOUN\tHIFIL\tנתר\n",
      "מִשְׂרַד\u0000\u0000\u0000\u0000\u0000\u0000\u0000\u0000\u0000\u0000\u0000\u0000\tNOUN\tPAAL\tשׂרד\n",
      "הָעֲבוֹדָה\u0000\u0000\u0000\u0000\u0000\u0000\u0000\u0000\u0000\u0000\tNOUN\tPAAL\tעבד\n",
      "וְהָרְוָוחָה\u0000\u0000\u0000\u0000\u0000\u0000\u0000\u0000\tNOUN\tPAAL\tרוח\n",
      "לְהַעֲסִיק\u0000\u0000\u0000\u0000\u0000\u0000\u0000\u0000\u0000\u0000\tVERB\tHIFIL\tעסק\n",
      "עוֹבְדִים\u0000\u0000\u0000\u0000\u0000\u0000\u0000\u0000\u0000\u0000\u0000\tNOUN\tPAAL\tעבד\n",
      "זָרִים\u0000\u0000\u0000\u0000\u0000\u0000\u0000\u0000\u0000\u0000\u0000\u0000\u0000\u0000\tADJ\tPAAL\tזרר\n",
      "בְּפָחוֹת\u0000\u0000\u0000\u0000\u0000\u0000\u0000\u0000\u0000\u0000\u0000\tADV\tPAAL\tפחפ\n",
      "מִשָּׂכָר\u0000\u0000\u0000\u0000\u0000\u0000\u0000\u0000\u0000\u0000\u0000\tNOUN\tPAAL\tשכר\n",
      "זֶה\".\u0000\u0000\u0000\u0000\u0000\u0000\u0000\u0000\u0000\u0000\u0000\u0000\u0000\u0000\u0000\tPRON\tPAAL\tזכי\n",
      "\n",
      "נָמִיר\u0000\u0000\u0000\u0000\u0000\u0000\u0000\u0000\u0000\u0000\u0000\u0000\u0000\u0000\tPROPN\tHIFIL\tמור\n",
      "הוֹדִיעָה\u0000\u0000\u0000\u0000\u0000\u0000\u0000\u0000\u0000\u0000\u0000\tVERB\tHIFIL\tידע\n",
      "כִּי\u0000\u0000\u0000\u0000\u0000\u0000\u0000\u0000\u0000\u0000\u0000\u0000\u0000\u0000\u0000\u0000\tSCONJ\tPAAL\tכעי\n",
      "תִּפְנֶה\u0000\u0000\u0000\u0000\u0000\u0000\u0000\u0000\u0000\u0000\u0000\u0000\tVERB\tPAAL\tפני\n",
      "לְשָׂרֵי\u0000\u0000\u0000\u0000\u0000\u0000\u0000\u0000\u0000\u0000\u0000\u0000\tNOUN\tPIEL\tשיר\n",
      "הַפָּנִים\u0000\u0000\u0000\u0000\u0000\u0000\u0000\u0000\u0000\u0000\u0000\tNOUN\tPAAL\tפפי\n",
      "וְהָעֲבוֹדָה\u0000\u0000\u0000\u0000\u0000\u0000\u0000\u0000\tNOUN\tHIFIL\tעוד\n",
      "וְהָרְוָוחָה\u0000\u0000\u0000\u0000\u0000\u0000\u0000\u0000\tNOUN\tPAAL\tרוח\n",
      "וּלְמַזְכִּיר\u0000\u0000\u0000\u0000\u0000\u0000\u0000\tVERB\tHIFIL\tזכר\n",
      "תְּנוּעַת\u0000\u0000\u0000\u0000\u0000\u0000\u0000\u0000\u0000\u0000\u0000\tNOUN\tPAAL\tתנע\n",
      "הַמּוֹשָׁבִים,\u0000\u0000\u0000\u0000\u0000\u0000\tNOUN\tPAAL\tישב\n",
      "בִּתְבִיעָה\u0000\u0000\u0000\u0000\u0000\u0000\u0000\u0000\u0000\tNOUN\tHIFIL\tבעע\n",
      "לְבַטֵּל\u0000\u0000\u0000\u0000\u0000\u0000\u0000\u0000\u0000\u0000\u0000\u0000\tVERB\tPIEL\tבטל\n",
      "אֶת\u0000\u0000\u0000\u0000\u0000\u0000\u0000\u0000\u0000\u0000\u0000\u0000\u0000\u0000\u0000\u0000\u0000\tADP\tPAAL\tאחת\n",
      "הַזְמָנָתָם\u0000\u0000\u0000\u0000\u0000\u0000\u0000\u0000\u0000\tADP\tHITPAEL\tזעמ\n",
      "שֶׁל\u0000\u0000\u0000\u0000\u0000\u0000\u0000\u0000\u0000\u0000\u0000\u0000\u0000\u0000\u0000\u0000\tADP\tPAAL\tשלל\n",
      "500\u0000\u0000\u0000\u0000\u0000\u0000\u0000\u0000\u0000\u0000\u0000\u0000\u0000\u0000\u0000\u0000\u0000\tNUM\tPAAL\tשוי\n",
      "עוֹבְדִים\u0000\u0000\u0000\u0000\u0000\u0000\u0000\u0000\u0000\u0000\u0000\tNOUN\tPAAL\tעבד\n",
      "זָרִים\u0000\u0000\u0000\u0000\u0000\u0000\u0000\u0000\u0000\u0000\u0000\u0000\u0000\u0000\tADJ\tPAAL\tזרר\n",
      "מִתְאִילַנְד\u0000\u0000\u0000\u0000\u0000\u0000\u0000\u0000\tVERB\tHITPAEL\tאעד\n",
      "כְּמִתְנַדְּבִים\u0000\u0000\u0000\u0000\tNOUN\tHITPAEL\tנבב\n",
      "כִּבְיָכוֹל.\u0000\u0000\u0000\u0000\u0000\u0000\u0000\u0000\tADV\tPAAL\tככל\n",
      "\n",
      "הִיא\u0000\u0000\u0000\u0000\u0000\u0000\u0000\u0000\u0000\u0000\u0000\u0000\u0000\u0000\u0000\u0000\tPRON\tHIFIL\tהוא\n",
      "הוֹדִיעָה\u0000\u0000\u0000\u0000\u0000\u0000\u0000\u0000\u0000\u0000\u0000\tVERB\tHIFIL\tידע\n",
      "כִּי\u0000\u0000\u0000\u0000\u0000\u0000\u0000\u0000\u0000\u0000\u0000\u0000\u0000\u0000\u0000\u0000\tSCONJ\tPAAL\tככי\n",
      "הַוַּועֲדָה\u0000\u0000\u0000\u0000\u0000\u0000\u0000\u0000\u0000\tNOUN\tHUFAL\tיעד\n",
      "תִּגַבַּשׁ\u0000\u0000\u0000\u0000\u0000\u0000\u0000\u0000\u0000\u0000\tVERB\tPAAL\tגבש\n",
      "הַצָּעַת\u0000\u0000\u0000\u0000\u0000\u0000\u0000\u0000\u0000\u0000\u0000\u0000\tNOUN\tPAAL\tצצע\n",
      "חוֹק\u0000\u0000\u0000\u0000\u0000\u0000\u0000\u0000\u0000\u0000\u0000\u0000\u0000\u0000\u0000\u0000\tNOUN\tPAAL\tחוק\n",
      "בַּנּוֹשֵׂא\u0000\u0000\u0000\u0000\u0000\u0000\u0000\u0000\u0000\tNOUN\tPAAL\tנשא\n",
      "הָעוֹבְדִים\u0000\u0000\u0000\u0000\u0000\u0000\u0000\u0000\u0000\tNOUN\tPAAL\tעבד\n",
      "הַזָּרִים,\u0000\u0000\u0000\u0000\u0000\u0000\u0000\u0000\u0000\u0000\tNOUN\tPAAL\tזרר\n",
      "שֶׁתִּכְלוֹל\u0000\u0000\u0000\u0000\u0000\u0000\u0000\u0000\tVERB\tPAAL\tככל\n",
      "אִיסּוּר\u0000\u0000\u0000\u0000\u0000\u0000\u0000\u0000\u0000\u0000\u0000\u0000\tNOUN\tPIEL\tאסר\n",
      "עַל\u0000\u0000\u0000\u0000\u0000\u0000\u0000\u0000\u0000\u0000\u0000\u0000\u0000\u0000\u0000\u0000\u0000\tADP\tPAAL\tעלל\n",
      "מַתַּן\u0000\u0000\u0000\u0000\u0000\u0000\u0000\u0000\u0000\u0000\u0000\u0000\u0000\u0000\tNOUN\tPIEL\tתתנ\n",
      "שָׂכָר\u0000\u0000\u0000\u0000\u0000\u0000\u0000\u0000\u0000\u0000\u0000\u0000\u0000\u0000\tNOUN\tPAAL\tשכר\n",
      "לְעוֹבְדִים\u0000\u0000\u0000\u0000\u0000\u0000\u0000\u0000\u0000\tNOUN\tPIEL\tעבד\n",
      "מִתַּחַת\u0000\u0000\u0000\u0000\u0000\u0000\u0000\u0000\u0000\u0000\u0000\u0000\tADP\tHITPAEL\tמחח\n",
      "לִשְׂכַר\u0000\u0000\u0000\u0000\u0000\u0000\u0000\u0000\u0000\u0000\u0000\u0000\tNOUN\tPAAL\tשכר\n",
      "הַמִּינִימוּם\u0000\u0000\u0000\u0000\u0000\u0000\u0000\tNOUN\tHIFIL\tמומ\n",
      "וּמַתַּן\u0000\u0000\u0000\u0000\u0000\u0000\u0000\u0000\u0000\u0000\u0000\u0000\tNOUN\tPIEL\tתתנ\n",
      "הַתְּנָאִים\u0000\u0000\u0000\u0000\u0000\u0000\u0000\u0000\u0000\tNOUN\tPAAL\tנאא\n",
      "הַסּוֹצְיָאלִיִּים\u0000\u0000\tADJ\tPAAL\tספמ\n",
      "הַמְּקוּבָּלִים\u0000\u0000\u0000\u0000\u0000\tADJ\tPUAL\tקבל\n",
      "בִּמְקוֹם\u0000\u0000\u0000\u0000\u0000\u0000\u0000\u0000\u0000\u0000\u0000\tADP\tPAAL\tבקמ\n",
      "הָעֲבוֹדָה.\u0000\u0000\u0000\u0000\u0000\u0000\u0000\u0000\u0000\tNOUN\tPAAL\tעבד\n",
      "\n",
      "כְּמוֹ\u0000\u0000\u0000\u0000\u0000\u0000\u0000\u0000\u0000\u0000\u0000\u0000\u0000\u0000\tADP\tPAAL\tככת\n",
      "כֵן,\u0000\u0000\u0000\u0000\u0000\u0000\u0000\u0000\u0000\u0000\u0000\u0000\u0000\u0000\u0000\u0000\tPRON\tPAAL\tכהנ\n",
      "תַּצִּיב\u0000\u0000\u0000\u0000\u0000\u0000\u0000\u0000\u0000\u0000\u0000\u0000\tVERB\tHIFIL\tיצב\n",
      "הַצָּעַת\u0000\u0000\u0000\u0000\u0000\u0000\u0000\u0000\u0000\u0000\u0000\u0000\tNOUN\tPAAL\tצצע\n",
      "הַחוֹק\u0000\u0000\u0000\u0000\u0000\u0000\u0000\u0000\u0000\u0000\u0000\u0000\u0000\u0000\tNOUN\tPAAL\tחוק\n",
      "עוֹנְשֵׁי\u0000\u0000\u0000\u0000\u0000\u0000\u0000\u0000\u0000\u0000\u0000\tNOUN\tPAAL\tעשש\n",
      "מַאֲסָר\u0000\u0000\u0000\u0000\u0000\u0000\u0000\u0000\u0000\u0000\u0000\u0000\u0000\tNOUN\tPIEL\tאסר\n",
      "וַהֲטָלַת\u0000\u0000\u0000\u0000\u0000\u0000\u0000\u0000\u0000\u0000\u0000\tNOUN\tPAAL\tנטל\n",
      "קְנָסוֹת\u0000\u0000\u0000\u0000\u0000\u0000\u0000\u0000\u0000\u0000\u0000\u0000\tNOUN\tPAAL\tקנס\n",
      "כְּבֵדִים\u0000\u0000\u0000\u0000\u0000\u0000\u0000\u0000\u0000\u0000\u0000\tNOUN\tPAAL\tכבד\n",
      "לְמִי\u0000\u0000\u0000\u0000\u0000\u0000\u0000\u0000\u0000\u0000\u0000\u0000\u0000\u0000\u0000\tADV\tPIEL\tמממ\n",
      "שֶׁיַּעֲסִיק\u0000\u0000\u0000\u0000\u0000\u0000\u0000\u0000\tVERB\tHIFIL\tעסק\n",
      "עוֹבְדִים\u0000\u0000\u0000\u0000\u0000\u0000\u0000\u0000\u0000\u0000\u0000\tNOUN\tPAAL\tעבד\n",
      "זָרִים\u0000\u0000\u0000\u0000\u0000\u0000\u0000\u0000\u0000\u0000\u0000\u0000\u0000\u0000\tADJ\tPAAL\tזרר\n",
      "בְּלֹא\u0000\u0000\u0000\u0000\u0000\u0000\u0000\u0000\u0000\u0000\u0000\u0000\u0000\u0000\tADP\tPAAL\tבלא\n",
      "רִשָׁיוֹן.\u0000\u0000\u0000\u0000\u0000\u0000\u0000\u0000\u0000\u0000\tNOUN\tPAAL\tרונ\n",
      "\n",
      "מַרְגְּלִית\u0000\u0000\u0000\u0000\u0000\u0000\u0000\u0000\u0000\tPROPN\tHIFIL\tרגל\n",
      "אֵילַת,\u0000\u0000\u0000\u0000\u0000\u0000\u0000\u0000\u0000\u0000\u0000\u0000\u0000\tPROPN\tPIEL\tאלת\n",
      "הַמְּמוּנֶּה\u0000\u0000\u0000\u0000\u0000\u0000\u0000\u0000\tNOUN\tPUAL\tמני\n",
      "עַל\u0000\u0000\u0000\u0000\u0000\u0000\u0000\u0000\u0000\u0000\u0000\u0000\u0000\u0000\u0000\u0000\u0000\tADP\tPAAL\tעלל\n",
      "מַתַּן\u0000\u0000\u0000\u0000\u0000\u0000\u0000\u0000\u0000\u0000\u0000\u0000\u0000\u0000\tNOUN\tPIEL\tתתנ\n",
      "הֶיְתְרֵי\u0000\u0000\u0000\u0000\u0000\u0000\u0000\u0000\u0000\u0000\u0000\tNOUN\tPIEL\tהיר\n",
      "עֲבוֹדָה\u0000\u0000\u0000\u0000\u0000\u0000\u0000\u0000\u0000\u0000\u0000\u0000\tNOUN\tPAAL\tעבד\n",
      "לְזָרִים\u0000\u0000\u0000\u0000\u0000\u0000\u0000\u0000\u0000\u0000\u0000\u0000\tNOUN\tPAAL\tזרר\n",
      "בְּשֵׁירוּת\u0000\u0000\u0000\u0000\u0000\u0000\u0000\u0000\u0000\tNOUN\tPIEL\tשור\n",
      "הַתַּעֲסוּקָה,\u0000\u0000\u0000\u0000\u0000\u0000\tNOUN\tPAAL\tחסק\n",
      "מְסָרָה\u0000\u0000\u0000\u0000\u0000\u0000\u0000\u0000\u0000\u0000\u0000\u0000\u0000\tVERB\tPAAL\tמסר\n",
      "כִּי\u0000\u0000\u0000\u0000\u0000\u0000\u0000\u0000\u0000\u0000\u0000\u0000\u0000\u0000\u0000\u0000\tSCONJ\tPAAL\tכהי\n",
      "תְּנוּעַת\u0000\u0000\u0000\u0000\u0000\u0000\u0000\u0000\u0000\u0000\u0000\tNOUN\tPAAL\tנוע\n",
      "הַמּוֹשָׁבִים\u0000\u0000\u0000\u0000\u0000\u0000\u0000\tNOUN\tPAAL\tישב\n",
      "הִפְעִילָה\u0000\u0000\u0000\u0000\u0000\u0000\u0000\u0000\u0000\u0000\tADJ\tHIFIL\tפעל\n",
      "לַחַץ\u0000\u0000\u0000\u0000\u0000\u0000\u0000\u0000\u0000\u0000\u0000\u0000\u0000\u0000\u0000\tNOUN\tPAAL\tלחצ\n",
      "שֶׁיּוֹתֵר\u0000\u0000\u0000\u0000\u0000\u0000\u0000\u0000\u0000\u0000\tVERB\tPIEL\tיתר\n",
      "לָהּ\u0000\u0000\u0000\u0000\u0000\u0000\u0000\u0000\u0000\u0000\u0000\u0000\u0000\u0000\u0000\u0000\tPRON\tPAAL\tנוי\n",
      "לְהָבִיא\u0000\u0000\u0000\u0000\u0000\u0000\u0000\u0000\u0000\u0000\u0000\u0000\tVERB\tHIFIL\tבוא\n",
      "עוֹבְדִים\u0000\u0000\u0000\u0000\u0000\u0000\u0000\u0000\u0000\u0000\u0000\tNOUN\tPAAL\tעבד\n",
      "זָרִים\u0000\u0000\u0000\u0000\u0000\u0000\u0000\u0000\u0000\u0000\u0000\u0000\u0000\u0000\tADJ\tPAAL\tזרר\n",
      "מַתְאִילַנְד.\u0000\u0000\u0000\u0000\u0000\u0000\u0000\tPROPN\tHITPAEL\tאעקד\n",
      "\n",
      "הִיא\u0000\u0000\u0000\u0000\u0000\u0000\u0000\u0000\u0000\u0000\u0000\u0000\u0000\u0000\u0000\u0000\tPRON\tHIFIL\tהיא\n",
      "אָמְרָה\u0000\u0000\u0000\u0000\u0000\u0000\u0000\u0000\u0000\u0000\u0000\u0000\u0000\tVERB\tPAAL\tאמר\n",
      "כִּי\u0000\u0000\u0000\u0000\u0000\u0000\u0000\u0000\u0000\u0000\u0000\u0000\u0000\u0000\u0000\u0000\tSCONJ\tPAAL\tככי\n",
      "שֵׁירוּת\u0000\u0000\u0000\u0000\u0000\u0000\u0000\u0000\u0000\u0000\u0000\u0000\tNOUN\tPAAL\tרות\n",
      "הַתַּעֲסוּקָה\u0000\u0000\u0000\u0000\u0000\u0000\u0000\tNOUN\tPAAL\tחסק\n",
      "הִצִּיעַ\u0000\u0000\u0000\u0000\u0000\u0000\u0000\u0000\u0000\u0000\u0000\u0000\tVERB\tHIFIL\tיצע\n",
      "לְהָבִיא\u0000\u0000\u0000\u0000\u0000\u0000\u0000\u0000\u0000\u0000\u0000\u0000\tVERB\tHIFIL\tבוא\n",
      "עוֹבְדִים\u0000\u0000\u0000\u0000\u0000\u0000\u0000\u0000\u0000\u0000\u0000\tNOUN\tPAAL\tעבד\n",
      "מִדָּרוֹם\u0000\u0000\u0000\u0000\u0000\u0000\u0000\u0000\u0000\u0000\u0000\tNOUN\tPAAL\tדרר\n",
      "לְבָנוֹן,\u0000\u0000\u0000\u0000\u0000\u0000\u0000\u0000\u0000\u0000\u0000\tPROPN\tPIEL\tבונ\n",
      "אַךְ\u0000\u0000\u0000\u0000\u0000\u0000\u0000\u0000\u0000\u0000\u0000\u0000\u0000\u0000\u0000\u0000\tCCONJ\tPAAL\tאסכ\n",
      "תְּנוּעַת\u0000\u0000\u0000\u0000\u0000\u0000\u0000\u0000\u0000\u0000\u0000\tNOUN\tPAAL\tתוע\n",
      "הַמּוֹשָׁבִים\u0000\u0000\u0000\u0000\u0000\u0000\u0000\tNOUN\tPAAL\tישב\n",
      "סֵירְבָה.\u0000\u0000\u0000\u0000\u0000\u0000\u0000\u0000\u0000\u0000\u0000\tVERB\tPIEL\tסרב\n",
      "\n",
      "יִשְׂרָאֵל\u0000\u0000\u0000\u0000\u0000\u0000\u0000\u0000\u0000\u0000\tPROPN\tNIFAL\tשרל\n",
      "אָרָד,\u0000\u0000\u0000\u0000\u0000\u0000\u0000\u0000\u0000\u0000\u0000\u0000\u0000\u0000\tPROPN\tPAAL\tארד\n",
      "סָמַנְכַּ\"ל\u0000\u0000\u0000\u0000\u0000\u0000\u0000\u0000\u0000\tNOUN\tPIEL\tסכל\n",
      "הַבִּיטּוּחַ\u0000\u0000\u0000\u0000\u0000\u0000\u0000\u0000\tNOUN\tHIFIL\tבטח\n",
      "הַלְּאוּמִּי,\u0000\u0000\u0000\u0000\u0000\u0000\u0000\tADJ\tPAAL\tאוא\n",
      "אָמַר\u0000\u0000\u0000\u0000\u0000\u0000\u0000\u0000\u0000\u0000\u0000\u0000\u0000\u0000\u0000\tVERB\tPAAL\tאמר\n",
      "כִּי\u0000\u0000\u0000\u0000\u0000\u0000\u0000\u0000\u0000\u0000\u0000\u0000\u0000\u0000\u0000\u0000\tSCONJ\tPAAL\tככי\n",
      "מְמַלֵּא\u0000\u0000\u0000\u0000\u0000\u0000\u0000\u0000\u0000\u0000\u0000\u0000\tVERB\tPIEL\tמלא\n",
      "מָקוֹם\u0000\u0000\u0000\u0000\u0000\u0000\u0000\u0000\u0000\u0000\u0000\u0000\u0000\u0000\tNOUN\tPAAL\tמומ\n",
      "שַׂר\u0000\u0000\u0000\u0000\u0000\u0000\u0000\u0000\u0000\u0000\u0000\u0000\u0000\u0000\u0000\u0000\tNOUN\tPAAL\tשיר\n",
      "הָעֲבוֹדָה\u0000\u0000\u0000\u0000\u0000\u0000\u0000\u0000\u0000\u0000\tNOUN\tPAAL\tעבד\n",
      "וְהָרְוָוחָה,\u0000\u0000\u0000\u0000\u0000\u0000\u0000\tNOUN\tPAAL\tרוח\n",
      "דָּוִד\u0000\u0000\u0000\u0000\u0000\u0000\u0000\u0000\u0000\u0000\u0000\u0000\u0000\u0000\tPROPN\tPAAL\tדוד\n",
      "מָגֵן,\u0000\u0000\u0000\u0000\u0000\u0000\u0000\u0000\u0000\u0000\u0000\u0000\u0000\u0000\tPROPN\tHIFIL\tגננ\n",
      "הֵקִים\u0000\u0000\u0000\u0000\u0000\u0000\u0000\u0000\u0000\u0000\u0000\u0000\u0000\u0000\tVERB\tHIFIL\tקומ\n",
      "וַעֲדָה\u0000\u0000\u0000\u0000\u0000\u0000\u0000\u0000\u0000\u0000\u0000\u0000\u0000\tNOUN\tPAAL\tעעד\n",
      "בֵּין-מִשְׂרָדִית,\u0000\u0000\tADV\tPIEL\tבלת\n",
      "שֶׁהִמְלִיצָה\u0000\u0000\u0000\u0000\u0000\u0000\u0000\tVERB\tHIFIL\tמלצ\n",
      "לְהַגְדִּיל\u0000\u0000\u0000\u0000\u0000\u0000\u0000\u0000\u0000\tVERB\tHIFIL\tגדל\n",
      "בְּאוֹפֶן\u0000\u0000\u0000\u0000\u0000\u0000\u0000\u0000\u0000\u0000\u0000\tNOUN\tPAAL\tאפנ\n",
      "מַשְׁמָעוּתִי\u0000\u0000\u0000\u0000\u0000\u0000\u0000\tADJ\tHIFIL\tשמע\n",
      "אֶת\u0000\u0000\u0000\u0000\u0000\u0000\u0000\u0000\u0000\u0000\u0000\u0000\u0000\u0000\u0000\u0000\u0000\tADP\tPAAL\tאמת\n",
      "הַקְּנָסוֹת\u0000\u0000\u0000\u0000\u0000\u0000\u0000\u0000\u0000\tNOUN\tPAAL\tקנס\n",
      "לְמַעֲסִיקִים.\u0000\u0000\u0000\u0000\u0000\u0000\tNOUN\tHIFIL\tעסק\n",
      "\n",
      "חַ\"כּ\u0000\u0000\u0000\u0000\u0000\u0000\u0000\u0000\u0000\u0000\u0000\u0000\u0000\u0000\u0000\tNOUN\tPAAL\tחוכ\n",
      "אֵלַי\u0000\u0000\u0000\u0000\u0000\u0000\u0000\u0000\u0000\u0000\u0000\u0000\u0000\u0000\u0000\tPROPN\tPAAL\tאלל\n",
      "דַּיָּין\u0000\u0000\u0000\u0000\u0000\u0000\u0000\u0000\u0000\u0000\u0000\u0000\tPROPN\tPIEL\tדינ\n",
      "(מַעֲרָךְ)\u0000\u0000\u0000\u0000\u0000\u0000\u0000\u0000\u0000\u0000\tPROPN\tPIEL\tערעכ\n",
      "הִגִּישׁ\u0000\u0000\u0000\u0000\u0000\u0000\u0000\u0000\u0000\u0000\u0000\u0000\tVERB\tHIFIL\tנגש\n",
      "הַצָּעַת\u0000\u0000\u0000\u0000\u0000\u0000\u0000\u0000\u0000\u0000\u0000\u0000\tNOUN\tPAAL\tצצע\n",
      "חוֹק\u0000\u0000\u0000\u0000\u0000\u0000\u0000\u0000\u0000\u0000\u0000\u0000\u0000\u0000\u0000\u0000\tNOUN\tPAAL\tחוק\n",
      "שֶׁלְּפִיהָ\u0000\u0000\u0000\u0000\u0000\u0000\u0000\u0000\u0000\tADP\tHIFIL\tפוי\n",
      "יוּטַּל\u0000\u0000\u0000\u0000\u0000\u0000\u0000\u0000\u0000\u0000\u0000\u0000\u0000\tPROPN\tHUFAL\tנטל\n",
      "הֵיטֵּל\u0000\u0000\u0000\u0000\u0000\u0000\u0000\u0000\u0000\u0000\u0000\u0000\u0000\tADV\tHIFIL\tנטל\n",
      "עַל\u0000\u0000\u0000\u0000\u0000\u0000\u0000\u0000\u0000\u0000\u0000\u0000\u0000\u0000\u0000\u0000\u0000\tADP\tPAAL\tעלי\n",
      "מַעֲסִיקֵי\u0000\u0000\u0000\u0000\u0000\u0000\u0000\u0000\u0000\u0000\tNOUN\tHIFIL\tעסק\n",
      "עוֹבְדִים\u0000\u0000\u0000\u0000\u0000\u0000\u0000\u0000\u0000\u0000\u0000\tNOUN\tPAAL\tעבד\n",
      "זָרִים,\u0000\u0000\u0000\u0000\u0000\u0000\u0000\u0000\u0000\u0000\u0000\u0000\u0000\tADJ\tPAAL\tזרר\n",
      "כְּדֵי\u0000\u0000\u0000\u0000\u0000\u0000\u0000\u0000\u0000\u0000\u0000\u0000\u0000\u0000\tADP\tPAAL\tכדי\n",
      "לִמְנוֹעַ\u0000\u0000\u0000\u0000\u0000\u0000\u0000\u0000\u0000\u0000\u0000\tVERB\tPAAL\tמנע\n",
      "הַעֲדַפָתֶּם\u0000\u0000\u0000\u0000\u0000\u0000\u0000\u0000\tNOUN\tPAAL\tעפמ\n",
      "עַל\u0000\u0000\u0000\u0000\u0000\u0000\u0000\u0000\u0000\u0000\u0000\u0000\u0000\u0000\u0000\u0000\u0000\tADP\tPAAL\tעלי\n",
      "עוֹבְדִים\u0000\u0000\u0000\u0000\u0000\u0000\u0000\u0000\u0000\u0000\u0000\tNOUN\tPAAL\tעבד\n",
      "יִשְׂרְאֵלִיִּים.\u0000\u0000\u0000\tADJ\tNIFAL\tשלמ\n",
      "\n",
      "חֶבְרוֹת\u0000\u0000\u0000\u0000\u0000\u0000\u0000\u0000\u0000\u0000\u0000\u0000\tNOUN\tPAAL\tחבר\n",
      "הַמַּעֲסִיקוֹת\u0000\u0000\u0000\u0000\u0000\u0000\tNOUN\tHIFIL\tעסק\n",
      "עוֹבְדִים\u0000\u0000\u0000\u0000\u0000\u0000\u0000\u0000\u0000\u0000\u0000\tNOUN\tPAAL\tעבד\n",
      "זָרִים\u0000\u0000\u0000\u0000\u0000\u0000\u0000\u0000\u0000\u0000\u0000\u0000\u0000\u0000\tNOUN\tPAAL\tזרר\n",
      "זוֹכוֹת\u0000\u0000\u0000\u0000\u0000\u0000\u0000\u0000\u0000\u0000\u0000\u0000\u0000\tVERB\tPAAL\tזכי\n",
      "בְּמִכְרָזִים,\u0000\u0000\u0000\u0000\u0000\u0000\tNOUN\tPIEL\tברז\n",
      "הֱיוֹת\u0000\u0000\u0000\u0000\u0000\u0000\u0000\u0000\u0000\u0000\u0000\u0000\u0000\u0000\tAUX\tPAAL\tהיי\n",
      "וְהֵן\u0000\u0000\u0000\u0000\u0000\u0000\u0000\u0000\u0000\u0000\u0000\u0000\u0000\u0000\u0000\tPRON\tHIFIL\tההנ\n",
      "מַצִּיעוֹת\u0000\u0000\u0000\u0000\u0000\u0000\u0000\u0000\u0000\u0000\tVERB\tHIFIL\tיצע\n",
      "שֵׁירוּתִים\u0000\u0000\u0000\u0000\u0000\u0000\u0000\u0000\u0000\tNOUN\tPAAL\tשתי\n",
      "זוֹלִים\u0000\u0000\u0000\u0000\u0000\u0000\u0000\u0000\u0000\u0000\u0000\u0000\u0000\tADJ\tPAAL\tזלי\n",
      "יוֹתֵר.\u0000\u0000\u0000\u0000\u0000\u0000\u0000\u0000\u0000\u0000\u0000\u0000\u0000\tADV\tPAAL\tיתר\n",
      "\n",
      "ח\"כּ\u0000\u0000\u0000\u0000\u0000\u0000\u0000\u0000\u0000\u0000\u0000\u0000\u0000\u0000\u0000\u0000\tNOUN\tPAAL\tחוכ\n",
      "רָן\u0000\u0000\u0000\u0000\u0000\u0000\u0000\u0000\u0000\u0000\u0000\u0000\u0000\u0000\u0000\u0000\u0000\tPROPN\tPAAL\tרונ\n",
      "כֹּהֵן\u0000\u0000\u0000\u0000\u0000\u0000\u0000\u0000\u0000\u0000\u0000\u0000\u0000\u0000\tPROPN\tPAAL\tכהנ\n",
      "(רָץ)\u0000\u0000\u0000\u0000\u0000\u0000\u0000\u0000\u0000\u0000\u0000\u0000\u0000\u0000\u0000\tPROPN\tPAAL\tררצ\n",
      "אָמַר\u0000\u0000\u0000\u0000\u0000\u0000\u0000\u0000\u0000\u0000\u0000\u0000\u0000\u0000\u0000\tVERB\tPAAL\tאמר\n",
      "כִּי\u0000\u0000\u0000\u0000\u0000\u0000\u0000\u0000\u0000\u0000\u0000\u0000\u0000\u0000\u0000\u0000\tSCONJ\tPAAL\tככי\n",
      "עַל\u0000\u0000\u0000\u0000\u0000\u0000\u0000\u0000\u0000\u0000\u0000\u0000\u0000\u0000\u0000\u0000\u0000\tADP\tPAAL\tעלל\n",
      "הַוַּועֲדָה\u0000\u0000\u0000\u0000\u0000\u0000\u0000\u0000\u0000\tNOUN\tHUFAL\tיעד\n",
      "לִפְנוֹת\u0000\u0000\u0000\u0000\u0000\u0000\u0000\u0000\u0000\u0000\u0000\u0000\tVERB\tPIEL\tפני\n",
      "לַמֶּמְשָׁלָה\u0000\u0000\u0000\u0000\u0000\u0000\u0000\tNOUN\tPIEL\tממש\n",
      "בִּדְרִישָׁה\u0000\u0000\u0000\u0000\u0000\u0000\u0000\u0000\tNOUN\tHIFIL\tדרש\n",
      "לְחַסֵּל\u0000\u0000\u0000\u0000\u0000\u0000\u0000\u0000\u0000\u0000\u0000\u0000\tVERB\tPIEL\tחסל\n",
      "אֶת\u0000\u0000\u0000\u0000\u0000\u0000\u0000\u0000\u0000\u0000\u0000\u0000\u0000\u0000\u0000\u0000\u0000\tADP\tPAAL\tאחת\n",
      "הַעֲסָקַת\u0000\u0000\u0000\u0000\u0000\u0000\u0000\u0000\u0000\u0000\u0000\tNOUN\tHIFIL\tעסק\n",
      "הָעוֹבְדִים\u0000\u0000\u0000\u0000\u0000\u0000\u0000\u0000\u0000\tNOUN\tPAAL\tעבד\n",
      "הַזָּרִים\u0000\u0000\u0000\u0000\u0000\u0000\u0000\u0000\u0000\u0000\u0000\tADJ\tPAAL\tזרר\n",
      "לְאַלְתָּר,\u0000\u0000\u0000\u0000\u0000\u0000\u0000\u0000\u0000\tPROPN\tPIEL\tאתר\n",
      "עַל\u0000\u0000\u0000\u0000\u0000\u0000\u0000\u0000\u0000\u0000\u0000\u0000\u0000\u0000\u0000\u0000\u0000\tADP\tPAAL\tעלל\n",
      "רֶקַע\u0000\u0000\u0000\u0000\u0000\u0000\u0000\u0000\u0000\u0000\u0000\u0000\u0000\u0000\u0000\tNOUN\tPAAL\tרקע\n",
      "הֶיצֵּעַ\u0000\u0000\u0000\u0000\u0000\u0000\u0000\u0000\u0000\u0000\u0000\u0000\tNOUN\tPAAL\tיצע\n",
      "הָעוֹלִים\u0000\u0000\u0000\u0000\u0000\u0000\u0000\u0000\u0000\u0000\u0000\tNOUN\tPAAL\tעלי\n",
      "הַמּוּכָנִים\u0000\u0000\u0000\u0000\u0000\u0000\u0000\u0000\tVERB\tHUFAL\tככנ\n",
      "לַעֲבוֹד\u0000\u0000\u0000\u0000\u0000\u0000\u0000\u0000\u0000\u0000\u0000\u0000\tVERB\tPAAL\tעבד\n",
      "בְּכָל\u0000\u0000\u0000\u0000\u0000\u0000\u0000\u0000\u0000\u0000\u0000\u0000\u0000\u0000\tDET\tPAAL\tבכל\n",
      "עֲבוֹדָה\u0000\u0000\u0000\u0000\u0000\u0000\u0000\u0000\u0000\u0000\u0000\u0000\tNOUN\tPAAL\tעבד\n",
      "בִּשְׂכַר\u0000\u0000\u0000\u0000\u0000\u0000\u0000\u0000\u0000\u0000\u0000\tNOUN\tPAAL\tשׂכר\n",
      "הַמִּינִימוּם.\u0000\u0000\u0000\u0000\u0000\u0000\tNOUN\tHIFIL\tמומ\n",
      "\n",
      "לִדְבָרָיו,\u0000\u0000\u0000\u0000\u0000\u0000\u0000\u0000\u0000\tNOUN\tPIEL\tדרש\n",
      "יֵשׁ\u0000\u0000\u0000\u0000\u0000\u0000\u0000\u0000\u0000\u0000\u0000\u0000\u0000\u0000\u0000\u0000\tAUX\tPAAL\tשוש\n",
      "לִפְנוֹת\u0000\u0000\u0000\u0000\u0000\u0000\u0000\u0000\u0000\u0000\u0000\u0000\tVERB\tPIEL\tפני\n",
      "לְמִשְׂרַד\u0000\u0000\u0000\u0000\u0000\u0000\u0000\u0000\u0000\u0000\tNOUN\tPIEL\tשׂרד\n",
      "הָעֲבוֹדָה\u0000\u0000\u0000\u0000\u0000\u0000\u0000\u0000\u0000\u0000\tNOUN\tPAAL\tעבד\n",
      "וְהָרְוָוחָה\u0000\u0000\u0000\u0000\u0000\u0000\u0000\u0000\tNOUN\tPAAL\tרוח\n",
      "בִּדְרִישָׁה\u0000\u0000\u0000\u0000\u0000\u0000\u0000\u0000\tNOUN\tHIFIL\tדרש\n",
      "לְבַטֵּל\u0000\u0000\u0000\u0000\u0000\u0000\u0000\u0000\u0000\u0000\u0000\u0000\tVERB\tPIEL\tבטל\n",
      "בְּתוֹךְ\u0000\u0000\u0000\u0000\u0000\u0000\u0000\u0000\u0000\u0000\u0000\u0000\tADP\tPAAL\tבוכ\n",
      "חוֹדֶשׁ\u0000\u0000\u0000\u0000\u0000\u0000\u0000\u0000\u0000\u0000\u0000\u0000\u0000\tNOUN\tPAAL\tחדש\n",
      "אֶת\u0000\u0000\u0000\u0000\u0000\u0000\u0000\u0000\u0000\u0000\u0000\u0000\u0000\u0000\u0000\u0000\u0000\tADP\tPAAL\tאמת\n",
      "עֲבוֹדַת\u0000\u0000\u0000\u0000\u0000\u0000\u0000\u0000\u0000\u0000\u0000\u0000\tNOUN\tPAAL\tעבד\n",
      "הָעוֹבְדִים\u0000\u0000\u0000\u0000\u0000\u0000\u0000\u0000\u0000\tNOUN\tPAAL\tעבד\n",
      "הַזָּרִים\u0000\u0000\u0000\u0000\u0000\u0000\u0000\u0000\u0000\u0000\u0000\tADJ\tPAAL\tזזר\n",
      "הַמּוּעֲסָקִים\u0000\u0000\u0000\u0000\u0000\u0000\tVERB\tHUFAL\tעסק\n",
      "כַּיּוֹם\u0000\u0000\u0000\u0000\u0000\u0000\u0000\u0000\u0000\u0000\u0000\u0000\tADV\tPAAL\tכימ\n",
      "תַּחַת\u0000\u0000\u0000\u0000\u0000\u0000\u0000\u0000\u0000\u0000\u0000\u0000\u0000\u0000\tADP\tHIFIL\tחחת\n",
      "הַכּוֹתֶרֶת\u0000\u0000\u0000\u0000\u0000\u0000\u0000\u0000\u0000\tNOUN\tPAAL\tכתר\n",
      "\"מִתְנַדְּבִים\".\u0000\u0000\u0000\u0000\tNOUN\tHITPAEL\tדדב\n",
      "\n",
      "חַ\"כּ\u0000\u0000\u0000\u0000\u0000\u0000\u0000\u0000\u0000\u0000\u0000\u0000\u0000\u0000\u0000\tNOUN\tPAAL\tחוכ\n",
      "יָאִיר\u0000\u0000\u0000\u0000\u0000\u0000\u0000\u0000\u0000\u0000\u0000\u0000\u0000\u0000\tPROPN\tHIFIL\tאור\n",
      "צְבָן\u0000\u0000\u0000\u0000\u0000\u0000\u0000\u0000\u0000\u0000\u0000\u0000\u0000\u0000\u0000\tADJ\tPAAL\tצונ\n",
      "(מִפָּם)\u0000\u0000\u0000\u0000\u0000\u0000\u0000\u0000\u0000\u0000\u0000\u0000\tPROPN\tPIEL\tפפמ\n",
      "אָמַר\u0000\u0000\u0000\u0000\u0000\u0000\u0000\u0000\u0000\u0000\u0000\u0000\u0000\u0000\u0000\tVERB\tPAAL\tאמר\n",
      "כִּי\u0000\u0000\u0000\u0000\u0000\u0000\u0000\u0000\u0000\u0000\u0000\u0000\u0000\u0000\u0000\u0000\tSCONJ\tPAAL\tככי\n",
      "פָּרַשַׁתָּ\u0000\u0000\u0000\u0000\u0000\u0000\u0000\u0000\u0000\tNOUN\tPAAL\tפרש\n",
      "הַמִּתְנַדְּבִים\u0000\u0000\u0000\u0000\tNOUN\tHITPAEL\tנדב\n",
      "הַתַּאִיְלַנְדִּיִּי\tADJ\tHITPAEL\tאאנ\n",
      "הִיא\u0000\u0000\u0000\u0000\u0000\u0000\u0000\u0000\u0000\u0000\u0000\u0000\u0000\u0000\u0000\u0000\tAUX\tHIFIL\tנוא\n",
      "\"כֶּתֶם\u0000\u0000\u0000\u0000\u0000\u0000\u0000\u0000\u0000\u0000\u0000\u0000\u0000\tNOUN\tPAAL\tככמ\n",
      "חָרְפָה\u0000\u0000\u0000\u0000\u0000\u0000\u0000\u0000\u0000\u0000\u0000\u0000\u0000\tVERB\tPAAL\tחרפ\n",
      "עַל\u0000\u0000\u0000\u0000\u0000\u0000\u0000\u0000\u0000\u0000\u0000\u0000\u0000\u0000\u0000\u0000\u0000\tADP\tPAAL\tעלי\n",
      "פַּרְצוּפֵנוֹ\u0000\u0000\u0000\u0000\u0000\u0000\u0000\tADP\tPIEL\tפרצ\n",
      "הַלְּאוּמִּי.\u0000\u0000\u0000\u0000\u0000\u0000\u0000\tADJ\tPAAL\tאאא\n",
      "\n",
      "הַמּוֹחַ\u0000\u0000\u0000\u0000\u0000\u0000\u0000\u0000\u0000\u0000\u0000\u0000\tNOUN\tPAAL\tמוח\n",
      "מִתְפַּלֵּץ\u0000\u0000\u0000\u0000\u0000\u0000\u0000\u0000\u0000\tVERB\tHITPAEL\tפלצ\n",
      "לֹא\u0000\u0000\u0000\u0000\u0000\u0000\u0000\u0000\u0000\u0000\u0000\u0000\u0000\u0000\u0000\u0000\u0000\tADV\tPAAL\tאאא\n",
      "רַק\u0000\u0000\u0000\u0000\u0000\u0000\u0000\u0000\u0000\u0000\u0000\u0000\u0000\u0000\u0000\u0000\u0000\tADV\tPAAL\tרקק\n",
      "מֵהַתּוֹפָעָה\u0000\u0000\u0000\u0000\u0000\u0000\u0000\tNOUN\tPUAL\tתפע\n",
      "הַמְּבִישָׁה\u0000\u0000\u0000\u0000\u0000\u0000\u0000\u0000\tADJ\tHIFIL\tבוש\n",
      "אֶלָּא\u0000\u0000\u0000\u0000\u0000\u0000\u0000\u0000\u0000\u0000\u0000\u0000\u0000\u0000\tCCONJ\tPAAL\tאלא\n",
      "גַּם\u0000\u0000\u0000\u0000\u0000\u0000\u0000\u0000\u0000\u0000\u0000\u0000\u0000\u0000\u0000\u0000\tADV\tPAAL\tגומ\n",
      "מִדַּרְכֵי\u0000\u0000\u0000\u0000\u0000\u0000\u0000\u0000\u0000\u0000\tNOUN\tPIEL\tדרכ\n",
      "הַהַעֲרָמָה.\u0000\u0000\u0000\u0000\u0000\u0000\u0000\u0000\tNOUN\tHIFIL\tערמ\n",
      "\n",
      "הָרֹאשׁ\u0000\u0000\u0000\u0000\u0000\u0000\u0000\u0000\u0000\u0000\u0000\u0000\u0000\tNOUN\tHIFIL\tראש\n",
      "הַיְּהוּדִי\u0000\u0000\u0000\u0000\u0000\u0000\u0000\u0000\u0000\tADJ\tHIFIL\tהדי\n",
      "מַמְצִיא\u0000\u0000\u0000\u0000\u0000\u0000\u0000\u0000\u0000\u0000\u0000\u0000\tVERB\tHIFIL\tמצא\n",
      "לָנוּ\u0000\u0000\u0000\u0000\u0000\u0000\u0000\u0000\u0000\u0000\u0000\u0000\u0000\u0000\u0000\tPRON\tPAAL\tלונ\n",
      "פָּטַנְטִים\u0000\u0000\u0000\u0000\u0000\u0000\u0000\u0000\u0000\tNOUN\tPAAL\tפטט\n",
      "בִּדְמוּת\u0000\u0000\u0000\u0000\u0000\u0000\u0000\u0000\u0000\u0000\u0000\tNOUN\tPAAL\tדדת\n",
      "מִתְנַדְּבִים,\u0000\u0000\u0000\u0000\u0000\u0000\tNOUN\tHITPAEL\tנדב\n",
      "הַמְּשׁוּלָּמִים\u0000\u0000\u0000\u0000\tADJ\tPUAL\tשלמ\n",
      "שָׂכָר\u0000\u0000\u0000\u0000\u0000\u0000\u0000\u0000\u0000\u0000\u0000\u0000\u0000\u0000\tNOUN\tPAAL\tשכר\n",
      "מַחְפֵיר\".\u0000\u0000\u0000\u0000\u0000\u0000\u0000\u0000\u0000\u0000\tPROPN\tPIEL\tחפר\n",
      "\n",
      "הוּא\u0000\u0000\u0000\u0000\u0000\u0000\u0000\u0000\u0000\u0000\u0000\u0000\u0000\u0000\u0000\u0000\tPRON\tHUFAL\tהוא\n",
      "קָרָא\u0000\u0000\u0000\u0000\u0000\u0000\u0000\u0000\u0000\u0000\u0000\u0000\u0000\u0000\u0000\tVERB\tPAAL\tקרא\n",
      "לְהַפְסָקַת\u0000\u0000\u0000\u0000\u0000\u0000\u0000\u0000\u0000\tNOUN\tPIEL\tפסק\n",
      "הַתּוֹפָעָה\u0000\u0000\u0000\u0000\u0000\u0000\u0000\u0000\u0000\tNOUN\tPAAL\tיפע\n",
      "וּלְמַתַּן\u0000\u0000\u0000\u0000\u0000\u0000\u0000\u0000\u0000\u0000\tNOUN\tPIEL\tמתנ\n",
      "תַּשְׁלוּמִים\u0000\u0000\u0000\u0000\u0000\u0000\u0000\tNOUN\tPAAL\tשלמ\n",
      "רֶטְרוֹאַקְטִיוִוֹיִ\tADJ\tPAAL\tררז\n",
      "לְתַאִיְלַנְדִּים,\u0000\u0000\tNOUN\tHITPAEL\tאדנ\n",
      "שֶׁיַּשְׁלִימוּ\u0000\u0000\u0000\u0000\u0000\tVERB\tHIFIL\tשלמ\n",
      "אֶת\u0000\u0000\u0000\u0000\u0000\u0000\u0000\u0000\u0000\u0000\u0000\u0000\u0000\u0000\u0000\u0000\u0000\tADP\tPIEL\tאחת\n",
      "שְׂכַר\u0000\u0000\u0000\u0000\u0000\u0000\u0000\u0000\u0000\u0000\u0000\u0000\u0000\u0000\tNOUN\tPAAL\tשכר\n",
      "הַמִּינִימוּם.\u0000\u0000\u0000\u0000\u0000\u0000\tNOUN\tHIFIL\tמומ\n",
      "\n",
      "דּוֹבֶרֶת\u0000\u0000\u0000\u0000\u0000\u0000\u0000\u0000\u0000\u0000\u0000\tNOUN\tPAAL\tדבר\n",
      "שֵׁירוּת\u0000\u0000\u0000\u0000\u0000\u0000\u0000\u0000\u0000\u0000\u0000\u0000\tNOUN\tPAAL\tרות\n",
      "הַתַּעֲסוּקָה\u0000\u0000\u0000\u0000\u0000\u0000\u0000\tNOUN\tPAAL\tחסק\n",
      "מְסָרָה\u0000\u0000\u0000\u0000\u0000\u0000\u0000\u0000\u0000\u0000\u0000\u0000\u0000\tVERB\tPAAL\tמסר\n",
      "אֶתְמוֹל\u0000\u0000\u0000\u0000\u0000\u0000\u0000\u0000\u0000\u0000\u0000\u0000\tADV\tPAAL\tאמל\n",
      "בִּתְגוּבָה,\u0000\u0000\u0000\u0000\u0000\u0000\u0000\u0000\tNOUN\tHITPAEL\tגונ\n",
      "כִּי\u0000\u0000\u0000\u0000\u0000\u0000\u0000\u0000\u0000\u0000\u0000\u0000\u0000\u0000\u0000\u0000\tSCONJ\tPAAL\tככי\n",
      "הַשֵּׁירוּת\u0000\u0000\u0000\u0000\u0000\u0000\u0000\u0000\u0000\tNOUN\tPAAL\tרות\n",
      "פּוֹעֵל\u0000\u0000\u0000\u0000\u0000\u0000\u0000\u0000\u0000\u0000\u0000\u0000\u0000\tVERB\tPAAL\tפעל\n",
      "לְצִמְצוּם\u0000\u0000\u0000\u0000\u0000\u0000\u0000\u0000\u0000\u0000\tNOUN\tPAAL\tצממ\n",
      "מִסְפָּרָם\u0000\u0000\u0000\u0000\u0000\u0000\u0000\u0000\u0000\u0000\tADP\tPIEL\tספמ\n",
      "שֶׁל\u0000\u0000\u0000\u0000\u0000\u0000\u0000\u0000\u0000\u0000\u0000\u0000\u0000\u0000\u0000\u0000\tADP\tPAAL\tשלל\n",
      "הָעוֹבְדִים\u0000\u0000\u0000\u0000\u0000\u0000\u0000\u0000\u0000\tNOUN\tPAAL\tעבד\n",
      "הַזָּרִים\u0000\u0000\u0000\u0000\u0000\u0000\u0000\u0000\u0000\u0000\u0000\tADJ\tPAAL\tזזר\n",
      "וּלְהַכְנָסַת\u0000\u0000\u0000\u0000\u0000\u0000\u0000\tNOUN\tPIEL\tכנת\n",
      "עוֹלִים\u0000\u0000\u0000\u0000\u0000\u0000\u0000\u0000\u0000\u0000\u0000\u0000\u0000\tNOUN\tPAAL\tעלי\n",
      "חֲדָשִׁים\u0000\u0000\u0000\u0000\u0000\u0000\u0000\u0000\u0000\u0000\u0000\tADJ\tPAAL\tחדש\n",
      "בִּמְקוֹמָם.\u0000\u0000\u0000\u0000\u0000\u0000\u0000\u0000\tPRON\tPUAL\tמקמ\n",
      "\n",
      "\"לְאַחַר\u0000\u0000\u0000\u0000\u0000\u0000\u0000\u0000\u0000\u0000\u0000\u0000\tADP\tPIEL\tאחר\n",
      "פְּעִילוּת\u0000\u0000\u0000\u0000\u0000\u0000\u0000\u0000\u0000\u0000\tNOUN\tPIEL\tפעל\n",
      "נִמְרֶצֶת\u0000\u0000\u0000\u0000\u0000\u0000\u0000\u0000\u0000\u0000\u0000\tVERB\tNIFAL\tמצצ\n",
      "בַּשָּׁבוּעוֹת\u0000\u0000\u0000\u0000\u0000\u0000\tNOUN\tPAAL\tשבע\n",
      "הָאַחֲרוֹנִים,\u0000\u0000\u0000\u0000\u0000\u0000\tADJ\tPAAL\tארנ\n",
      "צוּמְצֵם\u0000\u0000\u0000\u0000\u0000\u0000\u0000\u0000\u0000\u0000\u0000\u0000\tVERB\tPUAL\tצמצמ\n",
      "מִסְפַּר\u0000\u0000\u0000\u0000\u0000\u0000\u0000\u0000\u0000\u0000\u0000\u0000\tDET\tPIEL\tספר\n",
      "הָעוֹבְדִים\u0000\u0000\u0000\u0000\u0000\u0000\u0000\u0000\u0000\tNOUN\tPAAL\tעבד\n",
      "הַזָּרִים\u0000\u0000\u0000\u0000\u0000\u0000\u0000\u0000\u0000\u0000\u0000\tADJ\tPAAL\tזזר\n",
      "בְּעָנָף\u0000\u0000\u0000\u0000\u0000\u0000\u0000\u0000\u0000\u0000\u0000\u0000\tNOUN\tPAAL\tבנפ\n",
      "הָאֲחָיוֹת\u0000\u0000\u0000\u0000\u0000\u0000\u0000\u0000\u0000\u0000\tNOUN\tPAAL\tאחת\n",
      "בְּ50%.\u0000\u0000\u0000\u0000\u0000\u0000\u0000\u0000\u0000\u0000\u0000\u0000\u0000\tNUM\tPAAL\tבלט\n",
      "\n",
      "עַד\u0000\u0000\u0000\u0000\u0000\u0000\u0000\u0000\u0000\u0000\u0000\u0000\u0000\u0000\u0000\u0000\u0000\tADP\tPAAL\tעעד\n",
      "סוֹף\u0000\u0000\u0000\u0000\u0000\u0000\u0000\u0000\u0000\u0000\u0000\u0000\u0000\u0000\u0000\u0000\tNOUN\tPAAL\tסספ\n",
      "הַשָּׁנָה\u0000\u0000\u0000\u0000\u0000\u0000\u0000\u0000\u0000\u0000\u0000\tNOUN\tHIFIL\tשני\n",
      "לֹא\u0000\u0000\u0000\u0000\u0000\u0000\u0000\u0000\u0000\u0000\u0000\u0000\u0000\u0000\u0000\u0000\u0000\tADV\tPAAL\tאאא\n",
      "תּוּעֲסַק\u0000\u0000\u0000\u0000\u0000\u0000\u0000\u0000\u0000\u0000\u0000\tVERB\tHUFAL\tעסק\n",
      "בְּאֶרֶץ\u0000\u0000\u0000\u0000\u0000\u0000\u0000\u0000\u0000\u0000\u0000\u0000\tNOUN\tPAAL\tבוצ\n",
      "אַף\u0000\u0000\u0000\u0000\u0000\u0000\u0000\u0000\u0000\u0000\u0000\u0000\u0000\u0000\u0000\u0000\u0000\tCCONJ\tPAAL\tאכפ\n",
      "אָחוֹת\u0000\u0000\u0000\u0000\u0000\u0000\u0000\u0000\u0000\u0000\u0000\u0000\u0000\u0000\tNOUN\tPAAL\tאחת\n",
      "כְּעוֹבֶדַת\u0000\u0000\u0000\u0000\u0000\u0000\u0000\u0000\u0000\tNOUN\tPAAL\tעבד\n",
      "זָרָה\".\u0000\u0000\u0000\u0000\u0000\u0000\u0000\u0000\u0000\u0000\u0000\u0000\u0000\tADJ\tPAAL\tזהי\n",
      "\n",
      "הַדּוֹבֶרֶת\u0000\u0000\u0000\u0000\u0000\u0000\u0000\u0000\u0000\tNOUN\tPAAL\tדבר\n",
      "אָמְרָה\u0000\u0000\u0000\u0000\u0000\u0000\u0000\u0000\u0000\u0000\u0000\u0000\u0000\tVERB\tPAAL\tאמר\n",
      "כִּי\u0000\u0000\u0000\u0000\u0000\u0000\u0000\u0000\u0000\u0000\u0000\u0000\u0000\u0000\u0000\u0000\tSCONJ\tPAAL\tככי\n",
      "הַשֵּׁירוּת\u0000\u0000\u0000\u0000\u0000\u0000\u0000\u0000\u0000\tNOUN\tHIFIL\tרות\n",
      "קוֹרֵא\u0000\u0000\u0000\u0000\u0000\u0000\u0000\u0000\u0000\u0000\u0000\u0000\u0000\u0000\tVERB\tPAAL\tקרא\n",
      "לְחַקְלָאִים\u0000\u0000\u0000\u0000\u0000\u0000\u0000\u0000\tNOUN\tPIEL\tחלא\n",
      "לִדְאוֹג\u0000\u0000\u0000\u0000\u0000\u0000\u0000\u0000\u0000\u0000\u0000\u0000\tVERB\tPAAL\tדאג\n",
      "לְעוֹבְדִים\u0000\u0000\u0000\u0000\u0000\u0000\u0000\u0000\u0000\tNOUN\tPAAL\tעבד\n",
      "יִשְׂרְאֵלִיִּים,\u0000\u0000\u0000\tADJ\tPAAL\tשלמ\n",
      "בִּמָקוֹם\u0000\u0000\u0000\u0000\u0000\u0000\u0000\u0000\u0000\u0000\u0000\tADP\tPAAL\tבקמ\n",
      "לְתַאיְלַנְדִּים.\u0000\u0000\u0000\tNOUN\tHITPAEL\tאדגד\n",
      "\n",
      "\"הַשֵּׁירוּת\u0000\u0000\u0000\u0000\u0000\u0000\u0000\u0000\tNOUN\tHIFIL\tשרי\n",
      "לֹא\u0000\u0000\u0000\u0000\u0000\u0000\u0000\u0000\u0000\u0000\u0000\u0000\u0000\u0000\u0000\u0000\u0000\tADV\tPAAL\tאאא\n",
      "שִׁינָּה\u0000\u0000\u0000\u0000\u0000\u0000\u0000\u0000\u0000\u0000\u0000\u0000\tVERB\tPIEL\tשני\n",
      "אֶת\u0000\u0000\u0000\u0000\u0000\u0000\u0000\u0000\u0000\u0000\u0000\u0000\u0000\u0000\u0000\u0000\u0000\tADP\tPAAL\tאחת\n",
      "הַמְּדִינִיּוּת\u0000\u0000\u0000\u0000\u0000\tNOUN\tHIFIL\tדונ\n",
      "בְּנוֹשֵׂא\u0000\u0000\u0000\u0000\u0000\u0000\u0000\u0000\u0000\u0000\tNOUN\tPAAL\tנשא\n",
      "הָעֲסָקַת\u0000\u0000\u0000\u0000\u0000\u0000\u0000\u0000\u0000\u0000\u0000\tNOUN\tPAAL\tעסק\n",
      "תַּאיְלַנְדִּים\u0000\u0000\u0000\u0000\u0000\tNOUN\tNIFAL\tאשד\n",
      "בְּחַקְלָאוּת,\u0000\u0000\u0000\u0000\u0000\u0000\tNOUN\tPIEL\tחקא\n",
      "אֶלָּא\u0000\u0000\u0000\u0000\u0000\u0000\u0000\u0000\u0000\u0000\u0000\u0000\u0000\u0000\tCCONJ\tPAAL\tאלא\n",
      "לְהֵיפֶךְ,\u0000\u0000\u0000\u0000\u0000\u0000\u0000\u0000\u0000\u0000\tADV\tPIEL\tהפכ\n",
      "הוּא\u0000\u0000\u0000\u0000\u0000\u0000\u0000\u0000\u0000\u0000\u0000\u0000\u0000\u0000\u0000\u0000\tPRON\tHUFAL\tהוי\n",
      "הִבְהִיר\u0000\u0000\u0000\u0000\u0000\u0000\u0000\u0000\u0000\u0000\u0000\u0000\tVERB\tHIFIL\tבהר\n",
      "לִתְנוּעַת\u0000\u0000\u0000\u0000\u0000\u0000\u0000\u0000\u0000\u0000\tNOUN\tPAAL\tנעי\n",
      "הַמּוֹשָׁבִים\u0000\u0000\u0000\u0000\u0000\u0000\u0000\tNOUN\tHUFAL\tישב\n",
      "שֶׁכָּל\u0000\u0000\u0000\u0000\u0000\u0000\u0000\u0000\u0000\u0000\u0000\u0000\u0000\tDET\tPAAL\tככל\n",
      "עוֹבֵד\u0000\u0000\u0000\u0000\u0000\u0000\u0000\u0000\u0000\u0000\u0000\u0000\u0000\u0000\tNOUN\tPAAL\tעבד\n",
      "יִשְׂרְאֵלִי\u0000\u0000\u0000\u0000\u0000\u0000\u0000\u0000\tADJ\tPAAL\tשאל\n",
      "שֶׁיַּסְכִּים\u0000\u0000\u0000\u0000\u0000\u0000\u0000\tVERB\tPIEL\tסכמ\n",
      "לַעֲבוֹד\u0000\u0000\u0000\u0000\u0000\u0000\u0000\u0000\u0000\u0000\u0000\u0000\tVERB\tPAAL\tעבד\n",
      "בְּעָנָף\u0000\u0000\u0000\u0000\u0000\u0000\u0000\u0000\u0000\u0000\u0000\u0000\tNOUN\tPAAL\tבנפ\n",
      "הַחַקְלָאוּת,\u0000\u0000\u0000\u0000\u0000\u0000\u0000\tNOUN\tPAAL\tחלא\n",
      "יְשׁוּבֵּץ\u0000\u0000\u0000\u0000\u0000\u0000\u0000\u0000\u0000\u0000\tVERB\tPUAL\tשבצ\n",
      "לַעֲבוֹדָה\u0000\u0000\u0000\u0000\u0000\u0000\u0000\u0000\u0000\u0000\tNOUN\tPAAL\tעבד\n",
      "לְאַלְתָּר\".\u0000\u0000\u0000\u0000\u0000\u0000\u0000\u0000\tPROPN\tPIEL\tארלר\n",
      "\n",
      "מַאֲמָרוֹ\u0000\u0000\u0000\u0000\u0000\u0000\u0000\u0000\u0000\u0000\u0000\tADP\tPIEL\tאמר\n",
      "שֶׁל\u0000\u0000\u0000\u0000\u0000\u0000\u0000\u0000\u0000\u0000\u0000\u0000\u0000\u0000\u0000\u0000\tADP\tPAAL\tשלל\n",
      "תּוֹם\u0000\u0000\u0000\u0000\u0000\u0000\u0000\u0000\u0000\u0000\u0000\u0000\u0000\u0000\u0000\tPROPN\tPAAL\tתומ\n",
      "שֶׁגַב,\u0000\u0000\u0000\u0000\u0000\u0000\u0000\u0000\u0000\u0000\u0000\u0000\u0000\tPROPN\tPAAL\tגבב\n",
      "\"הַקְּרָב\u0000\u0000\u0000\u0000\u0000\u0000\u0000\u0000\u0000\u0000\u0000\tNOUN\tHIFIL\tקרב\n",
      "עַל\u0000\u0000\u0000\u0000\u0000\u0000\u0000\u0000\u0000\u0000\u0000\u0000\u0000\u0000\u0000\u0000\u0000\tADP\tPAAL\tעלי\n",
      "סַן\u0000\u0000\u0000\u0000\u0000\u0000\u0000\u0000\u0000\u0000\u0000\u0000\u0000\u0000\u0000\u0000\u0000\tNOUN\tPAAL\tסונ\n",
      "סַימוֹן\u0000\u0000\u0000\u0000\u0000\u0000\u0000\u0000\u0000\u0000\u0000\u0000\u0000\tNOUN\tPAAL\tסמנ\n",
      "הָיָה\u0000\u0000\u0000\u0000\u0000\u0000\u0000\u0000\u0000\u0000\u0000\u0000\u0000\u0000\u0000\tAUX\tPAAL\tהיי\n",
      "אוֹ\u0000\u0000\u0000\u0000\u0000\u0000\u0000\u0000\u0000\u0000\u0000\u0000\u0000\u0000\u0000\u0000\u0000\tCCONJ\tPAAL\tאאא\n",
      "לֹא\u0000\u0000\u0000\u0000\u0000\u0000\u0000\u0000\u0000\u0000\u0000\u0000\u0000\u0000\u0000\u0000\u0000\tADV\tPAAL\tאאא\n",
      "הָיָה\"\u0000\u0000\u0000\u0000\u0000\u0000\u0000\u0000\u0000\u0000\u0000\u0000\u0000\u0000\tAUX\tPAAL\tהיי\n",
      "(\"הָאָרֶץ\"\u0000\u0000\u0000\u0000\u0000\u0000\u0000\u0000\u0000\u0000\tNOUN\tPAAL\tארצ\n",
      "105),\u0000\u0000\u0000\u0000\u0000\u0000\u0000\u0000\u0000\u0000\u0000\u0000\u0000\u0000\u0000\tNUM\tPAAL\tעוי\n",
      "הִגִּיעַ\u0000\u0000\u0000\u0000\u0000\u0000\u0000\u0000\u0000\u0000\u0000\u0000\tVERB\tHIFIL\tנגע\n",
      "לִידִי\u0000\u0000\u0000\u0000\u0000\u0000\u0000\u0000\u0000\u0000\u0000\u0000\u0000\u0000\tPRON\tHIFIL\tלוד\n",
      "רַק\u0000\u0000\u0000\u0000\u0000\u0000\u0000\u0000\u0000\u0000\u0000\u0000\u0000\u0000\u0000\u0000\u0000\tADV\tPAAL\tרקק\n",
      "בְּיָמִים\u0000\u0000\u0000\u0000\u0000\u0000\u0000\u0000\u0000\u0000\u0000\tNOUN\tPAAL\tבימ\n",
      "אֵלֶּה.\u0000\u0000\u0000\u0000\u0000\u0000\u0000\u0000\u0000\u0000\u0000\u0000\u0000\tPRON\tPAAL\tאלי\n",
      "\n",
      "לַמְרוֹת\u0000\u0000\u0000\u0000\u0000\u0000\u0000\u0000\u0000\u0000\u0000\u0000\tADP\tPAAL\tפמר\n",
      "שֶׁחָלְפוּ\u0000\u0000\u0000\u0000\u0000\u0000\u0000\u0000\u0000\u0000\tVERB\tPAAL\tחלפ\n",
      "מֵאָז\u0000\u0000\u0000\u0000\u0000\u0000\u0000\u0000\u0000\u0000\u0000\u0000\u0000\u0000\u0000\tADV\tPAAL\tמוז\n",
      "24\u0000\u0000\u0000\u0000\u0000\u0000\u0000\u0000\u0000\u0000\u0000\u0000\u0000\u0000\u0000\u0000\u0000\u0000\tNUM\tPAAL\tשוב\n",
      "שָׁנָה,\u0000\u0000\u0000\u0000\u0000\u0000\u0000\u0000\u0000\u0000\u0000\u0000\u0000\tNOUN\tPAAL\tשני\n",
      "וְלַמְרוֹת\u0000\u0000\u0000\u0000\u0000\u0000\u0000\u0000\u0000\u0000\tADP\tPAAL\tממר\n",
      "שֶׁאֵירוּעֵי\u0000\u0000\u0000\u0000\u0000\u0000\u0000\u0000\tNOUN\tPIEL\tארצ\n",
      "יָמִים\u0000\u0000\u0000\u0000\u0000\u0000\u0000\u0000\u0000\u0000\u0000\u0000\u0000\u0000\tNOUN\tPAAL\tמממ\n",
      "אֵלֶּה\u0000\u0000\u0000\u0000\u0000\u0000\u0000\u0000\u0000\u0000\u0000\u0000\u0000\u0000\tPRON\tPAAL\tאלי\n",
      "אוּלַי\u0000\u0000\u0000\u0000\u0000\u0000\u0000\u0000\u0000\u0000\u0000\u0000\u0000\u0000\tADV\tPAAL\tאלי\n",
      "מַאֲפִילִים\u0000\u0000\u0000\u0000\u0000\u0000\u0000\u0000\u0000\tVERB\tHIFIL\tאפל\n",
      "עַל\u0000\u0000\u0000\u0000\u0000\u0000\u0000\u0000\u0000\u0000\u0000\u0000\u0000\u0000\u0000\u0000\u0000\tADP\tPAAL\tעלל\n",
      "כָּל\u0000\u0000\u0000\u0000\u0000\u0000\u0000\u0000\u0000\u0000\u0000\u0000\u0000\u0000\u0000\u0000\tDET\tPAAL\tכלל\n",
      "דָּבָר\u0000\u0000\u0000\u0000\u0000\u0000\u0000\u0000\u0000\u0000\u0000\u0000\u0000\u0000\tNOUN\tPAAL\tדבר\n",
      "אַחֵר,\u0000\u0000\u0000\u0000\u0000\u0000\u0000\u0000\u0000\u0000\u0000\u0000\u0000\u0000\tADJ\tPAAL\tאחר\n",
      "אֲנִי\u0000\u0000\u0000\u0000\u0000\u0000\u0000\u0000\u0000\u0000\u0000\u0000\u0000\u0000\u0000\tPRON\tPAAL\tאננ\n",
      "מַרְגִּישׁ\u0000\u0000\u0000\u0000\u0000\u0000\u0000\u0000\u0000\u0000\tVERB\tHIFIL\tרגש\n",
      "חוֹבָה\u0000\u0000\u0000\u0000\u0000\u0000\u0000\u0000\u0000\u0000\u0000\u0000\u0000\u0000\tNOUN\tPAAL\tחבי\n",
      "בִּשְׁמָם\u0000\u0000\u0000\u0000\u0000\u0000\u0000\u0000\u0000\u0000\u0000\tNOUN\tPAAL\tשממ\n",
      "שֶׁל\u0000\u0000\u0000\u0000\u0000\u0000\u0000\u0000\u0000\u0000\u0000\u0000\u0000\u0000\u0000\u0000\tADP\tPAAL\tשלל\n",
      "הַחֲלָלִים,\u0000\u0000\u0000\u0000\u0000\u0000\u0000\u0000\u0000\tNOUN\tPAAL\tחלל\n",
      "הַפְּצוּעִים\u0000\u0000\u0000\u0000\u0000\u0000\u0000\u0000\tADJ\tPAAL\tפצע\n",
      "וְלוֹחֲמֵי\u0000\u0000\u0000\u0000\u0000\u0000\u0000\u0000\u0000\u0000\tNOUN\tPAAL\tלחנ\n",
      "הַקְּרָב\u0000\u0000\u0000\u0000\u0000\u0000\u0000\u0000\u0000\u0000\u0000\u0000\tNOUN\tPAAL\tקרב\n",
      "הַזֶּה,\u0000\u0000\u0000\u0000\u0000\u0000\u0000\u0000\u0000\u0000\u0000\u0000\u0000\tPRON\tPAAL\tזזי\n",
      "כְּאֶחָד\u0000\u0000\u0000\u0000\u0000\u0000\u0000\u0000\u0000\u0000\u0000\u0000\tNUM\tPAAL\tאחד\n",
      "שֶׁהָיָה\u0000\u0000\u0000\u0000\u0000\u0000\u0000\u0000\u0000\u0000\u0000\u0000\tAUX\tPAAL\tהיי\n",
      "שָׁם,\u0000\u0000\u0000\u0000\u0000\u0000\u0000\u0000\u0000\u0000\u0000\u0000\u0000\u0000\u0000\tADV\tPAAL\tשומ\n",
      "לְהִתְיַיחֵס\u0000\u0000\u0000\u0000\u0000\u0000\u0000\u0000\tVERB\tHITPAEL\tיחס\n",
      "לְמַאֲמָר.\u0000\u0000\u0000\u0000\u0000\u0000\u0000\u0000\u0000\u0000\tNOUN\tPIEL\tאמר\n",
      "\n",
      "קִטְעִי\u0000\u0000\u0000\u0000\u0000\u0000\u0000\u0000\u0000\u0000\u0000\u0000\u0000\tNOUN\tPAAL\tקעע\n",
      "הַמַּאֲמָר\u0000\u0000\u0000\u0000\u0000\u0000\u0000\u0000\u0000\u0000\tNOUN\tPIEL\tאמר\n",
      "הָעוֹסְקִים\u0000\u0000\u0000\u0000\u0000\u0000\u0000\u0000\u0000\tVERB\tPAAL\tעסק\n",
      "בְּקֶרֶב\u0000\u0000\u0000\u0000\u0000\u0000\u0000\u0000\u0000\u0000\u0000\u0000\tADP\tPAAL\tבקב\n",
      "עַצְמוֹ,\u0000\u0000\u0000\u0000\u0000\u0000\u0000\u0000\u0000\u0000\u0000\u0000\tPRON\tPAAL\tצצמ\n",
      "וְשָׁרַק\u0000\u0000\u0000\u0000\u0000\u0000\u0000\u0000\u0000\u0000\u0000\u0000\tVERB\tPAAL\tשרק\n",
      "אֲלֵיהֶם\u0000\u0000\u0000\u0000\u0000\u0000\u0000\u0000\u0000\u0000\u0000\u0000\tPRON\tPIEL\tאהמ\n",
      "אֶתְיַיחֵס,\u0000\u0000\u0000\u0000\u0000\u0000\u0000\u0000\u0000\tPROPN\tPIEL\tאחס\n",
      "מְאוּפְיָינִים\u0000\u0000\u0000\u0000\u0000\u0000\tVERB\tPUAL\tאפינ\n",
      "בְּחוֹסֶר\u0000\u0000\u0000\u0000\u0000\u0000\u0000\u0000\u0000\u0000\u0000\tNOUN\tPAAL\tבסר\n",
      "הִיגָּיוֹן\u0000\u0000\u0000\u0000\u0000\u0000\u0000\u0000\u0000\u0000\tNOUN\tPAAL\tגונ\n",
      "וּבְסִילּוּף\u0000\u0000\u0000\u0000\u0000\u0000\u0000\u0000\tNOUN\tPIEL\tבופ\n",
      "עוּבְדּוֹת,\u0000\u0000\u0000\u0000\u0000\u0000\u0000\u0000\u0000\tNOUN\tPAAL\tעבד\n",
      "וּמְעִידִים\u0000\u0000\u0000\u0000\u0000\u0000\u0000\u0000\u0000\tVERB\tHIFIL\tעוד\n",
      "עַל\u0000\u0000\u0000\u0000\u0000\u0000\u0000\u0000\u0000\u0000\u0000\u0000\u0000\u0000\u0000\u0000\u0000\tADP\tPAAL\tעלל\n",
      "הַכּוֹתֵב\u0000\u0000\u0000\u0000\u0000\u0000\u0000\u0000\u0000\u0000\u0000\tNOUN\tPAAL\tכתב\n",
      "כִּי\u0000\u0000\u0000\u0000\u0000\u0000\u0000\u0000\u0000\u0000\u0000\u0000\u0000\u0000\u0000\u0000\tSCONJ\tPAAL\tככי\n",
      "הוּא\u0000\u0000\u0000\u0000\u0000\u0000\u0000\u0000\u0000\u0000\u0000\u0000\u0000\u0000\u0000\u0000\tPRON\tHUFAL\tהוי\n",
      "מְשׁוּלָּל\u0000\u0000\u0000\u0000\u0000\u0000\u0000\u0000\u0000\u0000\tVERB\tPUAL\tשלל\n",
      "הֲבָנָה\u0000\u0000\u0000\u0000\u0000\u0000\u0000\u0000\u0000\u0000\u0000\u0000\u0000\tNOUN\tPAAL\tבננ\n",
      "טַקְטִית\u0000\u0000\u0000\u0000\u0000\u0000\u0000\u0000\u0000\u0000\u0000\u0000\tNOUN\tPAAL\tטטנ\n",
      "מִינִימָלִית\u0000\u0000\u0000\u0000\u0000\u0000\u0000\u0000\tADJ\tNIFAL\tמלל\n",
      "וְנִיסָּיוֹן\u0000\u0000\u0000\u0000\u0000\u0000\u0000\u0000\tNOUN\tNIFAL\tסונ\n",
      "קִרָבִי\u0000\u0000\u0000\u0000\u0000\u0000\u0000\u0000\u0000\u0000\u0000\u0000\u0000\tNOUN\tPAAL\tקרב\n",
      "מַשְׁמָעוּתִי.\u0000\u0000\u0000\u0000\u0000\u0000\tADJ\tHIFIL\tשמע\n",
      "\n",
      "וְכָעֵת\u0000\u0000\u0000\u0000\u0000\u0000\u0000\u0000\u0000\u0000\u0000\u0000\u0000\tADV\tPAAL\tכעת\n",
      "לְעוֹבְדוֹת\u0000\u0000\u0000\u0000\u0000\u0000\u0000\u0000\u0000\tNOUN\tPAAL\tעבד\n",
      "הַמְּצוּטָּטוֹת:\u0000\u0000\u0000\u0000\tVERB\tPUAL\tצטט\n",
      "כּוֹתֶרֶת\u0000\u0000\u0000\u0000\u0000\u0000\u0000\u0000\u0000\u0000\u0000\tNOUN\tPAAL\tכתר\n",
      "הַמַּאֲמָר,\u0000\u0000\u0000\u0000\u0000\u0000\u0000\u0000\u0000\tNOUN\tPAAL\tאמר\n",
      "\"הַקְּרָב\u0000\u0000\u0000\u0000\u0000\u0000\u0000\u0000\u0000\u0000\u0000\tNOUN\tPAAL\tקרב\n",
      "עַל\u0000\u0000\u0000\u0000\u0000\u0000\u0000\u0000\u0000\u0000\u0000\u0000\u0000\u0000\u0000\u0000\u0000\tADP\tPAAL\tעלל\n",
      "סַן\u0000\u0000\u0000\u0000\u0000\u0000\u0000\u0000\u0000\u0000\u0000\u0000\u0000\u0000\u0000\u0000\u0000\tNOUN\tPAAL\tסונ\n",
      "סַימוֹן:\u0000\u0000\u0000\u0000\u0000\u0000\u0000\u0000\u0000\u0000\u0000\u0000\tNOUN\tPAAL\tסמנ\n",
      "הָיָה\u0000\u0000\u0000\u0000\u0000\u0000\u0000\u0000\u0000\u0000\u0000\u0000\u0000\u0000\u0000\tAUX\tPAAL\tהיי\n",
      "לֹא\u0000\u0000\u0000\u0000\u0000\u0000\u0000\u0000\u0000\u0000\u0000\u0000\u0000\u0000\u0000\u0000\u0000\tADV\tPAAL\tאאא\n",
      "הָיָה\",\u0000\u0000\u0000\u0000\u0000\u0000\u0000\u0000\u0000\u0000\u0000\u0000\u0000\tAUX\tPAAL\tהיי\n",
      "מְרַמֶּזֶת\u0000\u0000\u0000\u0000\u0000\u0000\u0000\u0000\u0000\u0000\tVERB\tPIEL\tרמז\n",
      "כִּי\u0000\u0000\u0000\u0000\u0000\u0000\u0000\u0000\u0000\u0000\u0000\u0000\u0000\u0000\u0000\u0000\tSCONJ\tPAAL\tככי\n",
      "יִיתָּכֵן\u0000\u0000\u0000\u0000\u0000\u0000\u0000\u0000\u0000\u0000\u0000\tAUX\tNIFAL\tככנ\n",
      "שֶׁבְּמִנְזַר\u0000\u0000\u0000\u0000\u0000\u0000\u0000\tPROPN\tPIEL\tבזר\n",
      "כְּלָל\u0000\u0000\u0000\u0000\u0000\u0000\u0000\u0000\u0000\u0000\u0000\u0000\u0000\u0000\tADV\tPAAL\tכלל\n",
      "לֹא\u0000\u0000\u0000\u0000\u0000\u0000\u0000\u0000\u0000\u0000\u0000\u0000\u0000\u0000\u0000\u0000\u0000\tADV\tPAAL\tיאא\n",
      "הִתְנַהֵל\u0000\u0000\u0000\u0000\u0000\u0000\u0000\u0000\u0000\u0000\u0000\tVERB\tHITPAEL\tנהל\n",
      "קְרָב.\u0000\u0000\u0000\u0000\u0000\u0000\u0000\u0000\u0000\u0000\u0000\u0000\u0000\u0000\tNOUN\tPAAL\tקרב\n",
      "\n",
      "לְכָל\u0000\u0000\u0000\u0000\u0000\u0000\u0000\u0000\u0000\u0000\u0000\u0000\u0000\u0000\u0000\tDET\tPAAL\tככל\n",
      "אֵלֶּה\u0000\u0000\u0000\u0000\u0000\u0000\u0000\u0000\u0000\u0000\u0000\u0000\u0000\u0000\tPRON\tPAAL\tאלי\n",
      "הַמִּתְרַשְׁמִים\u0000\u0000\u0000\u0000\tVERB\tHITPAEL\tרשמ\n",
      "וּמִסְתַּפְּקִים\u0000\u0000\u0000\u0000\tVERB\tHITPAEL\tספק\n",
      "בִּקְרִיאַת\u0000\u0000\u0000\u0000\u0000\u0000\u0000\u0000\u0000\tNOUN\tPIEL\tברא\n",
      "הַכּוֹתֶרֶת\u0000\u0000\u0000\u0000\u0000\u0000\u0000\u0000\u0000\tNOUN\tPAAL\tכתר\n",
      "בִּלְבַד,\u0000\u0000\u0000\u0000\u0000\u0000\u0000\u0000\u0000\u0000\u0000\tADV\tPAAL\tבלד\n",
      "אֲנִי\u0000\u0000\u0000\u0000\u0000\u0000\u0000\u0000\u0000\u0000\u0000\u0000\u0000\u0000\u0000\tPRON\tHIFIL\tאננ\n",
      "יָכוֹל\u0000\u0000\u0000\u0000\u0000\u0000\u0000\u0000\u0000\u0000\u0000\u0000\u0000\u0000\tAUX\tPAAL\tיכל\n",
      "לְהַבְטִיחַ\u0000\u0000\u0000\u0000\u0000\u0000\u0000\u0000\u0000\tVERB\tHIFIL\tבטח\n",
      "שֶׁאָכֵן\u0000\u0000\u0000\u0000\u0000\u0000\u0000\u0000\u0000\u0000\u0000\u0000\tADV\tPIEL\tאכנ\n",
      "הִתְנַהֵל\u0000\u0000\u0000\u0000\u0000\u0000\u0000\u0000\u0000\u0000\u0000\tVERB\tHITPAEL\tנהל\n",
      "שָׁם\u0000\u0000\u0000\u0000\u0000\u0000\u0000\u0000\u0000\u0000\u0000\u0000\u0000\u0000\u0000\u0000\tADV\tPAAL\tשימ\n",
      "קְרָב,\u0000\u0000\u0000\u0000\u0000\u0000\u0000\u0000\u0000\u0000\u0000\u0000\u0000\u0000\tNOUN\tPAAL\tקרב\n",
      "וְהוּא\u0000\u0000\u0000\u0000\u0000\u0000\u0000\u0000\u0000\u0000\u0000\u0000\u0000\u0000\tPRON\tPAAL\tהוי\n",
      "הָיָה\u0000\u0000\u0000\u0000\u0000\u0000\u0000\u0000\u0000\u0000\u0000\u0000\u0000\u0000\u0000\tAUX\tPAAL\tהיי\n",
      "אֶחָד\u0000\u0000\u0000\u0000\u0000\u0000\u0000\u0000\u0000\u0000\u0000\u0000\u0000\u0000\u0000\tNUM\tPAAL\tאחד\n",
      "הַקָּשִׁים\u0000\u0000\u0000\u0000\u0000\u0000\u0000\u0000\u0000\u0000\tNOUN\tPAAL\tקשמ\n",
      "וְהַמְּפוֹאָרִים\u0000\u0000\u0000\u0000\tNOUN\tPUAL\tפפר\n",
      "בְּכָל\u0000\u0000\u0000\u0000\u0000\u0000\u0000\u0000\u0000\u0000\u0000\u0000\u0000\u0000\tDET\tPAAL\tבכל\n",
      "קְרָבוֹת\u0000\u0000\u0000\u0000\u0000\u0000\u0000\u0000\u0000\u0000\u0000\u0000\tNOUN\tPAAL\tקרב\n",
      "יִשְׂרָאֵל.\u0000\u0000\u0000\u0000\u0000\u0000\u0000\u0000\u0000\tPROPN\tNIFAL\tשאל\n",
      "\n",
      "וְעַל\u0000\u0000\u0000\u0000\u0000\u0000\u0000\u0000\u0000\u0000\u0000\u0000\u0000\u0000\u0000\tADP\tPAAL\tעלי\n",
      "כָּךְ\u0000\u0000\u0000\u0000\u0000\u0000\u0000\u0000\u0000\u0000\u0000\u0000\u0000\u0000\u0000\tPRON\tPAAL\tכככ\n",
      "תָּעִיד\u0000\u0000\u0000\u0000\u0000\u0000\u0000\u0000\u0000\u0000\u0000\u0000\u0000\tVERB\tHIFIL\tעוד\n",
      "הַהִיסְטוֹרְיָה,\u0000\u0000\u0000\u0000\tNOUN\tHITPAEL\tסוב\n",
      "וְיָעִידוּ\u0000\u0000\u0000\u0000\u0000\u0000\u0000\u0000\u0000\u0000\tVERB\tHIFIL\tיעד\n",
      "עַשְׂרוֹת\u0000\u0000\u0000\u0000\u0000\u0000\u0000\u0000\u0000\u0000\u0000\tNUM\tPAAL\tעשר\n",
      "הַלּוֹחֲמִים\u0000\u0000\u0000\u0000\u0000\u0000\u0000\u0000\tNOUN\tPAAL\tלחמ\n",
      "שֶׁנִּשְׁאֲרוּ\u0000\u0000\u0000\u0000\u0000\u0000\tVERB\tNIFAL\tשאר\n",
      "בַּחַיִּים\u0000\u0000\u0000\u0000\u0000\u0000\u0000\u0000\u0000\u0000\tNOUN\tPIEL\tחיי\n",
      "וְהִצְלִיחוּ\u0000\u0000\u0000\u0000\u0000\u0000\u0000\u0000\tVERB\tHIFIL\tצלח\n",
      "לְבַצֵּעַ\u0000\u0000\u0000\u0000\u0000\u0000\u0000\u0000\u0000\u0000\u0000\tVERB\tPIEL\tבצע\n",
      "אֶת\u0000\u0000\u0000\u0000\u0000\u0000\u0000\u0000\u0000\u0000\u0000\u0000\u0000\u0000\u0000\u0000\u0000\tADP\tPIEL\tאחת\n",
      "מְשִׂימָתָם\u0000\u0000\u0000\u0000\u0000\u0000\u0000\u0000\u0000\tADP\tPIEL\tשומ\n",
      "עַל\u0000\u0000\u0000\u0000\u0000\u0000\u0000\u0000\u0000\u0000\u0000\u0000\u0000\u0000\u0000\u0000\u0000\tADP\tPAAL\tעלל\n",
      "אַף\u0000\u0000\u0000\u0000\u0000\u0000\u0000\u0000\u0000\u0000\u0000\u0000\u0000\u0000\u0000\u0000\u0000\tCCONJ\tPAAL\tאכפ\n",
      "הָאֲבֵדוֹת\u0000\u0000\u0000\u0000\u0000\u0000\u0000\u0000\u0000\u0000\tNOUN\tPAAL\tאבד\n",
      "הַכְּבֵדוֹת.\u0000\u0000\u0000\u0000\u0000\u0000\u0000\u0000\tADJ\tPAAL\tכבד\n",
      "\n",
      "בְּמִלְחֶמֶת\u0000\u0000\u0000\u0000\u0000\u0000\u0000\u0000\tNOUN\tPIEL\tבחת\n",
      "הָעַצְמָאוּת,\u0000\u0000\u0000\u0000\u0000\u0000\u0000\tNOUN\tPAAL\tעצת\n",
      "בְּקֶרָב\u0000\u0000\u0000\u0000\u0000\u0000\u0000\u0000\u0000\u0000\u0000\u0000\tADP\tPAAL\tבקב\n",
      "עַל\u0000\u0000\u0000\u0000\u0000\u0000\u0000\u0000\u0000\u0000\u0000\u0000\u0000\u0000\u0000\u0000\u0000\tADP\tPAAL\tעלל\n",
      "יְרוּשָׁלַיִם,\u0000\u0000\u0000\u0000\u0000\u0000\tPROPN\tPUAL\tרלרמ\n",
      "נִשְׁאֲרָה\u0000\u0000\u0000\u0000\u0000\u0000\u0000\u0000\u0000\u0000\tVERB\tNIFAL\tשאר\n",
      "שְׁכוּנַת\u0000\u0000\u0000\u0000\u0000\u0000\u0000\u0000\u0000\u0000\u0000\tNOUN\tPUAL\tשתת\n",
      "קַטְמוֹן\u0000\u0000\u0000\u0000\u0000\u0000\u0000\u0000\u0000\u0000\u0000\u0000\tNOUN\tPAAL\tקמנ\n",
      "תְּקוּעָה\u0000\u0000\u0000\u0000\u0000\u0000\u0000\u0000\u0000\u0000\u0000\tNOUN\tPUAL\tקקע\n",
      "בְּלֵב\u0000\u0000\u0000\u0000\u0000\u0000\u0000\u0000\u0000\u0000\u0000\u0000\u0000\u0000\tNOUN\tPAAL\tבלב\n",
      "יְרוּשָׁלַיִם\u0000\u0000\u0000\u0000\u0000\u0000\u0000\tPROPN\tPUAL\tרלפמ\n",
      "הַמַּעֲרָבִית\u0000\u0000\u0000\u0000\u0000\u0000\u0000\tADJ\tHIFIL\tערב\n",
      "וְשִׁימְּשָׁה\u0000\u0000\u0000\u0000\u0000\u0000\u0000\tVERB\tPIEL\tשמש\n",
      "כְּמֶרְכַּז\u0000\u0000\u0000\u0000\u0000\u0000\u0000\u0000\u0000\tNOUN\tPIEL\tררז\n",
      "כּוֹחַ\u0000\u0000\u0000\u0000\u0000\u0000\u0000\u0000\u0000\u0000\u0000\u0000\u0000\u0000\tNOUN\tPAAL\tככח\n",
      "עַרְבִי\u0000\u0000\u0000\u0000\u0000\u0000\u0000\u0000\u0000\u0000\u0000\u0000\u0000\tNOUN\tPAAL\tערב\n",
      "רַב\u0000\u0000\u0000\u0000\u0000\u0000\u0000\u0000\u0000\u0000\u0000\u0000\u0000\u0000\u0000\u0000\u0000\tADJ\tPAAL\tררב\n",
      "וּמְאוּרְגָּן.\u0000\u0000\u0000\u0000\u0000\u0000\tAUX\tPUAL\tארגנ\n",
      "\n",
      "הַשֶּׁטַח\u0000\u0000\u0000\u0000\u0000\u0000\u0000\u0000\u0000\u0000\u0000\tNOUN\tHIFIL\tטטח\n",
      "הַחִיּוּנִי\u0000\u0000\u0000\u0000\u0000\u0000\u0000\u0000\u0000\tADJ\tHIFIL\tחונ\n",
      "שֶׁל\u0000\u0000\u0000\u0000\u0000\u0000\u0000\u0000\u0000\u0000\u0000\u0000\u0000\u0000\u0000\u0000\tADP\tPAAL\tשלל\n",
      "קַטְמוֹן\u0000\u0000\u0000\u0000\u0000\u0000\u0000\u0000\u0000\u0000\u0000\u0000\tPROPN\tPAAL\tקמנ\n",
      "לִשְׁלִיטָה\u0000\u0000\u0000\u0000\u0000\u0000\u0000\u0000\u0000\tNOUN\tPAAL\tשלט\n",
      "בְּאֵזוֹר\u0000\u0000\u0000\u0000\u0000\u0000\u0000\u0000\u0000\u0000\u0000\tNOUN\tPAAL\tאזר\n",
      "מְסוּיָּם\u0000\u0000\u0000\u0000\u0000\u0000\u0000\u0000\u0000\u0000\u0000\tADJ\tPUAL\tסימ\n",
      "אוֹ\u0000\u0000\u0000\u0000\u0000\u0000\u0000\u0000\u0000\u0000\u0000\u0000\u0000\u0000\u0000\u0000\u0000\tCCONJ\tPAAL\tאאא\n",
      "לְנִיצָּחוֹן\u0000\u0000\u0000\u0000\u0000\u0000\u0000\u0000\tNOUN\tNIFAL\tנצנ\n",
      "בְּקֶרֶב\u0000\u0000\u0000\u0000\u0000\u0000\u0000\u0000\u0000\u0000\u0000\u0000\tADP\tPAAL\tבקב\n",
      "הָיָה\u0000\u0000\u0000\u0000\u0000\u0000\u0000\u0000\u0000\u0000\u0000\u0000\u0000\u0000\u0000\tAUX\tPAAL\tהיי\n",
      "מִנְזֵר\u0000\u0000\u0000\u0000\u0000\u0000\u0000\u0000\u0000\u0000\u0000\u0000\u0000\tNOUN\tPAAL\tנזר\n",
      "סַן\u0000\u0000\u0000\u0000\u0000\u0000\u0000\u0000\u0000\u0000\u0000\u0000\u0000\u0000\u0000\u0000\u0000\tPROPN\tPAAL\tסננ\n",
      "סַימוֹן,\u0000\u0000\u0000\u0000\u0000\u0000\u0000\u0000\u0000\u0000\u0000\u0000\tPROPN\tPAAL\tסמנ\n",
      "וְלָכֵן\u0000\u0000\u0000\u0000\u0000\u0000\u0000\u0000\u0000\u0000\u0000\u0000\u0000\tADV\tPAAL\tככנ\n",
      "הָיָה\u0000\u0000\u0000\u0000\u0000\u0000\u0000\u0000\u0000\u0000\u0000\u0000\u0000\u0000\u0000\tAUX\tPAAL\tהיי\n",
      "עָלֵינוּ\u0000\u0000\u0000\u0000\u0000\u0000\u0000\u0000\u0000\u0000\u0000\u0000\tPRON\tPAAL\tעלי\n",
      "לְהִשְׁתַּלֵּט\u0000\u0000\u0000\u0000\u0000\u0000\tVERB\tHITPAEL\tשלט\n",
      "עָלָיו.\u0000\u0000\u0000\u0000\u0000\u0000\u0000\u0000\u0000\u0000\u0000\u0000\u0000\tPRON\tPAAL\tעלי\n",
      "\n",
      "כָּתוּב:\u0000\u0000\u0000\u0000\u0000\u0000\u0000\u0000\u0000\u0000\u0000\u0000\tVERB\tPAAL\tכתב\n",
      "\"בְּחוֹכְמָה\u0000\u0000\u0000\u0000\u0000\u0000\u0000\u0000\tNOUN\tPUAL\tבכב\n",
      "עָשָׂה\u0000\u0000\u0000\u0000\u0000\u0000\u0000\u0000\u0000\u0000\u0000\u0000\u0000\u0000\tVERB\tPAAL\tעשי\n",
      "לְךָ\u0000\u0000\u0000\u0000\u0000\u0000\u0000\u0000\u0000\u0000\u0000\u0000\u0000\u0000\u0000\u0000\tPRON\tPAAL\tהלכ\n",
      "מִלְחָמָה\".\u0000\u0000\u0000\u0000\u0000\u0000\u0000\u0000\u0000\tNOUN\tPIEL\tחמש\n",
      "\n"
     ]
    }
   ],
   "source": [
    "for b in dataset.test_dataloader():\n",
    "    text = b[0]\n",
    "    preds = model.predict(text)\n",
    "    for sent_id in range(len(text)):\n",
    "        for word_id in range(len(text[sent_id])):\n",
    "            if text[sent_id, word_id].sum() == 0:\n",
    "                break\n",
    "            line = [ud.Token.decode_label(label, pred[sent_id, word_id]) for label, pred in preds.items()]\n",
    "            word = ''.join(chr(int(x)) for x in text[sent_id, word_id].data.numpy())\n",
    "            root = ''.join([line[19], line[20], line[21], line[22]]).replace('.','')\n",
    "            print(word, line[12], line[7], root, sep='\\t')\n",
    "        print()\n",
    "    break"
   ]
  },
  {
   "cell_type": "code",
   "execution_count": null,
   "metadata": {},
   "outputs": [],
   "source": [
    "trainer.test(model, test_dataloaders=dataset.test_dataloader())"
   ]
  },
  {
   "cell_type": "code",
   "execution_count": null,
   "metadata": {},
   "outputs": [],
   "source": [
    "dataset.data_train[:][2]"
   ]
  },
  {
   "cell_type": "code",
   "execution_count": null,
   "metadata": {},
   "outputs": [],
   "source": [
    "label_map = {name: ud.Token.class_size(name) for name in [\n",
    "#     'Abbr',\n",
    "    'Case',\n",
    "    'Cconj',\n",
    "    'Det',\n",
    "#     'Definite',\n",
    "    'Gender',\n",
    "#     'HebExistential',\n",
    "#     'HebSource',\n",
    "    'HebBinyan',\n",
    "#     'Mood',\n",
    "    'Number',\n",
    "    'Person',\n",
    "#     'Polarity',\n",
    "    'Pos',\n",
    "#     'Prefix',\n",
    "    'PronGender',\n",
    "    'PronNumber',\n",
    "    'PronPerson',\n",
    "    'PronType',\n",
    "#     'Reflex',\n",
    "    'R1',\n",
    "    'R2',\n",
    "    'R3',\n",
    "    'R4',\n",
    "    'Tense',\n",
    "#     'VerbForm',\n",
    "    'VerbType',\n",
    "    'Voice',\n",
    "]}"
   ]
  }
 ],
 "metadata": {
  "kernelspec": {
   "display_name": "Python 3",
   "language": "python",
   "name": "python3"
  },
  "language_info": {
   "codemirror_mode": {
    "name": "ipython",
    "version": 3
   },
   "file_extension": ".py",
   "mimetype": "text/x-python",
   "name": "python",
   "nbconvert_exporter": "python",
   "pygments_lexer": "ipython3",
   "version": "3.8.2"
  }
 },
 "nbformat": 4,
 "nbformat_minor": 4
}
