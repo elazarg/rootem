{
 "cells": [
  {
   "cell_type": "code",
   "execution_count": 1,
   "metadata": {},
   "outputs": [],
   "source": [
    "%load_ext autoreload\n",
    "%autoreload 2"
   ]
  },
  {
   "cell_type": "code",
   "execution_count": 2,
   "metadata": {},
   "outputs": [
    {
     "name": "stderr",
     "output_type": "stream",
     "text": [
      "C:\\Users\\elaza\\AppData\\Roaming\\Python\\Python38\\site-packages\\pytorch_lightning\\utilities\\distributed.py:23: UserWarning: Unsupported `ReduceOp` for distributed computing.\n",
      "  warnings.warn(*args, **kwargs)\n"
     ]
    }
   ],
   "source": [
    "import numpy as np\n",
    "import wandb\n",
    "import torch\n",
    "import torch.nn as nn\n",
    "from torch.nn import functional as F\n",
    "\n",
    "import pytorch_lightning as pl\n",
    "\n",
    "import utils\n",
    "import ud\n",
    "import neural"
   ]
  },
  {
   "cell_type": "code",
   "execution_count": 3,
   "metadata": {},
   "outputs": [],
   "source": [
    "class ConlluDataModule(pl.LightningDataModule):\n",
    "\n",
    "    def __init__(self, train_filename, test_filename, batch_size=64, validation_size=300):\n",
    "        # TODO: use dev set instead of splitting validation\n",
    "        super().__init__()\n",
    "        SENTENCE_MAXLEN = 30\n",
    "        WORD_MAXLEN = 11\n",
    "        self.validation_size = validation_size\n",
    "        self.batch_size = batch_size\n",
    "        \n",
    "        train_data_x, train_data_y = ud.load_dataset(train_filename, ud.parse_opnlp, SENTENCE_MAXLEN, WORD_MAXLEN)\n",
    "        self.data_train_full = torch.utils.data.TensorDataset(torch.Tensor(train_data_x), *[torch.Tensor(y).to(torch.int64) for y in train_data_y])\n",
    "        \n",
    "        test_data_x, test_data_y = ud.load_dataset(test_filename, ud.parse_opnlp, SENTENCE_MAXLEN, WORD_MAXLEN)\n",
    "        self.data_test = torch.utils.data.TensorDataset(torch.Tensor(test_data_x), *[torch.Tensor(y).to(torch.int64) for y in test_data_y])\n",
    "\n",
    "    def prepare_data(self):\n",
    "        # No state assignment here\n",
    "        pass\n",
    "\n",
    "    def setup(self, stage=None):\n",
    "        if stage == 'fit' or stage is None:\n",
    "            self.data_train, self.data_val = torch.utils.data.random_split(self.data_train_full, [self.validation_size, len(self.data_train_full) - self.validation_size])\n",
    "            self.dims = tuple(self.data_train[0][0].shape)\n",
    "\n",
    "        if stage == 'test' or stage is None:\n",
    "            self.dims = tuple(self.data_test[0][0].shape)\n",
    "\n",
    "    def train_dataloader(self):\n",
    "        return torch.utils.data.DataLoader(self.data_train, batch_size=self.batch_size)\n",
    "\n",
    "    def val_dataloader(self):\n",
    "        return torch.utils.data.DataLoader(self.data_val, batch_size=self.batch_size)\n",
    "\n",
    "    def test_dataloader(self):\n",
    "        return torch.utils.data.DataLoader(self.data_test, batch_size=self.batch_size)"
   ]
  },
  {
   "cell_type": "code",
   "execution_count": 4,
   "metadata": {},
   "outputs": [],
   "source": [
    "NUM_EMBEDDING = 2000\n",
    "\n",
    "\n",
    "class SentenceModel(neural.UdModel):\n",
    "\n",
    "    def __init__(self, label_map, units=400, learning_rate=2e-3):\n",
    "        super().__init__()\n",
    "        self.save_hyperparameters()\n",
    "        \n",
    "        self.units = units\n",
    "\n",
    "        self.embed = nn.Embedding(num_embeddings=NUM_EMBEDDING, embedding_dim=units)\n",
    "        \n",
    "        self.char_lstm = neural.SumSharedBiLSTM(units)\n",
    "        \n",
    "        self.word_lstm = neural.SumBiLSTM(units)\n",
    "        \n",
    "        self.tasks = nn.ModuleDict([(label_name, nn.Linear(in_features=units, out_features=class_size))\n",
    "                                     for label_name, class_size in label_map.items()])\n",
    "        \n",
    "        self.norm = nn.BatchNorm1d(units, affine=False)\n",
    "\n",
    "    def forward(self, x):\n",
    "        BATCH_SIZE, SENT_MAXLEN, WORD_MAXLEN = x.shape\n",
    "        \n",
    "        x = x.to(torch.int64)\n",
    "        # x: (BATCH_SIZE, SENT_MAXLEN, WORD_MAXLEN)\n",
    "        \n",
    "        # Step 0: character embedding \n",
    "        \n",
    "        x = x.reshape(BATCH_SIZE * SENT_MAXLEN, WORD_MAXLEN)\n",
    "        # x: (BATCH_SIZE * SENT_MAXLEN, WORD_MAXLEN)\n",
    "\n",
    "        embeds = self.embed(x)\n",
    "        # embeds: (BATCH_SIZE * SENT_MAXLEN, WORD_MAXLEN, UNITS)\n",
    "        \n",
    "        embeds = embeds.permute([1, 0, 2])\n",
    "        # x: (WORD_MAXLEN, BATCH_SIZE * SENT_MAXLEN, UNITS)\n",
    "\n",
    "        \n",
    "        # STEP 1: character-level lstm -> word embedding\n",
    "        \n",
    "        _, char_hidden = self.char_lstm(embeds)\n",
    "        # char_hidden: (BATCH_SIZE * SENT_MAXLEN, UNITS)\n",
    "        char_hidden = self.norm(char_hidden)\n",
    "        \n",
    "        char_hidden = char_hidden.reshape(BATCH_SIZE, SENT_MAXLEN, -1)\n",
    "        # char_hidden: (BATCH_SIZE, SENT_MAXLEN, UNITS)\n",
    "        \n",
    "        char_hidden = char_hidden.permute([1, 0, 2])\n",
    "        # char_hidden: (SENT_MAXLEN, BATCH_SIZE, UNITS)\n",
    "\n",
    "        # STEP 2: sequence tagging using word-level lstm\n",
    "    \n",
    "        word_lstm_out, _ = self.word_lstm(char_hidden)\n",
    "        # word_lstm_out: (SENT_MAXLEN, BATCH_SIZE, UNITS)\n",
    "        \n",
    "        word_lstm_out = word_lstm_out.permute([1, 0, 2])\n",
    "        # word_lstm_out: (BATCH_SIZE, SENT_MAXLEN, UNITS)\n",
    "        \n",
    "        char_hidden = char_hidden.permute([1, 0, 2])\n",
    "        # char_hidden: (BATCH_SIZE, SENT_MAXLEN, UNITS)\n",
    "        \n",
    "        summed = word_lstm_out + char_hidden\n",
    "        # summed: (BATCH_SIZE, SENT_MAXLEN, UNITS)\n",
    "        \n",
    "        return {name: linear(summed).permute([0, 2, 1])\n",
    "                for name, linear in self.tasks.items()}\n",
    "  \n",
    "    def configure_optimizers(self):\n",
    "        optimizer = torch.optim.Adam(self.parameters(), lr=self.hparams.learning_rate)\n",
    "        # scheduler = torch.optim.lr_scheduler.MultiStepLR(optimizer, [4], gamma=0.5)\n",
    "        return [optimizer] # , [scheduler]\n"
   ]
  },
  {
   "cell_type": "code",
   "execution_count": 5,
   "metadata": {},
   "outputs": [],
   "source": [
    "dataset = ConlluDataModule(\n",
    "    f'../Hebrew_UD/he_htb-ud-train.conllu',\n",
    "    f'../Hebrew_UD/he_htb-ud-dev.conllu',\n",
    "    batch_size=64)\n",
    "dataset.setup()"
   ]
  },
  {
   "cell_type": "code",
   "execution_count": 7,
   "metadata": {},
   "outputs": [
    {
     "name": "stderr",
     "output_type": "stream",
     "text": [
      "GPU available: True, used: True\n",
      "TPU available: False, using: 0 TPU cores\n",
      "CUDA_VISIBLE_DEVICES: [0]\n"
     ]
    },
    {
     "data": {
      "text/html": [
       "\n",
       "                Logging results to <a href=\"https://wandb.com\" target=\"_blank\">Weights & Biases</a> <a href=\"https://docs.wandb.com/integrations/jupyter.html\" target=\"_blank\">(Documentation)</a>.<br/>\n",
       "                Project page: <a href=\"https://app.wandb.ai/elazarg/rootem\" target=\"_blank\">https://app.wandb.ai/elazarg/rootem</a><br/>\n",
       "                Run page: <a href=\"https://app.wandb.ai/elazarg/rootem/runs/1vx6sxbj\" target=\"_blank\">https://app.wandb.ai/elazarg/rootem/runs/1vx6sxbj</a><br/>\n",
       "            "
      ],
      "text/plain": [
       "<IPython.core.display.HTML object>"
      ]
     },
     "metadata": {},
     "output_type": "display_data"
    },
    {
     "name": "stderr",
     "output_type": "stream",
     "text": [
      "\n",
      "  | Name      | Type            | Params\n",
      "----------------------------------------------\n",
      "0 | embed     | Embedding       | 800 K \n",
      "1 | char_lstm | SumSharedBiLSTM | 2 M   \n",
      "2 | word_lstm | SumBiLSTM       | 2 M   \n",
      "3 | tasks     | ModuleDict      | 88 K  \n",
      "4 | norm      | BatchNorm1d     | 0     \n"
     ]
    },
    {
     "data": {
      "application/vnd.jupyter.widget-view+json": {
       "model_id": "",
       "version_major": 2,
       "version_minor": 0
      },
      "text/plain": [
       "HBox(children=(FloatProgress(value=1.0, bar_style='info', description='Validation sanity check', layout=Layout…"
      ]
     },
     "metadata": {},
     "output_type": "display_data"
    },
    {
     "data": {
      "application/vnd.jupyter.widget-view+json": {
       "model_id": "d32333e2296b44fe8465d6ff4cfb45d1",
       "version_major": 2,
       "version_minor": 0
      },
      "text/plain": [
       "HBox(children=(FloatProgress(value=1.0, bar_style='info', description='Training', layout=Layout(flex='2'), max…"
      ]
     },
     "metadata": {},
     "output_type": "display_data"
    },
    {
     "data": {
      "application/vnd.jupyter.widget-view+json": {
       "model_id": "",
       "version_major": 2,
       "version_minor": 0
      },
      "text/plain": [
       "HBox(children=(FloatProgress(value=1.0, bar_style='info', description='Validating', layout=Layout(flex='2'), m…"
      ]
     },
     "metadata": {},
     "output_type": "display_data"
    },
    {
     "name": "stderr",
     "output_type": "stream",
     "text": [
      "C:\\Users\\elaza\\AppData\\Roaming\\Python\\Python38\\site-packages\\pytorch_lightning\\utilities\\distributed.py:23: RuntimeWarning: The metric you returned None must be a `torch.Tensor` instance, checkpoint not saved HINT: what is the value of loss in validation_epoch_end()?\n",
      "  warnings.warn(*args, **kwargs)\n",
      "C:\\Users\\elaza\\AppData\\Roaming\\Python\\Python38\\site-packages\\pytorch_lightning\\utilities\\distributed.py:23: RuntimeWarning: Can save best model only with loss available, skipping.\n",
      "  warnings.warn(*args, **kwargs)\n"
     ]
    },
    {
     "data": {
      "application/vnd.jupyter.widget-view+json": {
       "model_id": "",
       "version_major": 2,
       "version_minor": 0
      },
      "text/plain": [
       "HBox(children=(FloatProgress(value=1.0, bar_style='info', description='Validating', layout=Layout(flex='2'), m…"
      ]
     },
     "metadata": {},
     "output_type": "display_data"
    },
    {
     "data": {
      "application/vnd.jupyter.widget-view+json": {
       "model_id": "",
       "version_major": 2,
       "version_minor": 0
      },
      "text/plain": [
       "HBox(children=(FloatProgress(value=1.0, bar_style='info', description='Validating', layout=Layout(flex='2'), m…"
      ]
     },
     "metadata": {},
     "output_type": "display_data"
    },
    {
     "data": {
      "application/vnd.jupyter.widget-view+json": {
       "model_id": "",
       "version_major": 2,
       "version_minor": 0
      },
      "text/plain": [
       "HBox(children=(FloatProgress(value=1.0, bar_style='info', description='Validating', layout=Layout(flex='2'), m…"
      ]
     },
     "metadata": {},
     "output_type": "display_data"
    },
    {
     "data": {
      "application/vnd.jupyter.widget-view+json": {
       "model_id": "",
       "version_major": 2,
       "version_minor": 0
      },
      "text/plain": [
       "HBox(children=(FloatProgress(value=1.0, bar_style='info', description='Validating', layout=Layout(flex='2'), m…"
      ]
     },
     "metadata": {},
     "output_type": "display_data"
    },
    {
     "data": {
      "application/vnd.jupyter.widget-view+json": {
       "model_id": "",
       "version_major": 2,
       "version_minor": 0
      },
      "text/plain": [
       "HBox(children=(FloatProgress(value=1.0, bar_style='info', description='Validating', layout=Layout(flex='2'), m…"
      ]
     },
     "metadata": {},
     "output_type": "display_data"
    },
    {
     "data": {
      "application/vnd.jupyter.widget-view+json": {
       "model_id": "",
       "version_major": 2,
       "version_minor": 0
      },
      "text/plain": [
       "HBox(children=(FloatProgress(value=1.0, bar_style='info', description='Validating', layout=Layout(flex='2'), m…"
      ]
     },
     "metadata": {},
     "output_type": "display_data"
    },
    {
     "data": {
      "application/vnd.jupyter.widget-view+json": {
       "model_id": "",
       "version_major": 2,
       "version_minor": 0
      },
      "text/plain": [
       "HBox(children=(FloatProgress(value=1.0, bar_style='info', description='Validating', layout=Layout(flex='2'), m…"
      ]
     },
     "metadata": {},
     "output_type": "display_data"
    },
    {
     "data": {
      "application/vnd.jupyter.widget-view+json": {
       "model_id": "",
       "version_major": 2,
       "version_minor": 0
      },
      "text/plain": [
       "HBox(children=(FloatProgress(value=1.0, bar_style='info', description='Validating', layout=Layout(flex='2'), m…"
      ]
     },
     "metadata": {},
     "output_type": "display_data"
    },
    {
     "data": {
      "application/vnd.jupyter.widget-view+json": {
       "model_id": "",
       "version_major": 2,
       "version_minor": 0
      },
      "text/plain": [
       "HBox(children=(FloatProgress(value=1.0, bar_style='info', description='Validating', layout=Layout(flex='2'), m…"
      ]
     },
     "metadata": {},
     "output_type": "display_data"
    },
    {
     "data": {
      "application/vnd.jupyter.widget-view+json": {
       "model_id": "",
       "version_major": 2,
       "version_minor": 0
      },
      "text/plain": [
       "HBox(children=(FloatProgress(value=1.0, bar_style='info', description='Validating', layout=Layout(flex='2'), m…"
      ]
     },
     "metadata": {},
     "output_type": "display_data"
    },
    {
     "data": {
      "application/vnd.jupyter.widget-view+json": {
       "model_id": "",
       "version_major": 2,
       "version_minor": 0
      },
      "text/plain": [
       "HBox(children=(FloatProgress(value=1.0, bar_style='info', description='Validating', layout=Layout(flex='2'), m…"
      ]
     },
     "metadata": {},
     "output_type": "display_data"
    },
    {
     "data": {
      "application/vnd.jupyter.widget-view+json": {
       "model_id": "",
       "version_major": 2,
       "version_minor": 0
      },
      "text/plain": [
       "HBox(children=(FloatProgress(value=1.0, bar_style='info', description='Validating', layout=Layout(flex='2'), m…"
      ]
     },
     "metadata": {},
     "output_type": "display_data"
    },
    {
     "data": {
      "application/vnd.jupyter.widget-view+json": {
       "model_id": "",
       "version_major": 2,
       "version_minor": 0
      },
      "text/plain": [
       "HBox(children=(FloatProgress(value=1.0, bar_style='info', description='Validating', layout=Layout(flex='2'), m…"
      ]
     },
     "metadata": {},
     "output_type": "display_data"
    },
    {
     "data": {
      "application/vnd.jupyter.widget-view+json": {
       "model_id": "",
       "version_major": 2,
       "version_minor": 0
      },
      "text/plain": [
       "HBox(children=(FloatProgress(value=1.0, bar_style='info', description='Validating', layout=Layout(flex='2'), m…"
      ]
     },
     "metadata": {},
     "output_type": "display_data"
    },
    {
     "data": {
      "application/vnd.jupyter.widget-view+json": {
       "model_id": "",
       "version_major": 2,
       "version_minor": 0
      },
      "text/plain": [
       "HBox(children=(FloatProgress(value=1.0, bar_style='info', description='Validating', layout=Layout(flex='2'), m…"
      ]
     },
     "metadata": {},
     "output_type": "display_data"
    },
    {
     "data": {
      "application/vnd.jupyter.widget-view+json": {
       "model_id": "",
       "version_major": 2,
       "version_minor": 0
      },
      "text/plain": [
       "HBox(children=(FloatProgress(value=1.0, bar_style='info', description='Validating', layout=Layout(flex='2'), m…"
      ]
     },
     "metadata": {},
     "output_type": "display_data"
    },
    {
     "data": {
      "application/vnd.jupyter.widget-view+json": {
       "model_id": "",
       "version_major": 2,
       "version_minor": 0
      },
      "text/plain": [
       "HBox(children=(FloatProgress(value=1.0, bar_style='info', description='Validating', layout=Layout(flex='2'), m…"
      ]
     },
     "metadata": {},
     "output_type": "display_data"
    },
    {
     "data": {
      "application/vnd.jupyter.widget-view+json": {
       "model_id": "",
       "version_major": 2,
       "version_minor": 0
      },
      "text/plain": [
       "HBox(children=(FloatProgress(value=1.0, bar_style='info', description='Validating', layout=Layout(flex='2'), m…"
      ]
     },
     "metadata": {},
     "output_type": "display_data"
    },
    {
     "data": {
      "application/vnd.jupyter.widget-view+json": {
       "model_id": "",
       "version_major": 2,
       "version_minor": 0
      },
      "text/plain": [
       "HBox(children=(FloatProgress(value=1.0, bar_style='info', description='Validating', layout=Layout(flex='2'), m…"
      ]
     },
     "metadata": {},
     "output_type": "display_data"
    },
    {
     "data": {
      "application/vnd.jupyter.widget-view+json": {
       "model_id": "",
       "version_major": 2,
       "version_minor": 0
      },
      "text/plain": [
       "HBox(children=(FloatProgress(value=1.0, bar_style='info', description='Validating', layout=Layout(flex='2'), m…"
      ]
     },
     "metadata": {},
     "output_type": "display_data"
    },
    {
     "data": {
      "application/vnd.jupyter.widget-view+json": {
       "model_id": "",
       "version_major": 2,
       "version_minor": 0
      },
      "text/plain": [
       "HBox(children=(FloatProgress(value=1.0, bar_style='info', description='Validating', layout=Layout(flex='2'), m…"
      ]
     },
     "metadata": {},
     "output_type": "display_data"
    },
    {
     "data": {
      "application/vnd.jupyter.widget-view+json": {
       "model_id": "",
       "version_major": 2,
       "version_minor": 0
      },
      "text/plain": [
       "HBox(children=(FloatProgress(value=1.0, bar_style='info', description='Validating', layout=Layout(flex='2'), m…"
      ]
     },
     "metadata": {},
     "output_type": "display_data"
    },
    {
     "data": {
      "application/vnd.jupyter.widget-view+json": {
       "model_id": "",
       "version_major": 2,
       "version_minor": 0
      },
      "text/plain": [
       "HBox(children=(FloatProgress(value=1.0, bar_style='info', description='Validating', layout=Layout(flex='2'), m…"
      ]
     },
     "metadata": {},
     "output_type": "display_data"
    },
    {
     "data": {
      "application/vnd.jupyter.widget-view+json": {
       "model_id": "",
       "version_major": 2,
       "version_minor": 0
      },
      "text/plain": [
       "HBox(children=(FloatProgress(value=1.0, bar_style='info', description='Validating', layout=Layout(flex='2'), m…"
      ]
     },
     "metadata": {},
     "output_type": "display_data"
    },
    {
     "data": {
      "application/vnd.jupyter.widget-view+json": {
       "model_id": "",
       "version_major": 2,
       "version_minor": 0
      },
      "text/plain": [
       "HBox(children=(FloatProgress(value=1.0, bar_style='info', description='Validating', layout=Layout(flex='2'), m…"
      ]
     },
     "metadata": {},
     "output_type": "display_data"
    },
    {
     "data": {
      "application/vnd.jupyter.widget-view+json": {
       "model_id": "",
       "version_major": 2,
       "version_minor": 0
      },
      "text/plain": [
       "HBox(children=(FloatProgress(value=1.0, bar_style='info', description='Validating', layout=Layout(flex='2'), m…"
      ]
     },
     "metadata": {},
     "output_type": "display_data"
    },
    {
     "data": {
      "application/vnd.jupyter.widget-view+json": {
       "model_id": "",
       "version_major": 2,
       "version_minor": 0
      },
      "text/plain": [
       "HBox(children=(FloatProgress(value=1.0, bar_style='info', description='Validating', layout=Layout(flex='2'), m…"
      ]
     },
     "metadata": {},
     "output_type": "display_data"
    },
    {
     "data": {
      "application/vnd.jupyter.widget-view+json": {
       "model_id": "",
       "version_major": 2,
       "version_minor": 0
      },
      "text/plain": [
       "HBox(children=(FloatProgress(value=1.0, bar_style='info', description='Validating', layout=Layout(flex='2'), m…"
      ]
     },
     "metadata": {},
     "output_type": "display_data"
    },
    {
     "data": {
      "application/vnd.jupyter.widget-view+json": {
       "model_id": "",
       "version_major": 2,
       "version_minor": 0
      },
      "text/plain": [
       "HBox(children=(FloatProgress(value=1.0, bar_style='info', description='Validating', layout=Layout(flex='2'), m…"
      ]
     },
     "metadata": {},
     "output_type": "display_data"
    },
    {
     "data": {
      "application/vnd.jupyter.widget-view+json": {
       "model_id": "",
       "version_major": 2,
       "version_minor": 0
      },
      "text/plain": [
       "HBox(children=(FloatProgress(value=1.0, bar_style='info', description='Validating', layout=Layout(flex='2'), m…"
      ]
     },
     "metadata": {},
     "output_type": "display_data"
    },
    {
     "data": {
      "application/vnd.jupyter.widget-view+json": {
       "model_id": "",
       "version_major": 2,
       "version_minor": 0
      },
      "text/plain": [
       "HBox(children=(FloatProgress(value=1.0, bar_style='info', description='Validating', layout=Layout(flex='2'), m…"
      ]
     },
     "metadata": {},
     "output_type": "display_data"
    },
    {
     "data": {
      "application/vnd.jupyter.widget-view+json": {
       "model_id": "",
       "version_major": 2,
       "version_minor": 0
      },
      "text/plain": [
       "HBox(children=(FloatProgress(value=1.0, bar_style='info', description='Validating', layout=Layout(flex='2'), m…"
      ]
     },
     "metadata": {},
     "output_type": "display_data"
    },
    {
     "data": {
      "application/vnd.jupyter.widget-view+json": {
       "model_id": "",
       "version_major": 2,
       "version_minor": 0
      },
      "text/plain": [
       "HBox(children=(FloatProgress(value=1.0, bar_style='info', description='Validating', layout=Layout(flex='2'), m…"
      ]
     },
     "metadata": {},
     "output_type": "display_data"
    },
    {
     "data": {
      "application/vnd.jupyter.widget-view+json": {
       "model_id": "",
       "version_major": 2,
       "version_minor": 0
      },
      "text/plain": [
       "HBox(children=(FloatProgress(value=1.0, bar_style='info', description='Validating', layout=Layout(flex='2'), m…"
      ]
     },
     "metadata": {},
     "output_type": "display_data"
    },
    {
     "data": {
      "application/vnd.jupyter.widget-view+json": {
       "model_id": "",
       "version_major": 2,
       "version_minor": 0
      },
      "text/plain": [
       "HBox(children=(FloatProgress(value=1.0, bar_style='info', description='Validating', layout=Layout(flex='2'), m…"
      ]
     },
     "metadata": {},
     "output_type": "display_data"
    },
    {
     "data": {
      "application/vnd.jupyter.widget-view+json": {
       "model_id": "",
       "version_major": 2,
       "version_minor": 0
      },
      "text/plain": [
       "HBox(children=(FloatProgress(value=1.0, bar_style='info', description='Validating', layout=Layout(flex='2'), m…"
      ]
     },
     "metadata": {},
     "output_type": "display_data"
    },
    {
     "data": {
      "application/vnd.jupyter.widget-view+json": {
       "model_id": "",
       "version_major": 2,
       "version_minor": 0
      },
      "text/plain": [
       "HBox(children=(FloatProgress(value=1.0, bar_style='info', description='Validating', layout=Layout(flex='2'), m…"
      ]
     },
     "metadata": {},
     "output_type": "display_data"
    },
    {
     "data": {
      "application/vnd.jupyter.widget-view+json": {
       "model_id": "",
       "version_major": 2,
       "version_minor": 0
      },
      "text/plain": [
       "HBox(children=(FloatProgress(value=1.0, bar_style='info', description='Validating', layout=Layout(flex='2'), m…"
      ]
     },
     "metadata": {},
     "output_type": "display_data"
    },
    {
     "data": {
      "application/vnd.jupyter.widget-view+json": {
       "model_id": "",
       "version_major": 2,
       "version_minor": 0
      },
      "text/plain": [
       "HBox(children=(FloatProgress(value=1.0, bar_style='info', description='Validating', layout=Layout(flex='2'), m…"
      ]
     },
     "metadata": {},
     "output_type": "display_data"
    },
    {
     "data": {
      "application/vnd.jupyter.widget-view+json": {
       "model_id": "",
       "version_major": 2,
       "version_minor": 0
      },
      "text/plain": [
       "HBox(children=(FloatProgress(value=1.0, bar_style='info', description='Validating', layout=Layout(flex='2'), m…"
      ]
     },
     "metadata": {},
     "output_type": "display_data"
    },
    {
     "data": {
      "application/vnd.jupyter.widget-view+json": {
       "model_id": "",
       "version_major": 2,
       "version_minor": 0
      },
      "text/plain": [
       "HBox(children=(FloatProgress(value=1.0, bar_style='info', description='Validating', layout=Layout(flex='2'), m…"
      ]
     },
     "metadata": {},
     "output_type": "display_data"
    },
    {
     "data": {
      "application/vnd.jupyter.widget-view+json": {
       "model_id": "",
       "version_major": 2,
       "version_minor": 0
      },
      "text/plain": [
       "HBox(children=(FloatProgress(value=1.0, bar_style='info', description='Validating', layout=Layout(flex='2'), m…"
      ]
     },
     "metadata": {},
     "output_type": "display_data"
    },
    {
     "data": {
      "application/vnd.jupyter.widget-view+json": {
       "model_id": "",
       "version_major": 2,
       "version_minor": 0
      },
      "text/plain": [
       "HBox(children=(FloatProgress(value=1.0, bar_style='info', description='Validating', layout=Layout(flex='2'), m…"
      ]
     },
     "metadata": {},
     "output_type": "display_data"
    },
    {
     "data": {
      "application/vnd.jupyter.widget-view+json": {
       "model_id": "",
       "version_major": 2,
       "version_minor": 0
      },
      "text/plain": [
       "HBox(children=(FloatProgress(value=1.0, bar_style='info', description='Validating', layout=Layout(flex='2'), m…"
      ]
     },
     "metadata": {},
     "output_type": "display_data"
    },
    {
     "data": {
      "application/vnd.jupyter.widget-view+json": {
       "model_id": "",
       "version_major": 2,
       "version_minor": 0
      },
      "text/plain": [
       "HBox(children=(FloatProgress(value=1.0, bar_style='info', description='Validating', layout=Layout(flex='2'), m…"
      ]
     },
     "metadata": {},
     "output_type": "display_data"
    },
    {
     "data": {
      "application/vnd.jupyter.widget-view+json": {
       "model_id": "",
       "version_major": 2,
       "version_minor": 0
      },
      "text/plain": [
       "HBox(children=(FloatProgress(value=1.0, bar_style='info', description='Validating', layout=Layout(flex='2'), m…"
      ]
     },
     "metadata": {},
     "output_type": "display_data"
    },
    {
     "data": {
      "application/vnd.jupyter.widget-view+json": {
       "model_id": "",
       "version_major": 2,
       "version_minor": 0
      },
      "text/plain": [
       "HBox(children=(FloatProgress(value=1.0, bar_style='info', description='Validating', layout=Layout(flex='2'), m…"
      ]
     },
     "metadata": {},
     "output_type": "display_data"
    },
    {
     "data": {
      "application/vnd.jupyter.widget-view+json": {
       "model_id": "",
       "version_major": 2,
       "version_minor": 0
      },
      "text/plain": [
       "HBox(children=(FloatProgress(value=1.0, bar_style='info', description='Validating', layout=Layout(flex='2'), m…"
      ]
     },
     "metadata": {},
     "output_type": "display_data"
    },
    {
     "data": {
      "application/vnd.jupyter.widget-view+json": {
       "model_id": "",
       "version_major": 2,
       "version_minor": 0
      },
      "text/plain": [
       "HBox(children=(FloatProgress(value=1.0, bar_style='info', description='Validating', layout=Layout(flex='2'), m…"
      ]
     },
     "metadata": {},
     "output_type": "display_data"
    },
    {
     "name": "stdout",
     "output_type": "stream",
     "text": [
      "\n"
     ]
    },
    {
     "data": {
      "text/plain": [
       "1"
      ]
     },
     "execution_count": 7,
     "metadata": {},
     "output_type": "execute_result"
    }
   ],
   "source": [
    "model = SentenceModel(ud.Token.label_map(), units=400, learning_rate=3e-3)\n",
    "model.char_lstm.load_state_dict(torch.load('models/verbs_sumsharedlstm.pth'))\n",
    "wandb_logger = pl.loggers.WandbLogger(project='rootem', group='ud-fix1', name=f'full')\n",
    "trainer = pl.Trainer(gpus=1, max_epochs=50, logger=wandb_logger)\n",
    "trainer.fit(model, dataset)"
   ]
  },
  {
   "cell_type": "code",
   "execution_count": 98,
   "metadata": {},
   "outputs": [],
   "source": [
    "sent = 'החשודים המשיכו בנסיעה ואחרי 700 מטר עצרו ליד בית נוסף, וירו עשרות קליעים על מכונית וקירות הבית. בני המשפחה הספיקו להימלט מהמקום.'.split()\n",
    "text = torch.Tensor([[utils.encode_word(word, 11) for word in sent]] * 2)  # .cuda()"
   ]
  },
  {
   "cell_type": "code",
   "execution_count": 99,
   "metadata": {},
   "outputs": [
    {
     "name": "stdout",
     "output_type": "stream",
     "text": [
      "Token\tAbbr\tCase\tCconj\tDet\tDefinit\tGender\tHebExis\tHebSour\tHebBiny\tMood\tNumber\tPerson\tPolarit\tPos\tPrefix\tPronGen\tPronNum\tPronPer\tPronTyp\tReflex\tR1\tR2\tR3\tR4\tTense\tVerbFor\tVerbTyp\tVoice\tXtra\n",
      "החשודים\tNo\tGen\tFalse\tTrue\tCons\tMasc\tNo\tConvUncertainLabel\tPAAL\tNo\tPlur\t1,2,3\tPos\tNOUN\tNo\tMasc\tPlur\t3\tInt\tNo\tח\tשׂ\tר\tד\tPast\tPart\tCop\tAct\tNo\n",
      "המשיכו\tNo\tAcc\tFalse\tTrue\tDef\tFem,Masc\tNo\tConvUncertainLabel\tHIFIL\tNo\tPlur\t3\tPos\tVERB\tNo\tMasc\tSing\t3\tInt\tNo\tמ\tש\t.\tכ\tPast\tPart\tMod\tAct\tJunk\n",
      "בנסיעה\tNo\tAcc\tFalse\tTrue\tDef\tFem\tNo\tConvUncertainHead\tNIFAL\tNo\tSing\t3\tNeg\tNOUN\tNo\tFem\tSing\t3\tPrs\tNo\tב\tס\tס\tע\tPast\tInf\tCop\tMid\tNo\n",
      "ואחרי\tNo\tAcc\tTrue\tFalse\tCons\tMasc\tNo\tConvUncertainLabel\tPAAL\tImp\tPlur\t1\tNeg\tSCONJ\tYes\tFem,Masc\tSing\t1\tDem\tNo\tא\tז\tר\tא\t_\tPart\tMod\tAct\tNo\n",
      "700\tYes\tTem\tFalse\tFalse\t_\t_\tTrue\t_\tPAAL\t_\tPlur,Sing\t_\t_\tNUM\tYes\tFem,Masc\tPlur,Sing\t2\tDem\t_\tג\tי\tד\tצ'\tPresent\t_\t_\t_\tJunk\n",
      "מטר\tYes\tGen\tFalse\tFalse\tCons\tMasc\tNo\tConvUncertainHead\tPAAL\tNo\tSing\t3\tNeg\tDET\tYes\tFem\tSing\t2\tInt\tNo\tט\tט\tפ\tר\tPast\tPart\tMod\tAct\tNo\n",
      "עצרו\tNo\tAcc\tFalse\tFalse\tDef\tFem,Masc\tNo\tConvUncertainHead\tPAAL\tNo\tPlur\t3\tNeg\tVERB\tNo\tMasc\tSing\t3\tEmp\tYes\tע\tצ\t.\tר\tPast\tInf\tMod\tMid\tNo\n",
      "ליד\tNo\tAcc\tFalse\tFalse\tCons\tFem,Masc\tNo\tConvUncertainHead\tPIEL\tNo\tSing\t3\tNeg\tADP\tYes\tFem,Masc\tSing\t2\tPrs\tNo\tי\tי\tי\tד\tPast\tInf\tCop\tAct\tNo\n",
      "בית\tNo\tAcc\tFalse\tFalse\tCons\tMasc\tNo\tConvUncertainHead\tPAAL\tNo\tSing\t2\tNeg\tDET\tNo\tFem\tSing\t3\tPrs\tNo\tב\tת\t.\tת\tPast\t_\tMod\tAct\tNo\n",
      "נוסף,\tNo\tTem\tFalse\tFalse\tCons\tMasc\tNo\tConvUncertainLabel\tPAAL\tNo\tSing\t1,2,3\tNeg\tADJ\tNo\tFem\tSing\t1\tPrs\tNo\tנ\tס\t.\tפ\tPast\tPart\tMod\tPass\tNo\n",
      "וירו\tNo\tTem\tTrue\tFalse\tDef\tFem,Masc\tTrue\t_\tPAAL\tNo\tPlur\t3\tPos\tVERB\tNo\tMasc\tSing\t3\tPrs\tNo\tה\tר\t.\tי\tFut\tInf\tCop\tAct\tNo\n",
      "עשרות\tNo\tGen\tFalse\tFalse\tCons\tFem\tNo\tConvUncertainHead\tPAAL\tNo\tPlur\t1,2,3\tNeg\tVERB\tNo\tFem\tSing\t3\tPrs\tNo\tע\tש\t.\tת\tPast\tPart\tMod\tAct\tNo\n",
      "קליעים\tNo\tGen\tFalse\tFalse\tCons\tFem\tNo\tConvUncertainHead\tHIFIL\tNo\tPlur\t1\tNeg\tADJ\tNo\tMasc\tPlur\t3\tPrs\tNo\tק\tל\t.\tכ\tFut\tInf\tMod\tAct\tNo\n",
      "על\tNo\tGen\tFalse\tFalse\tCons\tMasc\tNo\tConvUncertainHead\tPAAL\tNo\tSing\t3\tNeg\tADP\tNo\tFem\tSing\t3\tDem\tNo\tע\tל\tכ\tל\tPast\tInf\tMod\tAct\tNo\n",
      "מכונית\tNo\tAcc\tFalse\tFalse\tCons\tFem\tNo\tConvUncertainHead\tPIEL\tNo\tSing\t1,2,3\tNeg\tPROPN\tNo\tFem\tSing\t3\tInt\tNo\tכ\tכ\t.\tנ\tPast\tPart\tMod\tAct\tNo\n",
      "וקירות\t_\t_\tTrue\tTrue\tCons\tFem\tNo\tConvUncertainLabel\tPIEL\tImp\tPlur\t1,2,3\tPos\tNOUN\tNo\tFem,Masc\tSing\t1\t_\tNo\tק\tק\t.\tת\tPast\tPart\tMod\tAct\tNo\n",
      "הבית.\tYes\t_\tFalse\tTrue\tCons\tFem\tNo\tConvUncertainLabel\tHITPAEL\tNo\tSing\t1,2,3\tPos\tADV\tYes\tFem\tPlur\t3\tInt\tNo\tב\tב\t.\tצ\tPast\tPart\tCop\tAct\tNo\n",
      "בני\tNo\tAcc\tFalse\tFalse\tCons\tFem,Masc\tNo\tConvUncertainHead\tPAAL\tNo\tPlur\t1\tNeg\tNUM\tNo\tFem,Masc\tPlur\t1\tPrs\tNo\tב\tו\tש\tנ\tPresent\tInf\tCop\tMid\tNo\n",
      "המשפחה\tNo\tGen\tFalse\tTrue\tCons\tFem\tNo\tConvUncertainLabel\tHITPAEL\tNo\tSing\t1,2,3\tPos\tNOUN\tNo\tFem\tSing\t3\tInt\tNo\tש\tפ\tר\tש\tPast\tPart\tMod\tPass\tNo\n",
      "הספיקו\tNo\tAcc\tFalse\tTrue\tDef\tFem,Masc\tNo\tConvUncertainLabel\tHITPAEL\tNo\tPlur\t3\tPos\tVERB\tNo\tMasc\tSing\t3\tPrs\tNo\tס\tפ\t.\tק\tPast\tPart\tCop\tAct\tNo\n",
      "להימלט\tNo\tAcc\tFalse\tFalse\tDef\tFem,Masc\tNo\tConvUncertainHead\tNIFAL\tNo\tSing\t3\tPos\tVERB\tYes\tMasc\tPlur\t2\tPrs\tNo\tמ\tל\t.\tט\tFut\tInf\tCop\tMid\tNo\n",
      "מהמקום.\tNo\tGen\tFalse\tTrue\tDef\tMasc\tNo\tConvUncertainLabel\tPUAL\tNo\tSing\t1,2,3\tPos\tNOUN\tNo\tMasc\tPlur\t3\tInt\tNo\tק\tה\tז\tמ\tFut\tPart\tMod\tPass\tNo\n"
     ]
    }
   ],
   "source": [
    "res = [[ud.Token.decode_label(label, idx) for idx in value.argmax(1)[0]]\n",
    "        for label, value in model(text).items()]\n",
    "print('Token', *[f[:7] for f in ud.Token.labels()], sep='\\t')\n",
    "for item in zip(sent, *res):\n",
    "    print(*item, sep='\\t')\n"
   ]
  },
  {
   "cell_type": "code",
   "execution_count": null,
   "metadata": {},
   "outputs": [],
   "source": [
    "for s, p, b, *rs in zip(sent, pos, binyan, r1, r2, r4):\n",
    "    print(s, p, b, ''.join(rs), sep='\\t')"
   ]
  },
  {
   "cell_type": "code",
   "execution_count": null,
   "metadata": {},
   "outputs": [],
   "source": [
    "model = IndependentModel(300)\n",
    "trainer = pl.Trainer(gpus=1, auto_lr_find=True, max_epochs=10)\n",
    "lr_finder = trainer.lr_find(model, train_dataloader=dataset, min_lr=1e-5, early_stop_threshold=None)"
   ]
  },
  {
   "cell_type": "code",
   "execution_count": null,
   "metadata": {},
   "outputs": [],
   "source": [
    "fig = lr_finder.plot(suggest=True)"
   ]
  },
  {
   "cell_type": "code",
   "execution_count": null,
   "metadata": {},
   "outputs": [],
   "source": [
    "trainer.test(model, test_dataloaders=dataset.test_dataloader())"
   ]
  },
  {
   "cell_type": "code",
   "execution_count": 77,
   "metadata": {},
   "outputs": [
    {
     "data": {
      "text/plain": [
       "tensor([[0, 0, 0,  ..., 0, 0, 0],\n",
       "        [0, 0, 0,  ..., 0, 0, 0],\n",
       "        [0, 0, 0,  ..., 0, 0, 0],\n",
       "        ...,\n",
       "        [0, 0, 0,  ..., 0, 0, 0],\n",
       "        [0, 0, 0,  ..., 0, 0, 0],\n",
       "        [0, 0, 0,  ..., 0, 0, 0]])"
      ]
     },
     "execution_count": 77,
     "metadata": {},
     "output_type": "execute_result"
    }
   ],
   "source": [
    "dataset.data_train[:][2]"
   ]
  },
  {
   "cell_type": "code",
   "execution_count": null,
   "metadata": {},
   "outputs": [],
   "source": [
    "label_map = {name: ud.Token.class_size(name) for name in [\n",
    "#     'Abbr',\n",
    "    'Case',\n",
    "    'Cconj',\n",
    "    'Det',\n",
    "#     'Definite',\n",
    "    'Gender',\n",
    "#     'HebExistential',\n",
    "#     'HebSource',\n",
    "    'HebBinyan',\n",
    "#     'Mood',\n",
    "    'Number',\n",
    "    'Person',\n",
    "#     'Polarity',\n",
    "    'Pos',\n",
    "#     'Prefix',\n",
    "    'PronGender',\n",
    "    'PronNumber',\n",
    "    'PronPerson',\n",
    "    'PronType',\n",
    "#     'Reflex',\n",
    "    'R1',\n",
    "    'R2',\n",
    "    'R3',\n",
    "    'R4',\n",
    "    'Tense',\n",
    "#     'VerbForm',\n",
    "    'VerbType',\n",
    "    'Voice',\n",
    "]}"
   ]
  }
 ],
 "metadata": {
  "kernelspec": {
   "display_name": "Python 3",
   "language": "python",
   "name": "python3"
  },
  "language_info": {
   "codemirror_mode": {
    "name": "ipython",
    "version": 3
   },
   "file_extension": ".py",
   "mimetype": "text/x-python",
   "name": "python",
   "nbconvert_exporter": "python",
   "pygments_lexer": "ipython3",
   "version": "3.8.2"
  }
 },
 "nbformat": 4,
 "nbformat_minor": 4
}
